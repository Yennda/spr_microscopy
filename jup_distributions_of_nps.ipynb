{
 "cells": [
  {
   "cell_type": "code",
   "execution_count": 9,
   "metadata": {},
   "outputs": [],
   "source": [
    "import numpy as np\n",
    "import matplotlib.pyplot as plt\n",
    "import matplotlib\n",
    "\n",
    "from global_var import *\n",
    "from tools import readinfo, statistics"
   ]
  },
  {
   "cell_type": "code",
   "execution_count": 21,
   "metadata": {},
   "outputs": [],
   "source": [
    "matplotlib.rc('font', family='serif') \n",
    "matplotlib.rc('font', serif='Palatino Linotype') \n",
    "matplotlib.rc('text', usetex='false') \n",
    "matplotlib.rcParams.update({'font.size': 20})\n",
    "matplotlib.rcParams['mathtext.fontset'] = 'custom'\n",
    "matplotlib.rcParams['mathtext.rm'] = 'Palatino Linotype'\n",
    "matplotlib.rcParams['mathtext.it'] = 'Palatino Linotype:italic'\n",
    "matplotlib.rcParams['mathtext.bf'] = 'BiPalatino Linotype:bold'"
   ]
  },
  {
   "cell_type": "code",
   "execution_count": 77,
   "metadata": {},
   "outputs": [
    {
     "name": "stdout",
     "output_type": "stream",
     "text": [
      "\tx \ty \tcon \tI_np \tI_np px\tI_bg px\tstd\n",
      "17\t25.15\t10.14\t8.20\t23.66\t2.23\t0.27589\t0.41599\n",
      "n= 235\t10.16\t1.86\t3.95\t22.90\t1.06\t0.03056\t0.10621\n",
      "------------------------------------------------------------------\n"
     ]
    }
   ],
   "source": [
    "names = ['x', 'y', 'contrast', '$I_{NP}$', '$I_{NP}/px$', '$I_{BG}$', 'std']\n",
    "main_folder='C:/SPRUP_data_Jenda/2019_03_13_Jenda_microscopy/'\n",
    "folder=main_folder+'20_04_20_Q4/'\n",
    "\n",
    "print('\\tx \\ty \\tcon \\tI_np \\tI_np px\\tI_bg px\\tstd')\n",
    "file = folder + 'exports_np/' + 'raw_{:02.0f}_1'.format(17)\n",
    "\n",
    "info = readinfo(file)\n",
    "info_stat = statistics(info)\n",
    "print('{}\\t{:.02f}\\t{:.02f}\\t{:.02f}\\t{:.02f}\\t{:.02f}\\t{:.05f}\\t{:.05f}'.format(file[-4:-2], *info_stat[0]))\n",
    "print('n= {}\\t{:.02f}\\t{:.02f}\\t{:.02f}\\t{:.02f}\\t{:.02f}\\t{:.05f}\\t{:.05f}'.format(info_stat[2], *info_stat[1]))\n",
    "print('------------------------------------------------------------------')\n",
    "\n",
    "\n",
    "data = np.matrix(info)"
   ]
  },
  {
   "cell_type": "code",
   "execution_count": 78,
   "metadata": {},
   "outputs": [
    {
     "data": {
      "image/png": "[encoded data removed]",
      "text/plain": [
       "<Figure size 432x288 with 1 Axes>"
      ]
     },
     "metadata": {
      "needs_background": "light"
     },
     "output_type": "display_data"
    }
   ],
   "source": [
    "i = 2\n",
    "plot_data = data[:, i]\n",
    "\n",
    "fig, ax = plt.subplots()\n",
    "ax.set_title('Histogram: ' + names[i])\n",
    "ax.set_ylabel('#')\n",
    "ax.set_xlabel(names[i])\n",
    "\n",
    "bins = 10\n",
    "\n",
    "width = (np.max(plot_data) - np.min(plot_data))/bins*0.8\n",
    "\n",
    "_ = ax.hist(\n",
    "        plot_data, \n",
    "        bins,\n",
    "        width = width,\n",
    "        color = blue\n",
    "        )"
   ]
  },
  {
   "cell_type": "code",
   "execution_count": null,
   "metadata": {},
   "outputs": [],
   "source": []
  }
 ],
 "metadata": {
  "kernelspec": {
   "display_name": "Python 3",
   "language": "python",
   "name": "python3"
  },
  "language_info": {
   "codemirror_mode": {
    "name": "ipython",
    "version": 3
   },
   "file_extension": ".py",
   "mimetype": "text/x-python",
   "name": "python",
   "nbconvert_exporter": "python",
   "pygments_lexer": "ipython3",
   "version": "3.7.4"
  }
 },
 "nbformat": 4,
 "nbformat_minor": 4
}
