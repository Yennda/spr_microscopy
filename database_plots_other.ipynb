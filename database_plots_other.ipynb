{
 "cells": [
  {
   "cell_type": "code",
   "execution_count": 31,
   "metadata": {},
   "outputs": [],
   "source": [
    "import numpy as np\n",
    "import matplotlib.pyplot as plt\n",
    "import matplotlib\n",
    "import matplotlib.patches as mpatches\n",
    "from database_methods import Table, to_show, head\n",
    "\n",
    "from global_var import *\n",
    "import sqlite3\n",
    "con = sqlite3.connect('database_results.db')\n",
    "cursor = con.cursor()\n",
    "\n",
    "folder_save = 'C:/SPRUP_data_Jenda/2019_03_13_Jenda_microscopy/jupyter_figures/'"
   ]
  },
  {
   "cell_type": "code",
   "execution_count": 8,
   "metadata": {},
   "outputs": [],
   "source": [
    "matplotlib.rc('font', family='serif') \n",
    "matplotlib.rc('font', serif='Palatino Linotype') \n",
    "matplotlib.rc('text', usetex='false') \n",
    "matplotlib.rcParams.update({'font.size': 20})"
   ]
  },
  {
   "cell_type": "code",
   "execution_count": 55,
   "metadata": {},
   "outputs": [],
   "source": [
    "def spr_spectrum(folder, what = 'q'):\n",
    "    main_folder='C:/SPRUP_data_Jenda/2019_03_13_Jenda_microscopy/'\n",
    "    with open(main_folder + folder+'spectra_{}.txt'.format(what)) as f:\n",
    "        infolist = f.read()\n",
    "        info = []\n",
    "    for i in infolist.split('\\n')[:-1]:\n",
    "        info.append([float(j) for j in i.split('\\t')])\n",
    "    intensity = [] \n",
    "    wlength = []\n",
    "    for row in info:\n",
    "        wlength.append(row[4])\n",
    "        intensity.append(row[5])\n",
    "    return wlength, intensity\n",
    "\n",
    "def load_sql(sql_data, columns):\n",
    "    col = columns.split(', ')\n",
    "\n",
    "    data = dict()\n",
    "    for c in col:\n",
    "        data[c] = []\n",
    "\n",
    "    for row in sql_data:\n",
    "        i = 0\n",
    "        for r in row:\n",
    "            data[col[i]].append(r)\n",
    "            i+=1\n",
    "    return data\n",
    "\n",
    "def add_spr(axesspr, name):\n",
    "    wlength, intensity = spr_spectrum(name)\n",
    "    wlength_pbs, intensity_pbs = spr_spectrum(name, 'pbs')\n",
    "    axessen = axesspr.twinx()\n",
    "    \n",
    "    if len(intensity) > len(intensity_pbs): length = len(intensity_pbs)\n",
    "    else: length = len(intensity)\n",
    "        \n",
    "    sensitivity = [(intensity_pbs[i] - intensity[i])/0.005 for i in range(length )]\n",
    "    \n",
    "    for tick in axesspr.get_yticklines():\n",
    "        tick.set_visible(False)\n",
    "\n",
    "    for tick in axesspr.get_yticklabels():\n",
    "        tick.set_visible(False)\n",
    "        \n",
    "    for tick in axessen.get_yticklines():\n",
    "        tick.set_visible(False)\n",
    "\n",
    "    for tick in axessen.get_yticklabels():\n",
    "        tick.set_visible(False)\n",
    "        \n",
    "    axessen.plot(wlength, intensity, linewidth=2, color=gray, label='spectrum', ls = ':')  \n",
    "    \n",
    "    axesspr.plot(wlength_pbs, sensitivity, color=red, label='sensitivity', ls = ':')  \n",
    "    \n",
    "def data_about_master(master):\n",
    "    columns = 'MASTER, WAVELENGTH, CON, INP, IBGPX, INPPX, RATE, COUNT'\n",
    "    sql_data = con.execute(\"\"\"\n",
    "    SELECT {}\n",
    "    FROM 'masters' as MAS \n",
    "    INNER JOIN 'experiments' as EXP \n",
    "    ON MAS.ID = EXP.MASTER_ID\n",
    "    INNER JOIN 'measurements' as MEAS\n",
    "    ON EXP.ID = MEAS.EXPERIMENT_ID\n",
    "    WHERE MASTER = '{}' AND EXP_TYPE='-' AND NP=80 AND DATE IS NOT '20-04-20' \n",
    "    ORDER BY WAVELENGTH ASC\n",
    "    ;\n",
    "       \"\"\".format(columns, master))\n",
    "    \n",
    "    sql_folder = con.execute(\"\"\"\n",
    "    SELECT FOLDER\n",
    "    FROM 'masters' as MAS \n",
    "    INNER JOIN 'experiments' as EXP \n",
    "    ON MAS.ID = EXP.MASTER_ID\n",
    "    WHERE MASTER = '{}';\n",
    "       \"\"\".format(master))\n",
    "    \n",
    "    return load_sql(sql_data, columns), [s[0] for s in sql_folder][0]\n",
    "\n",
    "def plot_spectrum(data, folder):\n",
    "    fig, axes = plt.subplots()  \n",
    "#     axes.set_title('SPECTRUM')\n",
    "#     axes.set_title('(a)')\n",
    "    axes.set_xlabel('$\\lambda$ [nm]')\n",
    "    axes.set_ylabel('R')\n",
    "#     axes.grid(linestyle='--')\n",
    "    \n",
    "    wlength, intensity = spr_spectrum(folder)\n",
    "    wlength_pbs, intensity_pbs = spr_spectrum(folder, 'pbs')\n",
    "    \n",
    "    if len(intensity) > len(intensity_pbs): length = len(intensity_pbs)\n",
    "    else: length = len(intensity)\n",
    "        \n",
    "    sensitivity = [(intensity_pbs[i] - intensity[i])/0.005 for i in range(length )]\n",
    "    \n",
    "        \n",
    "    axes.plot(wlength, intensity, linewidth=2, color=gray, label='water')  \n",
    "    axes.plot(wlength_pbs, intensity_pbs, color=red, label='PBS') \n",
    "    \n",
    "    location = mpatches.Rectangle(\n",
    "                    (743, 0), \n",
    "                    1/10, \n",
    "                    axes.get_ylim()[1], \n",
    "                    color = black\n",
    "                    )      \n",
    "    \n",
    "    location = mpatches.Rectangle(\n",
    "                    (743, 0), \n",
    "                    1/10, \n",
    "                    axes.get_ylim()[1], \n",
    "                    color = black\n",
    "                    ) \n",
    "        \n",
    "    axes.add_patch(location)\n",
    "    index_w = [int(round(w)) for w in wlength].index(743)\n",
    "    index_wpbs = [int(round(w)) for w in wlength_pbs].index(743)\n",
    "    \n",
    "    print(wlength[index_w])\n",
    "    print(wlength_pbs[index_wpbs])\n",
    "    print(intensity[index_w])\n",
    "    print(intensity_pbs[index_wpbs])\n",
    "\n",
    "    lgd = fig.legend(loc='center left', bbox_to_anchor=(1, 0.5))\n",
    "#     fig.legend(loc=3, bbox_to_anchor=(0.15, 0.2, 1, 1))\n",
    "#     fig.savefig(folder_save + 'plot_spectrum_'+ data['MASTER'][0] +'.png', dpi=300, bbox_inches='tight') \n",
    "    fig.savefig(folder_save + 'reflectivity_change'+ data['MASTER'][0] +'.png', dpi=300, bbox_extra_artists=(lgd,), bbox_inches='tight')    \n",
    "    \n"
   ]
  },
  {
   "cell_type": "code",
   "execution_count": 25,
   "metadata": {},
   "outputs": [],
   "source": [
    "mas = Table(connection=con, name='masters')\n",
    "exp = Table(con, name = 'experiments')\n",
    "meas = Table(con, name = 'measurements')"
   ]
  },
  {
   "cell_type": "code",
   "execution_count": 26,
   "metadata": {},
   "outputs": [
    {
     "name": "stdout",
     "output_type": "stream",
     "text": [
      "CATEGORY, PERIOD, AMPLITUDE, MASTER, FWHM, R, S\n",
      "DATE, MASTER_ID, DIP, FOLDER\n",
      "EXPERIMENT_ID, NP, WAVELENGTH, FILE, AR_TH, AR_DIP, AR_NOISE, EXC_THS, RATE, INFO, COUNT, X, Y, CON, INP, INPPX, IBGPX, STD, stdX, stdY, stdCON, stdINP, stdINPPX, stdIBGPX, stdSTD, NOTES, AR_MIN, AR_COND, EXP_TYPE, OPT\n"
     ]
    }
   ],
   "source": [
    "print(mas.columns)\n",
    "print(exp.columns)\n",
    "print(meas.columns)"
   ]
  },
  {
   "cell_type": "code",
   "execution_count": 27,
   "metadata": {},
   "outputs": [
    {
     "name": "stdout",
     "output_type": "stream",
     "text": [
      "MASTER\tNP\tWAVELEN\tS\tR\tCON\tINP\tINPPX\tIBGPX\tEXP_TYP\n",
      "L3\t100\t745\t78.50\t13.80\t3.75\t14.86\t1.60\t0.4289\t-\n",
      "L3\t80\t745\t78.50\t13.80\t3.66\t33.34\t1.52\t0.4178\t-\n",
      "L3\t60\t745\t78.50\t13.80\t2.98\t20.13\t1.18\t0.3968\t-\n",
      "---\n",
      "3\n"
     ]
    }
   ],
   "source": [
    "# \n",
    "columns = 'MASTER, NP, WAVELENGTH, S, R, CON, INP, INPPX, IBGPX, EXP_TYPE'\n",
    "data = con.execute(\"\"\"\n",
    "SELECT {}\n",
    "FROM 'masters' as MAS \n",
    "INNER JOIN 'experiments' as EXP \n",
    "ON MAS.ID = EXP.MASTER_ID\n",
    "INNER JOIN 'measurements' as MEAS\n",
    "ON EXP.ID = MEAS.EXPERIMENT_ID\n",
    "WHERE EXP_TYPE='-' AND WAVELENGTH = 745 AND DATE IS NOT '20-04-20' \n",
    "ORDER BY CON DESC\n",
    ";\n",
    "   \"\"\".format(columns))\n",
    "\n",
    "head(columns)\n",
    "\n",
    "i=0\n",
    "for row in data:\n",
    "    print(str(to_show(row)).replace(', ', '\\t').replace(\"'\", \"\")[1:-1])\n",
    "\n",
    "    i+=1\n",
    "    \n",
    "    \n",
    "print('---\\n{}'.format(i))"
   ]
  },
  {
   "cell_type": "markdown",
   "metadata": {},
   "source": [
    "# 750"
   ]
  },
  {
   "cell_type": "code",
   "execution_count": 56,
   "metadata": {},
   "outputs": [
    {
     "name": "stdout",
     "output_type": "stream",
     "text": [
      "742.9754\n",
      "742.9979\n",
      "0.44292\n",
      "0.68373\n"
     ]
    },
    {
     "data": {
      "image/png": "[encoded data removed]",
      "text/plain": [
       "<Figure size 432x288 with 1 Axes>"
      ]
     },
     "metadata": {
      "needs_background": "light"
     },
     "output_type": "display_data"
    }
   ],
   "source": [
    "data, folder = data_about_master('L3')\n",
    "\n",
    "\n",
    "plot_spectrum(data, folder)"
   ]
  },
  {
   "cell_type": "code",
   "execution_count": null,
   "metadata": {},
   "outputs": [],
   "source": []
  }
 ],
 "metadata": {
  "kernelspec": {
   "display_name": "Python 3",
   "language": "python",
   "name": "python3"
  },
  "language_info": {
   "codemirror_mode": {
    "name": "ipython",
    "version": 3
   },
   "file_extension": ".py",
   "mimetype": "text/x-python",
   "name": "python",
   "nbconvert_exporter": "python",
   "pygments_lexer": "ipython3",
   "version": "3.7.4"
  }
 },
 "nbformat": 4,
 "nbformat_minor": 4
}
