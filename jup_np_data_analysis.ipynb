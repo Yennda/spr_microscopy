{
 "cells": [
  {
   "cell_type": "code",
   "execution_count": 1,
   "metadata": {},
   "outputs": [],
   "source": [
    "import numpy as np\n",
    "import matplotlib.pyplot as plt\n",
    "import np_info_analysis as na"
   ]
  },
  {
   "cell_type": "code",
   "execution_count": null,
   "metadata": {},
   "outputs": [],
   "source": [
    "main_folder='C:/SPRUP_data_Jenda/2019_03_13_Jenda_microscopy/'\n",
    "folder=main_folder+'19_04_27_B6/export_np/'"
   ]
  },
  {
   "cell_type": "code",
   "execution_count": 9,
   "metadata": {},
   "outputs": [
    {
     "name": "stdout",
     "output_type": "stream",
     "text": [
      "@halfdip x @dip:\n",
      "  NP100, @600nm\n",
      "no\tx\ty\tcx\tcy\tC\tstd\tint\trelBg\n",
      "03\t13.72\t20.51\t3.20\t3.55\t2.59\t0.00055\t0.03026\t0.00042\n",
      "n= 19\t3.56\t4.56\t1.09\t0.92\t0.57\t0.00006\t0.00787\t0.00005\n",
      "--------------------------------------------------------------------------------\n",
      "04\t17.25\t22.79\t2.41\t2.33\t2.05\t0.00087\t0.04699\t0.00068\n",
      "n= 18\t4.87\t5.66\t0.85\t0.63\t0.46\t0.00011\t0.01728\t0.00009\n",
      "--------------------------------------------------------------------------------\n"
     ]
    }
   ],
   "source": [
    "files=[]\n",
    "#files=[folder+'meas_diff_{:02.0f}_1'.format(f) for f in [2, 3, 5]]\n",
    "files+=[main_folder+'19_04_11_C5/export_np/'+'meas_diff_03_1',\n",
    "        main_folder+'19_04_11_C5/export_np/'+'meas_diff_04_1',]\n",
    "print('@halfdip x @dip:\\n  NP100, @600nm')\n",
    "print('no\\tx\\ty\\tcx\\tcy\\tC\\tstd\\tint\\trelBg')\n",
    "for file in files: \n",
    "    info=na.readinfo(file)\n",
    "    info_stat=na.statistics(info)\n",
    "    print('{}\\t{:.02f}\\t{:.02f}\\t{:.02f}\\t{:.02f}\\t{:.02f}\\t{:.05f}\\t{:.05f}\\t{:.05f}'.format(file[-4:-2], *info_stat[0]))\n",
    "    print('n= {}\\t{:.02f}\\t{:.02f}\\t{:.02f}\\t{:.02f}\\t{:.02f}\\t{:.05f}\\t{:.05f}\\t{:.05f}'.format(info_stat[2], *info_stat[1]))\n",
    "    print(80*'-')"
   ]
  },
  {
   "cell_type": "code",
   "execution_count": 13,
   "metadata": {},
   "outputs": [
    {
     "name": "stdout",
     "output_type": "stream",
     "text": [
      "@halfdip x @dip:\n",
      "  NP100, @750nm\n",
      "no\tx\ty\tcx\tcy\tC\tstd\tint\trelBg\n",
      "02\t53.72\t13.89\t3.44\t4.53\t2.47\t0.00104\t0.14109\t0.00085\n",
      "n= 27\t10.34\t4.19\t1.41\t1.39\t0.59\t0.00009\t0.05968\t0.00007\n",
      "--------------------------------------------------------------------------------\n",
      "03\t40.69\t12.05\t4.46\t6.86\t3.77\t0.00084\t0.12921\t0.00067\n",
      "n= 18\t6.76\t4.36\t2.06\t2.11\t0.97\t0.00009\t0.03495\t0.00007\n",
      "--------------------------------------------------------------------------------\n"
     ]
    }
   ],
   "source": [
    "files=[]\n",
    "#files=[folder+'meas_diff_{:02.0f}_1'.format(f) for f in [2, 3, 5]]\n",
    "files+=[main_folder+'19_04_17_C3/export_np/'+'meas_diff_02_1',\n",
    "        main_folder+'19_04_17_C3/export_np/'+'meas_diff_03_1']\n",
    "print('@halfdip x @dip:\\n  NP100, @750nm')\n",
    "print('no\\tx\\ty\\tcx\\tcy\\tC\\tstd\\tint\\trelBg')\n",
    "for file in files: \n",
    "    info=na.readinfo(file)\n",
    "    info_stat=na.statistics(info)\n",
    "    print('{}\\t{:.02f}\\t{:.02f}\\t{:.02f}\\t{:.02f}\\t{:.02f}\\t{:.05f}\\t{:.05f}\\t{:.05f}'.format(file[-4:-2], *info_stat[0]))\n",
    "    print('n= {}\\t{:.02f}\\t{:.02f}\\t{:.02f}\\t{:.02f}\\t{:.02f}\\t{:.05f}\\t{:.05f}\\t{:.05f}'.format(info_stat[2], *info_stat[1]))\n",
    "    print(80*'-')"
   ]
  },
  {
   "cell_type": "code",
   "execution_count": 14,
   "metadata": {},
   "outputs": [
    {
     "name": "stdout",
     "output_type": "stream",
     "text": [
      "reference TE x TM:\n",
      "  NP100, @750nm\n",
      "no\tx\ty\tcx\tcy\tC\tstd\tint\trelBg\n",
      "04\t37.36\t91.20\t1.87\t1.74\t1.41\t0.00123\t0.28943\t0.00097\n",
      "n= 8\t4.57\t7.39\t0.83\t0.52\t0.28\t0.00016\t0.10041\t0.00012\n",
      "--------------------------------------------------------------------------------\n",
      "04\t35.53\t89.73\t1.96\t1.73\t1.42\t0.00202\t0.46685\t0.00159\n",
      "n= 8\t5.37\t11.44\t0.78\t0.40\t0.26\t0.00020\t0.18098\t0.00015\n",
      "--------------------------------------------------------------------------------\n"
     ]
    }
   ],
   "source": [
    "files=[]\n",
    "#files=[folder+'meas_diff_{:02.0f}_1'.format(f) for f in [2, 3, 5]]\n",
    "files+=[main_folder+'19_04_27_B6/export_np/'+'meas_diff_04_1',\n",
    "        main_folder+'19_04_27_B6/export_np/'+'meas_raw_04_1']\n",
    "print('reference TE x TM:\\n  NP100, @750nm')\n",
    "print('no\\tx\\ty\\tcx\\tcy\\tC\\tstd\\tint\\trelBg')\n",
    "for file in files: \n",
    "    info=na.readinfo(file)\n",
    "    info_stat=na.statistics(info)\n",
    "    print('{}\\t{:.02f}\\t{:.02f}\\t{:.02f}\\t{:.02f}\\t{:.02f}\\t{:.05f}\\t{:.05f}\\t{:.05f}'.format(file[-4:-2], *info_stat[0]))\n",
    "    print('n= {}\\t{:.02f}\\t{:.02f}\\t{:.02f}\\t{:.02f}\\t{:.02f}\\t{:.05f}\\t{:.05f}\\t{:.05f}'.format(info_stat[2], *info_stat[1]))\n",
    "    print(80*'-')"
   ]
  },
  {
   "cell_type": "code",
   "execution_count": 15,
   "metadata": {},
   "outputs": [
    {
     "name": "stdout",
     "output_type": "stream",
     "text": [
      "@600 x @750:\n",
      "  NP100\n",
      "no\tx\ty\tcx\tcy\tC\tstd\tint\trelBg\n",
      "03\t13.72\t20.51\t3.20\t3.55\t2.59\t0.00055\t0.03026\t0.00042\n",
      "n= 19\t3.56\t4.56\t1.09\t0.92\t0.57\t0.00006\t0.00787\t0.00005\n",
      "--------------------------------------------------------------------------------\n",
      "02\t53.72\t13.89\t3.44\t4.53\t2.47\t0.00104\t0.14109\t0.00085\n",
      "n= 27\t10.34\t4.19\t1.41\t1.39\t0.59\t0.00009\t0.05968\t0.00007\n",
      "--------------------------------------------------------------------------------\n"
     ]
    }
   ],
   "source": [
    "files=[]\n",
    "#files=[folder+'meas_diff_{:02.0f}_1'.format(f) for f in [2, 3, 5]]\n",
    "files+=[main_folder+'19_04_11_C5/export_np/'+'meas_diff_03_1',\n",
    "        main_folder+'19_04_17_C3/export_np/'+'meas_diff_02_1',]\n",
    "print('@600 x @750:\\n  NP100')\n",
    "print('no\\tx\\ty\\tcx\\tcy\\tC\\tstd\\tint\\trelBg')\n",
    "for file in files: \n",
    "    info=na.readinfo(file)\n",
    "    info_stat=na.statistics(info)\n",
    "    print('{}\\t{:.02f}\\t{:.02f}\\t{:.02f}\\t{:.02f}\\t{:.02f}\\t{:.05f}\\t{:.05f}\\t{:.05f}'.format(file[-4:-2], *info_stat[0]))\n",
    "    print('n= {}\\t{:.02f}\\t{:.02f}\\t{:.02f}\\t{:.02f}\\t{:.02f}\\t{:.05f}\\t{:.05f}\\t{:.05f}'.format(info_stat[2], *info_stat[1]))\n",
    "    print(80*'-')"
   ]
  },
  {
   "cell_type": "code",
   "execution_count": 19,
   "metadata": {},
   "outputs": [
    {
     "name": "stdout",
     "output_type": "stream",
     "text": [
      "fucus plus x zero x minus (far):\n",
      "  NP100, @750nm\n",
      "minus is far from the BS. And also not certain-need to collect data ones more\n",
      "no\tx\ty\tcx\tcy\tC\tstd\tint\trelBg\n",
      "pl\t38.72\t93.34\t1.63\t1.56\t1.31\t0.00129\t0.29460\t0.00102\n",
      "n= 14\t5.77\t8.78\t0.32\t0.37\t0.21\t0.00013\t0.13422\t0.00010\n",
      "--------------------------------------------------------------------------------\n",
      "ze\t29.09\t14.02\t5.73\t6.78\t3.88\t0.00128\t0.13147\t0.00103\n",
      "n= 14\t14.59\t6.93\t2.88\t5.09\t2.96\t0.00016\t0.06754\t0.00011\n",
      "--------------------------------------------------------------------------------\n",
      "in\t36.62\t20.69\t3.78\t4.37\t2.51\t0.00129\t0.19144\t0.00105\n",
      "n= 16\t5.67\t3.01\t0.95\t1.18\t0.48\t0.00013\t0.06553\t0.00011\n",
      "--------------------------------------------------------------------------------\n"
     ]
    }
   ],
   "source": [
    "files=[]\n",
    "#files=[folder+'meas_diff_{:02.0f}_1'.format(f) for f in [2, 3, 5]]\n",
    "files+=[main_folder+'19_04_27_B6/export_np/'+'meas_diff_01_1_plus',\n",
    "        main_folder+'19_04_27_B6/export_np/'+'meas_diff_01_1_zero',\n",
    "       main_folder+'19_04_27_B6/export_np/'+'meas_diff_01_1_minus']\n",
    "print('focus plus x zero x minus (far):\\n  NP100, @750nm')\n",
    "print('minus is far from the BS. And also not certain-need to collect data ones more')\n",
    "print('no\\tx\\ty\\tcx\\tcy\\tC\\tstd\\tint\\trelBg')\n",
    "for file in files: \n",
    "    info=na.readinfo(file)\n",
    "    info_stat=na.statistics(info)\n",
    "    print('{}\\t{:.02f}\\t{:.02f}\\t{:.02f}\\t{:.02f}\\t{:.02f}\\t{:.05f}\\t{:.05f}\\t{:.05f}'.format(file[-4:-2], *info_stat[0]))\n",
    "    print('n= {}\\t{:.02f}\\t{:.02f}\\t{:.02f}\\t{:.02f}\\t{:.02f}\\t{:.05f}\\t{:.05f}\\t{:.05f}'.format(info_stat[2], *info_stat[1]))\n",
    "    print(80*'-')"
   ]
  },
  {
   "cell_type": "code",
   "execution_count": 26,
   "metadata": {},
   "outputs": [
    {
     "name": "stdout",
     "output_type": "stream",
     "text": [
      "Different sizes, @750nm\n",
      "  need to do more measurements\n",
      "no\tx\ty\tcx\tcy\tC\tstd\tint\trelBg\n",
      "05\t36.23\t8.26\t2.63\t3.73\t2.28\t0.00125\t0.05924\t0.00102\n",
      "n= 11\t11.05\t3.71\t0.70\t1.66\t0.60\t0.00008\t0.03549\t0.00007\n",
      "--------------------------------------------------------------------------------\n",
      "06\t30.28\t8.14\t2.35\t3.52\t1.98\t0.00113\t0.03719\t0.00092\n",
      "n= 9\t4.98\t1.84\t0.83\t1.04\t0.28\t0.00007\t0.01218\t0.00007\n",
      "--------------------------------------------------------------------------------\n",
      "08\t28.32\t8.46\t2.95\t3.92\t2.59\t0.00094\t0.04504\t0.00076\n",
      "n= 9\t5.35\t1.66\t1.22\t1.31\t0.49\t0.00015\t0.01617\t0.00012\n",
      "--------------------------------------------------------------------------------\n"
     ]
    }
   ],
   "source": [
    "files=[]\n",
    "#files=[folder+'meas_diff_{:02.0f}_1'.format(f) for f in [2, 3, 5]]\n",
    "files+=[main_folder+'19_04_17_C3/export_np/'+'meas_diff_05_1',\n",
    "       main_folder+'19_04_17_C3/export_np/'+'meas_diff_06_1',\n",
    "       main_folder+'19_04_17_C3/export_np/'+'meas_diff_08_1']\n",
    "\n",
    "\n",
    "print('Different sizes, @750nm')\n",
    "print('  need to do more measurements')\n",
    "print('no\\tx\\ty\\tcx\\tcy\\tC\\tstd\\tint\\trelBg')\n",
    "for file in files: \n",
    "    info=na.readinfo(file)\n",
    "    info_stat=na.statistics(info)\n",
    "    print('{}\\t{:.02f}\\t{:.02f}\\t{:.02f}\\t{:.02f}\\t{:.02f}\\t{:.05f}\\t{:.05f}\\t{:.05f}'.format(file[-4:-2], *info_stat[0]))\n",
    "    print('n= {}\\t{:.02f}\\t{:.02f}\\t{:.02f}\\t{:.02f}\\t{:.02f}\\t{:.05f}\\t{:.05f}\\t{:.05f}'.format(info_stat[2], *info_stat[1]))\n",
    "    print(80*'-')"
   ]
  },
  {
   "cell_type": "code",
   "execution_count": 30,
   "metadata": {},
   "outputs": [
    {
     "name": "stdout",
     "output_type": "stream",
     "text": [
      "Different sizes, @600nm\n",
      "no\tx\ty\tcx\tcy\tC\tstd\tint\trelBg\n",
      "04\t17.25\t22.79\t2.41\t2.33\t2.05\t0.00087\t0.04699\t0.00068\n",
      "n= 18\t4.87\t5.66\t0.85\t0.63\t0.46\t0.00011\t0.01728\t0.00009\n",
      "--------------------------------------------------------------------------------\n",
      "06\t6.54\t5.18\t4.56\t4.96\t4.18\t0.00079\t0.00830\t0.00063\n",
      "n= 13\t3.28\t2.85\t2.16\t1.85\t2.13\t0.00004\t0.00524\t0.00003\n",
      "--------------------------------------------------------------------------------\n"
     ]
    }
   ],
   "source": [
    "files=[]\n",
    "#files=[folder+'meas_diff_{:02.0f}_1'.format(f) for f in [2, 3, 5]]\n",
    "files+=[main_folder+'19_04_11_C5/export_np/'+'meas_diff_04_1',\n",
    "       main_folder+'19_04_11_C5/export_np/'+'meas_diff_06_1']\n",
    "\n",
    "\n",
    "print('Different sizes, @600nm')\n",
    "print('no\\tx\\ty\\tcx\\tcy\\tC\\tstd\\tint\\trelBg')\n",
    "for file in files: \n",
    "    info=na.readinfo(file)\n",
    "    info_stat=na.statistics(info)\n",
    "    print('{}\\t{:.02f}\\t{:.02f}\\t{:.02f}\\t{:.02f}\\t{:.02f}\\t{:.05f}\\t{:.05f}\\t{:.05f}'.format(file[-4:-2], *info_stat[0]))\n",
    "    print('n= {}\\t{:.02f}\\t{:.02f}\\t{:.02f}\\t{:.02f}\\t{:.02f}\\t{:.05f}\\t{:.05f}\\t{:.05f}'.format(info_stat[2], *info_stat[1]))\n",
    "    print(80*'-')"
   ]
  },
  {
   "cell_type": "code",
   "execution_count": null,
   "metadata": {},
   "outputs": [],
   "source": []
  }
 ],
 "metadata": {
  "kernelspec": {
   "display_name": "Python 3",
   "language": "python",
   "name": "python3"
  },
  "language_info": {
   "codemirror_mode": {
    "name": "ipython",
    "version": 3
   },
   "file_extension": ".py",
   "mimetype": "text/x-python",
   "name": "python",
   "nbconvert_exporter": "python",
   "pygments_lexer": "ipython3",
   "version": "3.7.1"
  }
 },
 "nbformat": 4,
 "nbformat_minor": 2
}
