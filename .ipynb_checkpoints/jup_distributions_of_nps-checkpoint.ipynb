{
 "cells": [
  {
   "cell_type": "code",
   "execution_count": 9,
   "metadata": {},
   "outputs": [],
   "source": [
    "import numpy as np\n",
    "import matplotlib.pyplot as plt\n",
    "import matplotlib\n",
    "\n",
    "from global_var import *\n",
    "from tools import readinfo, statistics"
   ]
  },
  {
   "cell_type": "code",
   "execution_count": 21,
   "metadata": {},
   "outputs": [],
   "source": [
    "matplotlib.rc('font', family='serif') \n",
    "matplotlib.rc('font', serif='Palatino Linotype') \n",
    "matplotlib.rc('text', usetex='false') \n",
    "matplotlib.rcParams.update({'font.size': 20})\n",
    "matplotlib.rcParams['mathtext.fontset'] = 'custom'\n",
    "matplotlib.rcParams['mathtext.rm'] = 'Palatino Linotype'\n",
    "matplotlib.rcParams['mathtext.it'] = 'Palatino Linotype:italic'\n",
    "matplotlib.rcParams['mathtext.bf'] = 'BiPalatino Linotype:bold'"
   ]
  },
  {
   "cell_type": "code",
   "execution_count": 11,
   "metadata": {},
   "outputs": [
    {
     "name": "stdout",
     "output_type": "stream",
     "text": [
      "\tx \ty \tcon \tI_np \tI_np px\tI_bg px\tstd\n",
      "15\t27.30\t9.62\t11.00\t29.68\t3.09\t0.27981\t0.42125\n",
      "n= 60\t6.84\t1.52\t4.93\t22.92\t1.45\t0.03270\t0.11098\n",
      "------------------------------------------------------------------\n"
     ]
    }
   ],
   "source": [
    "main_folder='C:/SPRUP_data_Jenda/2019_03_13_Jenda_microscopy/'\n",
    "folder=main_folder+'20_02_25_P3/'\n",
    "#folder=main_folder+'20_02_26_Q3/'\n",
    "#folder=main_folder+'20_02_26_L3/'\n",
    "folder=main_folder+'20_03_16_K4/'\n",
    "folder=main_folder+'20_04_20_Q4/'\n",
    "\n",
    "if __name__ == \"__main__\":\n",
    "    files = [\n",
    "            folder + \n",
    "            'exports_np/' + \n",
    "#            'raw_{:02.0f}_1'.format(f) for f in [3, 4, 5, 6, 7, 8, 9, 10, 11, 12, 13, 14]\n",
    "#            'raw_{:02.0f}_1'.format(f) for f in [4, 5, 6, 7, 8, 9, 10, 18, 21]\n",
    "#            'raw_{:02.0f}_1'.format(f) for f in [3, 4, 5, 6, 7, 8]\n",
    "            'raw_{:02.0f}_1'.format(f) for f in [15]\n",
    "            ]\n",
    "\n",
    "    print('\\tx \\ty \\tcon \\tI_np \\tI_np px\\tI_bg px\\tstd')\n",
    "    \n",
    "    for file in files:\n",
    "        info = readinfo(file)\n",
    "        info_stat = statistics(info)\n",
    "        print('{}\\t{:.02f}\\t{:.02f}\\t{:.02f}\\t{:.02f}\\t{:.02f}\\t{:.05f}\\t{:.05f}'.format(file[-4:-2], *info_stat[0]))\n",
    "        print('n= {}\\t{:.02f}\\t{:.02f}\\t{:.02f}\\t{:.02f}\\t{:.02f}\\t{:.05f}\\t{:.05f}'.format(info_stat[2], *info_stat[1]))\n",
    "        print('------------------------------------------------------------------')\n",
    "\n",
    "\n",
    "data = np.matrix(info)"
   ]
  },
  {
   "cell_type": "code",
   "execution_count": 13,
   "metadata": {},
   "outputs": [],
   "source": [
    "names = ['x', 'y', 'contrast', '$I_{NP}$', '$I_{NP}/px$', '$I_{BG}$', 'std']"
   ]
  },
  {
   "cell_type": "code",
   "execution_count": 64,
   "metadata": {},
   "outputs": [
    {
     "data": {
      "image/png": "[encoded data removed]",
      "text/plain": [
       "<Figure size 432x288 with 1 Axes>"
      ]
     },
     "metadata": {
      "needs_background": "light"
     },
     "output_type": "display_data"
    }
   ],
   "source": [
    "i = 0\n",
    "plot_data = data[:, i]\n",
    "\n",
    "fig, ax = plt.subplots()\n",
    "ax.set_title('Histogram: ' + names[i])\n",
    "ax.set_ylabel('#')\n",
    "ax.set_xlabel(names[i])\n",
    "\n",
    "bins = 10\n",
    "\n",
    "width = (np.max(plot_data) - np.min(plot_data))/bins*0.8\n",
    "\n",
    "_ = ax.hist(\n",
    "        plot_data, \n",
    "        bins,\n",
    "        width = width,\n",
    "        color = blue\n",
    "        )"
   ]
  },
  {
   "cell_type": "code",
   "execution_count": 60,
   "metadata": {},
   "outputs": [
    {
     "data": {
      "text/plain": [
       "(array([12., 10.,  9.,  7.,  6.,  6.,  3.,  2.,  1.,  4.]),\n",
       " array([0.23684585, 0.24917081, 0.26149576, 0.27382072, 0.28614568,\n",
       "        0.29847063, 0.31079559, 0.32312054, 0.3354455 , 0.34777046,\n",
       "        0.36009541]),\n",
       " <a list of 10 Patch objects>)"
      ]
     },
     "execution_count": 60,
     "metadata": {},
     "output_type": "execute_result"
    }
   ],
   "source": [
    "_"
   ]
  },
  {
   "cell_type": "code",
   "execution_count": null,
   "metadata": {},
   "outputs": [],
   "source": []
  }
 ],
 "metadata": {
  "kernelspec": {
   "display_name": "Python 3",
   "language": "python",
   "name": "python3"
  },
  "language_info": {
   "codemirror_mode": {
    "name": "ipython",
    "version": 3
   },
   "file_extension": ".py",
   "mimetype": "text/x-python",
   "name": "python",
   "nbconvert_exporter": "python",
   "pygments_lexer": "ipython3",
   "version": "3.7.4"
  }
 },
 "nbformat": 4,
 "nbformat_minor": 4
}
