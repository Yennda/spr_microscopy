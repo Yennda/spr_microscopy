{
 "cells": [
  {
   "cell_type": "code",
   "execution_count": 27,
   "metadata": {},
   "outputs": [],
   "source": [
    "import numpy as np\n",
    "import matplotlib.pyplot as plt\n",
    "import np_info_analysis as na"
   ]
  },
  {
   "cell_type": "code",
   "execution_count": 28,
   "metadata": {},
   "outputs": [],
   "source": [
    "'''\n",
    "matlab colors\n",
    "#DD6734\n",
    "\n",
    "#0284C0\n",
    "'''\n",
    "blue='#DD5544'\n",
    "red='#0284C0'"
   ]
  },
  {
   "cell_type": "code",
   "execution_count": 29,
   "metadata": {},
   "outputs": [],
   "source": [
    "main_folder='C:/SPRUP_data_Jenda/2019_03_13_Jenda_microscopy/'\n",
    "folder=main_folder+'19_05_09_B6/export_np/'"
   ]
  },
  {
   "cell_type": "code",
   "execution_count": 30,
   "metadata": {},
   "outputs": [
    {
     "name": "stdout",
     "output_type": "stream",
     "text": [
      "lamp on x off:\n",
      "  NP100, @600nm\n",
      "no\tx\ty\tcx\tcy\tC\tstd\tint\trelBg\n",
      "02\t32.57\t19.65\t6.04\t5.81\t3.55\t0.00096\t0.18818\t0.00077\n",
      "n= 17\t5.40\t5.66\t2.17\t1.72\t0.89\t0.00011\t0.06433\t0.00008\n",
      "--------------------------------------------------------------------------------\n",
      "03\t27.47\t22.71\t5.84\t5.28\t3.48\t0.00104\t0.18784\t0.00084\n",
      "n= 24\t5.85\t6.62\t1.89\t1.75\t1.10\t0.00018\t0.06705\t0.00012\n",
      "--------------------------------------------------------------------------------\n"
     ]
    }
   ],
   "source": [
    "files=[]\n",
    "#files=[folder+'meas_diff_{:02.0f}_1'.format(f) for f in [2, 3, 5]]\n",
    "files+=[folder+'meas_diff_02_1',\n",
    "        folder+'meas_diff_03_1',]\n",
    "print('lamp on x off:\\n  NP100, @600nm')\n",
    "print('no\\tx\\ty\\tcx\\tcy\\tC\\tstd\\tint\\trelBg')\n",
    "for file in files: \n",
    "    info=na.readinfo(file)\n",
    "    info_stat=na.statistics(info)\n",
    "    print('{}\\t{:.02f}\\t{:.02f}\\t{:.02f}\\t{:.02f}\\t{:.02f}\\t{:.05f}\\t{:.05f}\\t{:.05f}'.format(file[-4:-2], *info_stat[0]))\n",
    "    print('n= {}\\t{:.02f}\\t{:.02f}\\t{:.02f}\\t{:.02f}\\t{:.02f}\\t{:.05f}\\t{:.05f}\\t{:.05f}'.format(info_stat[2], *info_stat[1]))\n",
    "    print(80*'-')"
   ]
  },
  {
   "cell_type": "code",
   "execution_count": 31,
   "metadata": {},
   "outputs": [
    {
     "name": "stdout",
     "output_type": "stream",
     "text": [
      "position in dip\n",
      "no\tx\ty\tcx\tcy\tC\tstd\tint\trelBg\n",
      "01\t32.4\t24.5\t5.69\t5.09\t2.91\t0.00092\t0.17006\t0.00074\n",
      "n= 17\t5.4\t7.8\t1.32\t1.98\t0.81\t0.00007\t0.06537\t0.00006\n",
      "--------------------------------------------------------------------------------\n",
      "02\t32.6\t19.6\t6.04\t5.81\t3.55\t0.00096\t0.18818\t0.00077\n",
      "n= 17\t5.4\t5.7\t2.17\t1.72\t0.89\t0.00011\t0.06433\t0.00008\n",
      "--------------------------------------------------------------------------------\n",
      "04\t33.6\t19.2\t6.24\t6.32\t3.89\t0.00070\t0.15889\t0.00054\n",
      "n= 13\t5.3\t5.1\t3.88\t2.86\t1.22\t0.00008\t0.07154\t0.00005\n",
      "--------------------------------------------------------------------------------\n",
      "05\t38.6\t16.2\t5.57\t6.67\t4.28\t0.00061\t0.14555\t0.00047\n",
      "n= 22\t7.5\t4.5\t2.40\t2.35\t1.12\t0.00011\t0.05131\t0.00008\n",
      "--------------------------------------------------------------------------------\n"
     ]
    }
   ],
   "source": [
    "nm=[1, 2, 4, 5]\n",
    "files=[folder+'meas_diff_{:02.0f}_1'.format(f) for f in nm]\n",
    "# files+=[folder+'meas_diff_02_1',\n",
    "#         folder+'meas_diff_03_1',]\n",
    "print('position in dip')\n",
    "data=[]\n",
    "data_std=[]\n",
    "\n",
    "\n",
    "print('no\\tx\\ty\\tcx\\tcy\\tC\\tstd\\tint\\trelBg')\n",
    "for file in files: \n",
    "    info=na.readinfo(file)\n",
    "    info_stat=na.statistics(info)\n",
    "    data.append(info_stat[0])\n",
    "    data_std.append(info_stat[1])\n",
    "\n",
    "    print('{}\\t{:.01f}\\t{:.01f}\\t{:.02f}\\t{:.02f}\\t{:.02f}\\t{:.05f}\\t{:.05f}\\t{:.05f}'.format(file[-4:-2], *info_stat[0]))\n",
    "    print('n= {}\\t{:.01f}\\t{:.01f}\\t{:.02f}\\t{:.02f}\\t{:.02f}\\t{:.05f}\\t{:.05f}\\t{:.05f}'.format(info_stat[2], *info_stat[1]))\n",
    "    print(80*'-')"
   ]
  },
  {
   "cell_type": "code",
   "execution_count": 33,
   "metadata": {},
   "outputs": [
    {
     "data": {
      "image/png": "[encoded data removed]",
      "text/plain": [
       "<Figure size 432x288 with 2 Axes>"
      ]
     },
     "metadata": {
      "needs_background": "light"
     },
     "output_type": "display_data"
    }
   ],
   "source": [
    "wls=[755, 756, 757, 758]\n",
    "con=[d[4] for d in data]\n",
    "con_std=[d[4] for d in data_std]\n",
    "inten=[d[6] for d in data]\n",
    "inten_std=[d[6] for d in data_std]\n",
    "area=[d[0]*d[1] for d in data]\n",
    "\n",
    "background = [0.4245497817708026, 0.4138191904785803, 0.406395374315801, 0.4109129918864613]\n",
    "w=0.2\n",
    "\n",
    "fig = plt.figure()\n",
    "axes = fig.add_axes([0.1, 0.1, 0.8, 0.9])\n",
    "axes.grid('True')\n",
    "axes.set_title('Position in dip')\n",
    "axes.set_xlabel('wavelength [nm]')\n",
    "axes.set_ylabel('contrast', color=red)\n",
    "\n",
    "axesI = axes.twinx()\n",
    "axesI.set_ylabel('intensity', color=blue)\n",
    "\n",
    "axes.bar([s-w/2 for s in wls], con, w, yerr=con_std, color=red, label='x')\n",
    "\n",
    "axesI.bar([s+w/2 for s in wls], inten, w, yerr=inten_std, color=blue,label='y')\n",
    "fig.savefig('C:/Users/bukacek/Desktop/np_images/position_in_dip_750.png' , dpi=300,  bbox_inches='tight')"
   ]
  },
  {
   "cell_type": "code",
   "execution_count": 12,
   "metadata": {},
   "outputs": [
    {
     "data": {
      "image/png": "[encoded data removed]",
      "text/plain": [
       "<Figure size 432x288 with 2 Axes>"
      ]
     },
     "metadata": {
      "needs_background": "light"
     },
     "output_type": "display_data"
    }
   ],
   "source": [
    "wls=[755, 756, 757, 758]\n",
    "con=[d[4] for d in data]\n",
    "inten=[d[6] for d in data]\n",
    "fig = plt.figure()\n",
    "axes = fig.add_axes([0.1, 0.1, 0.8, 0.9])\n",
    "axes.grid('True')\n",
    "axes.set_title('Position in the dip')\n",
    "axes.set_xlabel('wavelength [nm]')\n",
    "axes.set_ylabel('area [$\\mu m^2$]', color=red)\n",
    "\n",
    "axesI = axes.twinx()\n",
    "axesI.set_ylabel('std', color=blue)\n",
    "\n",
    "# axes.plot(wls, area, color='red', label='x')\n",
    "# axesI.plot(wls, [d[5] for d in data], color='blue', label='y')\n",
    "axes.bar([s-w/2 for s in wls], area, w, color=blue, label='x')\n",
    "\n",
    "axesI.bar([s+w/2 for s in wls], [d[5] for d in data], w, color=red,label='y')\n",
    "fig.savefig('C:/Users/bukacek/Desktop/np_images/position_in_dip_area_std_750.png' , dpi=300,  bbox_inches='tight')"
   ]
  },
  {
   "cell_type": "code",
   "execution_count": 16,
   "metadata": {},
   "outputs": [
    {
     "name": "stdout",
     "output_type": "stream",
     "text": [
      "NP sizes, @756\n",
      "no\tx\ty\tcx\tcy\tC\tstd\tint\trelBg\n",
      "02\t32.6\t19.6\t6.04\t5.81\t3.55\t0.00096\t0.18818\t0.00077\n",
      "n= 17\t5.4\t5.7\t2.17\t1.72\t0.89\t0.00011\t0.06433\t0.00008\n",
      "--------------------------------------------------------------------------------\n",
      "07\t33.7\t23.2\t3.99\t3.43\t2.37\t0.00085\t0.11649\t0.00067\n",
      "n= 22\t9.5\t8.2\t1.16\t0.89\t0.43\t0.00009\t0.05473\t0.00006\n",
      "--------------------------------------------------------------------------------\n",
      "08\t31.1\t13.7\t3.86\t4.19\t2.69\t0.00076\t0.05685\t0.00061\n",
      "n= 15\t8.5\t9.8\t0.90\t1.34\t0.74\t0.00009\t0.03693\t0.00007\n",
      "--------------------------------------------------------------------------------\n",
      "09\t41.0\t9.5\t3.21\t3.39\t2.22\t0.00079\t0.05512\t0.00070\n",
      "n= 4\t8.3\t3.2\t0.62\t0.40\t0.51\t0.00009\t0.03192\t0.00003\n",
      "--------------------------------------------------------------------------------\n"
     ]
    }
   ],
   "source": [
    "nm=[2, 7, 8, 9]\n",
    "files=[folder+'meas_diff_{:02.0f}_1'.format(f) for f in nm]\n",
    "# files+=[folder+'meas_diff_02_1',\n",
    "#         folder+'meas_diff_03_1',]\n",
    "print('NP sizes, @756')\n",
    "data=[]\n",
    "data_std=[]\n",
    "\n",
    "print('no\\tx\\ty\\tcx\\tcy\\tC\\tstd\\tint\\trelBg')\n",
    "for file in files: \n",
    "    info=na.readinfo(file)\n",
    "    info_stat=na.statistics(info)\n",
    "    data.append(info_stat[0])\n",
    "    data_std.append(info_stat[1])\n",
    "\n",
    "    print('{}\\t{:.01f}\\t{:.01f}\\t{:.02f}\\t{:.02f}\\t{:.02f}\\t{:.05f}\\t{:.05f}\\t{:.05f}'.format(file[-4:-2], *info_stat[0]))\n",
    "    print('n= {}\\t{:.01f}\\t{:.01f}\\t{:.02f}\\t{:.02f}\\t{:.02f}\\t{:.05f}\\t{:.05f}\\t{:.05f}'.format(info_stat[2], *info_stat[1]))\n",
    "    print(80*'-')"
   ]
  },
  {
   "cell_type": "code",
   "execution_count": 22,
   "metadata": {},
   "outputs": [
    {
     "data": {
      "image/png": "[encoded data removed]",
      "text/plain": [
       "<Figure size 432x288 with 2 Axes>"
      ]
     },
     "metadata": {
      "needs_background": "light"
     },
     "output_type": "display_data"
    }
   ],
   "source": [
    "sizes=[100, 80, 40, 30]\n",
    "con=[d[4] for d in data]\n",
    "con_std=[d[4] for d in data_std]\n",
    "inten=[d[6] for d in data]\n",
    "inten_std=[d[6] for d in data_std]\n",
    "area=[d[0]*d[1] for d in data]\n",
    "w=4\n",
    "\n",
    "fig = plt.figure()\n",
    "axes = fig.add_axes([0.1, 0.1, 0.8, 0.9])\n",
    "axes.grid('True')\n",
    "axes.set_title('Sizes')\n",
    "axes.set_xlabel('NP size [nm]')\n",
    "axes.set_ylabel('contrast', color=red)\n",
    "\n",
    "axesI = axes.twinx()\n",
    "axesI.set_ylabel('intensity', color=blue)\n",
    "\n",
    "axes.bar([s-w/2 for s in sizes], con, w, yerr=con_std, color=red, label='x')\n",
    "# axes.plot(wls, con, color='red', label='x', ls='--')\n",
    "axesI.bar([s+w/2 for s in sizes], inten, w, yerr=inten_std, color=blue, label='y')\n",
    "# axesI.plot(wls, n_inten, color='blue', label='y', ls='--')\n",
    "fig.savefig('C:/Users/bukacek/Desktop/np_images/sizes_750.png' , dpi=300,  bbox_inches='tight')"
   ]
  },
  {
   "cell_type": "code",
   "execution_count": 23,
   "metadata": {},
   "outputs": [
    {
     "data": {
      "image/png": "[encoded data removed]",
      "text/plain": [
       "<Figure size 432x288 with 2 Axes>"
      ]
     },
     "metadata": {
      "needs_background": "light"
     },
     "output_type": "display_data"
    }
   ],
   "source": [
    "\n",
    "con=[d[4] for d in data]\n",
    "inten=[d[6] for d in data]\n",
    "fig = plt.figure()\n",
    "axes = fig.add_axes([0.1, 0.1, 0.8, 0.9])\n",
    "axes.grid('True')\n",
    "axes.set_title('Sizes')\n",
    "axes.set_xlabel('NP size [nm]')\n",
    "axes.set_ylabel('area [$\\mu m^2$]', color=red)\n",
    "\n",
    "axesI = axes.twinx()\n",
    "axesI.set_ylabel('std', color=blue)\n",
    "\n",
    "axes.bar([s-w/2 for s in sizes], area, w, color=blue, label='x')\n",
    "\n",
    "axesI.bar([s+w/2 for s in sizes], [d[5] for d in data], w, color=red,label='y')\n",
    "fig.savefig('C:/Users/bukacek/Desktop/np_images/sizes_750_area_std.png' , dpi=300,  bbox_inches='tight')"
   ]
  },
  {
   "cell_type": "code",
   "execution_count": 24,
   "metadata": {},
   "outputs": [
    {
     "name": "stdout",
     "output_type": "stream",
     "text": [
      "focus x remote NP40, @756\n",
      "no\tx\ty\tcx\tcy\tC\tstd\tint\trelBg\n",
      "08\t31.1\t13.7\t3.86\t4.19\t2.69\t0.00076\t0.05685\t0.00061\n",
      "n= 15\t8.5\t9.8\t0.90\t1.34\t0.74\t0.00009\t0.03693\t0.00007\n",
      "--------------------------------------------------------------------------------\n",
      "14\t32.5\t24.4\t3.06\t3.22\t2.16\t0.00081\t0.10073\t0.00068\n",
      "n= 12\t7.0\t2.8\t0.41\t0.87\t0.55\t0.00007\t0.06597\t0.00009\n",
      "--------------------------------------------------------------------------------\n"
     ]
    }
   ],
   "source": [
    "nm=[8 ,14]\n",
    "files=[folder+'meas_diff_{:02.0f}_1'.format(f) for f in nm]\n",
    "# files+=[folder+'meas_diff_02_1',\n",
    "#         folder+'meas_diff_03_1',]\n",
    "print('focus x remote NP40, @756')\n",
    "data=[]\n",
    "data_std=[]\n",
    "\n",
    "print('no\\tx\\ty\\tcx\\tcy\\tC\\tstd\\tint\\trelBg')\n",
    "for file in files: \n",
    "    info=na.readinfo(file)\n",
    "    info_stat=na.statistics(info)\n",
    "    data.append(info_stat[0])\n",
    "    data_std.append(info_stat[1])\n",
    "\n",
    "    print('{}\\t{:.01f}\\t{:.01f}\\t{:.02f}\\t{:.02f}\\t{:.02f}\\t{:.05f}\\t{:.05f}\\t{:.05f}'.format(file[-4:-2], *info_stat[0]))\n",
    "    print('n= {}\\t{:.01f}\\t{:.01f}\\t{:.02f}\\t{:.02f}\\t{:.02f}\\t{:.05f}\\t{:.05f}\\t{:.05f}'.format(info_stat[2], *info_stat[1]))\n",
    "    print(80*'-')"
   ]
  },
  {
   "cell_type": "code",
   "execution_count": 25,
   "metadata": {},
   "outputs": [
    {
     "name": "stdout",
     "output_type": "stream",
     "text": [
      "NP40 x NP30, @756\n",
      "no\tx\ty\tcx\tcy\tC\tstd\tint\trelBg\n",
      "14\t32.5\t24.4\t3.06\t3.22\t2.16\t0.00081\t0.10073\t0.00068\n",
      "n= 12\t7.0\t2.8\t0.41\t0.87\t0.55\t0.00007\t0.06597\t0.00009\n",
      "--------------------------------------------------------------------------------\n",
      "15\t30.2\t21.7\t4.01\t3.59\t2.29\t0.00089\t0.09323\t0.00076\n",
      "n= 10\t4.5\t11.9\t1.39\t1.34\t0.61\t0.00018\t0.07619\t0.00013\n",
      "--------------------------------------------------------------------------------\n"
     ]
    }
   ],
   "source": [
    "nm=[14, 15]\n",
    "files=[folder+'meas_diff_{:02.0f}_1'.format(f) for f in nm]\n",
    "# files+=[folder+'meas_diff_02_1',\n",
    "#         folder+'meas_diff_03_1',]\n",
    "print('NP40 x NP30, @756')\n",
    "data=[]\n",
    "data_std=[]\n",
    "\n",
    "print('no\\tx\\ty\\tcx\\tcy\\tC\\tstd\\tint\\trelBg')\n",
    "for file in files: \n",
    "    info=na.readinfo(file)\n",
    "    info_stat=na.statistics(info)\n",
    "    data.append(info_stat[0])\n",
    "    data_std.append(info_stat[1])\n",
    "\n",
    "    print('{}\\t{:.01f}\\t{:.01f}\\t{:.02f}\\t{:.02f}\\t{:.02f}\\t{:.05f}\\t{:.05f}\\t{:.05f}'.format(file[-4:-2], *info_stat[0]))\n",
    "    print('n= {}\\t{:.01f}\\t{:.01f}\\t{:.02f}\\t{:.02f}\\t{:.02f}\\t{:.05f}\\t{:.05f}\\t{:.05f}'.format(info_stat[2], *info_stat[1]))\n",
    "    print(80*'-')"
   ]
  },
  {
   "cell_type": "code",
   "execution_count": null,
   "metadata": {},
   "outputs": [],
   "source": []
  }
 ],
 "metadata": {
  "kernelspec": {
   "display_name": "Python 3",
   "language": "python",
   "name": "python3"
  },
  "language_info": {
   "codemirror_mode": {
    "name": "ipython",
    "version": 3
   },
   "file_extension": ".py",
   "mimetype": "text/x-python",
   "name": "python",
   "nbconvert_exporter": "python",
   "pygments_lexer": "ipython3",
   "version": "3.7.1"
  }
 },
 "nbformat": 4,
 "nbformat_minor": 2
}
