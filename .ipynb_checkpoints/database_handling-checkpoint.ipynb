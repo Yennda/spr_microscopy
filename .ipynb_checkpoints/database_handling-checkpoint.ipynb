{
 "cells": [
  {
   "cell_type": "code",
   "execution_count": 1,
   "metadata": {},
   "outputs": [],
   "source": [
    "import numpy as np\n",
    "import matplotlib.pyplot as plt"
   ]
  },
  {
   "cell_type": "code",
   "execution_count": 2,
   "metadata": {},
   "outputs": [],
   "source": [
    "import sqlite3\n",
    "\n",
    "con = sqlite3.connect('database.db')\n",
    "cursor = con.cursor()"
   ]
  },
  {
   "cell_type": "code",
   "execution_count": 15,
   "metadata": {},
   "outputs": [],
   "source": [
    "con.close()"
   ]
  },
  {
   "cell_type": "code",
   "execution_count": 20,
   "metadata": {},
   "outputs": [
    {
     "name": "stdout",
     "output_type": "stream",
     "text": [
      "[('sqlite_sequence',), ('experiments',), ('measurements',), ('diffraction_gratings',)]\n"
     ]
    }
   ],
   "source": [
    "cursor.execute(\"SELECT name FROM sqlite_master WHERE type='table';\")\n",
    "print(cursor.fetchall())"
   ]
  },
  {
   "cell_type": "raw",
   "metadata": {},
   "source": [
    "cursor.execute(\"\"\"\n",
    "CREATE TABLE 'diffraction_gratings'(\n",
    "ID   INTEGER   PRIMARY KEY   AUTOINCREMENT,\n",
    "CATEGORY INT NOT NULL,\n",
    "PERIOD INT NOT NULL,\n",
    "AMPLITUDE INT NOT NULL,\n",
    "MASTER CHARACTER(8))\n",
    "\"\"\")"
   ]
  },
  {
   "cell_type": "raw",
   "metadata": {},
   "source": [
    "cursor.execute(\"\"\"\n",
    "CREATE TABLE 'experiments'(\n",
    "ID   INTEGER   PRIMARY KEY   AUTOINCREMENT,\n",
    "DATE   DATE NOT NULL,\n",
    "MASTER_ID INTEGER NOT NULL,\n",
    "DIP INTEGER NOT NULL,\n",
    "FOLDER TEXT NOT NULL\n",
    ")\n",
    "\"\"\")"
   ]
  },
  {
   "cell_type": "raw",
   "metadata": {},
   "source": [
    "cursor.execute(\"\"\"\n",
    "CREATE TABLE 'measurements'(\n",
    "ID   INTEGER   PRIMARY KEY   AUTOINCREMENT,\n",
    "EXPERIMENT_ID  INTEGER NOT NULL,\n",
    "NP INTEGER NOT NULL,\n",
    "WAVELENGTH INTEGER NOT NULL,\n",
    "FILE TEXT NOT NULL\n",
    ")\n",
    "\"\"\")"
   ]
  },
  {
   "cell_type": "raw",
   "metadata": {},
   "source": [
    "cursor.execute(\"\"\"\n",
    "INSERT INTO  'diffraction_gratings' (CATEGORY, PERIOD, AMPLITUDE, MASTER)\n",
    "VALUES (600, 406, 45, 'M5')\n",
    "\"\"\")\n",
    "cursor.execute(\"\"\"\n",
    "INSERT INTO  'diffraction_gratings' (CATEGORY, PERIOD, AMPLITUDE, MASTER)\n",
    "VALUES (600, 406, 5345, 'P3')\n",
    "\"\"\")"
   ]
  },
  {
   "cell_type": "raw",
   "metadata": {},
   "source": [
    "cursor.execute(\"\"\"\n",
    "INSERT INTO  'experiments' (DATE, MASTER_ID, DIP, FOLDER)\n",
    "VALUES ('2020-02-25', 0, 598, '20_02_25_M5')\n",
    "\"\"\")\n",
    "cursor.execute(\"\"\"\n",
    "INSERT INTO  'experiments' (DATE, MASTER_ID, DIP, FOLDER)\n",
    "VALUES ('2020-02-25', 1, 615, '20_02_25_P3')\n",
    "\"\"\")"
   ]
  },
  {
   "cell_type": "code",
   "execution_count": null,
   "metadata": {},
   "outputs": [],
   "source": [
    "cursor.execute(\"\"\"\n",
    "INSERT INTO  'experiments' (EXPERIMENT_ID, NP, WAVELENGTH, FILE)\n",
    "VALUES ('2020-02-25', 0, 598, '20_02_25_M5')\n",
    "\"\"\")\n",
    "cursor.execute(\"\"\"\n",
    "INSERT INTO  'experiments' (DATE, MASTER_ID, DIP, FOLDER)\n",
    "VALUES ('2020-02-25', 1, 615, '20_02_25_P3')\n",
    "\"\"\")"
   ]
  },
  {
   "cell_type": "code",
   "execution_count": 46,
   "metadata": {},
   "outputs": [
    {
     "name": "stdout",
     "output_type": "stream",
     "text": [
      "ID\tDATE\tDIP\tCATEGORY\tMASTER\n",
      "1\t2020-02-25\t0\t598\t20_02_25_M5\n",
      "2\t2020-02-25\t1\t615\t20_02_25_P3\n"
     ]
    }
   ],
   "source": [
    "columns = 'ID, DATE, DIP, CATEGORY, MASTER, FOLDER'\n",
    "cursor = con.execute(\"\"\"\n",
    "SELECT * from 'experiments' AS EXP INNER JOIN 'diffraction_gratings' AS DG\n",
    "ON EXP.MASTER_ID == DG.ID\n",
    "\n",
    "\"\"\".format(columns))\n",
    "\n",
    "header =  columns.split(', ')\n",
    "print('{r[0]}\\t{r[1]}\\t{r[2]}\\t{r[3]}\\t{r[4]}'.format(r = header))\n",
    "\n",
    "for row in cursor:\n",
    "    print(str(row).replace(', ', '\\t').replace(\"'\", \"\")[1:-1])\n",
    "#     print('{r[0]}\\t{r[1]}\\t{r[2]}\\t{r[3]}\\t{r[4]}'.format(r = row))"
   ]
  },
  {
   "cell_type": "code",
   "execution_count": null,
   "metadata": {},
   "outputs": [],
   "source": []
  },
  {
   "cell_type": "code",
   "execution_count": null,
   "metadata": {},
   "outputs": [],
   "source": []
  }
 ],
 "metadata": {
  "kernelspec": {
   "display_name": "Python 3",
   "language": "python",
   "name": "python3"
  },
  "language_info": {
   "codemirror_mode": {
    "name": "ipython",
    "version": 3
   },
   "file_extension": ".py",
   "mimetype": "text/x-python",
   "name": "python",
   "nbconvert_exporter": "python",
   "pygments_lexer": "ipython3",
   "version": "3.7.6"
  }
 },
 "nbformat": 4,
 "nbformat_minor": 4
}
