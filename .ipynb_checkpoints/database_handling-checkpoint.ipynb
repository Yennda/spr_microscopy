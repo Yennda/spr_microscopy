{
 "cells": [
  {
   "cell_type": "code",
   "execution_count": 3,
   "metadata": {},
   "outputs": [],
   "source": [
    "import numpy as np\n",
    "import matplotlib.pyplot as plt\n",
    "from database_methods import Table"
   ]
  },
  {
   "cell_type": "code",
   "execution_count": 4,
   "metadata": {},
   "outputs": [],
   "source": [
    "import sqlite3\n",
    "\n",
    "con = sqlite3.connect('database_results.db')\n",
    "cursor = con.cursor()"
   ]
  },
  {
   "cell_type": "code",
   "execution_count": 5,
   "metadata": {},
   "outputs": [
    {
     "name": "stdout",
     "output_type": "stream",
     "text": [
      "[('diffraction_gratings',), ('sqlite_sequence',)]\n"
     ]
    }
   ],
   "source": [
    "cursor.execute(\"SELECT name FROM sqlite_master WHERE type='table';\")\n",
    "print(cursor.fetchall())"
   ]
  },
  {
   "cell_type": "code",
   "execution_count": 6,
   "metadata": {},
   "outputs": [],
   "source": [
    "dg = Table(cursor=con, name='diffraction_gratings')"
   ]
  },
  {
   "cell_type": "code",
   "execution_count": 12,
   "metadata": {},
   "outputs": [
    {
     "name": "stdout",
     "output_type": "stream",
     "text": [
      "CATEGORY\tPERIOD\tAMPLITUDE\tMASTER\n",
      "6\t660\t427\t53\tQ3\n",
      "7\t660\t427\t53\tP3\n"
     ]
    }
   ],
   "source": [
    "dg.show_all()"
   ]
  },
  {
   "cell_type": "code",
   "execution_count": 9,
   "metadata": {},
   "outputs": [
    {
     "name": "stdout",
     "output_type": "stream",
     "text": [
      "CATEGORY, PERIOD, AMPLITUDE, MASTER\n"
     ]
    }
   ],
   "source": [
    "print(dg.columns)\n",
    "dg.insert(660, 427, 53, 'P3')"
   ]
  },
  {
   "cell_type": "code",
   "execution_count": 12,
   "metadata": {},
   "outputs": [],
   "source": [
    "dg.commit()"
   ]
  },
  {
   "cell_type": "code",
   "execution_count": 15,
   "metadata": {},
   "outputs": [],
   "source": [
    "con.close()"
   ]
  },
  {
   "cell_type": "raw",
   "metadata": {},
   "source": [
    "cursor.execute(\"\"\"\n",
    "CREATE TABLE 'diffraction_gratings'(\n",
    "ID   INTEGER   PRIMARY KEY   AUTOINCREMENT,\n",
    "CATEGORY INT NOT NULL,\n",
    "PERIOD INT NOT NULL,\n",
    "AMPLITUDE INT NOT NULL,\n",
    "MASTER CHARACTER(8))\n",
    "\"\"\")"
   ]
  },
  {
   "cell_type": "code",
   "execution_count": null,
   "metadata": {},
   "outputs": [],
   "source": [
    "cursor.execute(\"\"\"\n",
    "CREATE TABLE 'experiments'(\n",
    "ID   INTEGER   PRIMARY KEY   AUTOINCREMENT,\n",
    "DATE   DATE NOT NULL,\n",
    "MASTER_ID INTEGER NOT NULL,\n",
    "DIP INTEGER NOT NULL,\n",
    "FOLDER TEXT NOT NULL, \n",
    "COUNT TEXT NOT NULL,\n",
    "X REAL NOT NULL, \n",
    "Y NOT NULL, \n",
    "CON NOT NULL, \n",
    "INP NOT NULL, \n",
    "INPPX NOT NULL, \n",
    "IBGPX NOT NULL, \n",
    "STD NOT NULL, \n",
    "stdX REAL NOT NULL, \n",
    "stdY NOT NULL, \n",
    "stdCON NOT NULL, \n",
    "stdINP NOT NULL, \n",
    "stdINPPX NOT NULL, \n",
    "stdIBGPX NOT NULL, \n",
    "stdSTD NOT NULL, \n",
    ")\n",
    "\"\"\")"
   ]
  },
  {
   "cell_type": "raw",
   "metadata": {},
   "source": [
    "cursor.execute(\"\"\"\n",
    "CREATE TABLE 'measurements'(\n",
    "ID   INTEGER   PRIMARY KEY   AUTOINCREMENT,\n",
    "EXPERIMENT_ID  INTEGER NOT NULL,\n",
    "NP INTEGER NOT NULL,\n",
    "WAVELENGTH INTEGER NOT NULL,\n",
    "FILE TEXT NOT NULL\n",
    ")\n",
    "\"\"\")"
   ]
  },
  {
   "cell_type": "raw",
   "metadata": {},
   "source": [
    "cursor.execute(\"\"\"\n",
    "INSERT INTO  'diffraction_gratings' (CATEGORY, PERIOD, AMPLITUDE, MASTER)\n",
    "VALUES (600, 406, 45, 'M5')\n",
    "\"\"\")\n",
    "cursor.execute(\"\"\"\n",
    "INSERT INTO  'diffraction_gratings' (CATEGORY, PERIOD, AMPLITUDE, MASTER)\n",
    "VALUES (600, 406, 5345, 'P3')\n",
    "\"\"\")"
   ]
  },
  {
   "cell_type": "raw",
   "metadata": {},
   "source": [
    "cursor.execute(\"\"\"\n",
    "INSERT INTO  'experiments' (DATE, MASTER_ID, DIP, FOLDER)\n",
    "VALUES ('2020-02-25', 0, 598, '20_02_25_M5')\n",
    "\"\"\")\n",
    "cursor.execute(\"\"\"\n",
    "INSERT INTO  'experiments' (DATE, MASTER_ID, DIP, FOLDER)\n",
    "VALUES ('2020-02-25', 1, 615, '20_02_25_P3')\n",
    "\"\"\")"
   ]
  },
  {
   "cell_type": "raw",
   "metadata": {},
   "source": [
    "cursor.execute(\"\"\"\n",
    "INSERT INTO  'measurements' (EXPERIMENT_ID, NP, WAVELENGTH, FILE)\n",
    "VALUES (1, 80, 618, '01')\n",
    "\"\"\")\n",
    "cursor.execute(\"\"\"\n",
    "INSERT INTO  'measurements' (EXPERIMENT_ID, NP, WAVELENGTH, FILE)\n",
    "VALUES (1, 80, 620, '02')\n",
    "\"\"\")\n",
    "cursor.execute(\"\"\"\n",
    "INSERT INTO  'measurements' (EXPERIMENT_ID, NP, WAVELENGTH, FILE)\n",
    "VALUES (2, 80, 609, '01')\n",
    "\"\"\")\n",
    "cursor.execute(\"\"\"\n",
    "INSERT INTO  'measurements' (EXPERIMENT_ID, NP, WAVELENGTH, FILE)\n",
    "VALUES (2, 80, 630, '02')\n",
    "\"\"\")"
   ]
  },
  {
   "cell_type": "code",
   "execution_count": 10,
   "metadata": {},
   "outputs": [
    {
     "name": "stdin",
     "output_type": "stream",
     "text": [
      "Really? y/n y\n"
     ]
    }
   ],
   "source": [
    "dg.clear_all()"
   ]
  },
  {
   "cell_type": "code",
   "execution_count": 10,
   "metadata": {},
   "outputs": [
    {
     "name": "stdout",
     "output_type": "stream",
     "text": [
      "7,\n"
     ]
    }
   ],
   "source": [
    "cursor = con.execute(\"\"\"\n",
    "SELECT ID from 'diffraction_gratings'\n",
    "WHERE MASTER == 'P3';\n",
    "\"\"\")\n",
    "\n",
    "for row in cursor:\n",
    "    print(str(row).replace(', ', '\\t').replace(\"'\", \"\")[1:-1])\n"
   ]
  },
  {
   "cell_type": "code",
   "execution_count": 13,
   "metadata": {},
   "outputs": [
    {
     "data": {
      "text/plain": [
       "<sqlite3.Cursor at 0x9e62b5810>"
      ]
     },
     "execution_count": 13,
     "metadata": {},
     "output_type": "execute_result"
    }
   ],
   "source": []
  },
  {
   "cell_type": "code",
   "execution_count": null,
   "metadata": {},
   "outputs": [],
   "source": []
  }
 ],
 "metadata": {
  "kernelspec": {
   "display_name": "Python 3",
   "language": "python",
   "name": "python3"
  },
  "language_info": {
   "codemirror_mode": {
    "name": "ipython",
    "version": 3
   },
   "file_extension": ".py",
   "mimetype": "text/x-python",
   "name": "python",
   "nbconvert_exporter": "python",
   "pygments_lexer": "ipython3",
   "version": "3.7.4"
  }
 },
 "nbformat": 4,
 "nbformat_minor": 4
}
