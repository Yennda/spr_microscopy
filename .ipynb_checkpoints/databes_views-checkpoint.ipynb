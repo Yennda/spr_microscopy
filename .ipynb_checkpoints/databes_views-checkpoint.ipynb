{
 "cells": [
  {
   "cell_type": "code",
   "execution_count": 11,
   "metadata": {},
   "outputs": [],
   "source": [
    "import numpy as np\n",
    "import matplotlib.pyplot as plt\n",
    "from database_methods import Table, to_show\n",
    "import sqlite3\n",
    "con = sqlite3.connect('database_results.db')\n",
    "cursor = con.cursor()"
   ]
  },
  {
   "cell_type": "code",
   "execution_count": 12,
   "metadata": {},
   "outputs": [],
   "source": [
    "dg = Table(connection=con, name='masters')\n",
    "exp = Table(con, name = 'experiments')\n",
    "meas = Table(con, name = 'measurements')"
   ]
  },
  {
   "cell_type": "code",
   "execution_count": 13,
   "metadata": {},
   "outputs": [
    {
     "name": "stdout",
     "output_type": "stream",
     "text": [
      "CATEGORY, PERIOD, AMPLITUDE, MASTER\n",
      "DATE, MASTER_ID, DIP, FOLDER\n",
      "EXPERIMENT_ID, NP, WAVELENGTH, FILE, AR_TH, AR_DIP, AR_NOISE, EXC_THS, RATE, INFO, COUNT, X, Y, CON, INP, INPPX, IBGPX, STD, stdX, stdY, stdCON, stdINP, stdINPPX, stdIBGPX, stdSTD, NOTES\n"
     ]
    }
   ],
   "source": [
    "print(dg.columns)\n",
    "print(exp.columns)\n",
    "print(meas.columns)"
   ]
  },
  {
   "cell_type": "code",
   "execution_count": 14,
   "metadata": {},
   "outputs": [
    {
     "name": "stdout",
     "output_type": "stream",
     "text": [
      "80\t740\t727\t20-02-26\t128\t3.7494866284721313\n",
      "80\t732\t727\t20-02-26\t206\t4.424635611736389\n",
      "80\t734\t727\t20-02-26\t169\t5.380528060883221\n",
      "80\t736\t727\t20-02-26\t163\t2.907049071433627\n",
      "80\t740\t727\t20-02-26\t128\t3.7494866284721313\n",
      "80\t726\t727\t20-02-26\t113\t3.6359160741949874\n"
     ]
    }
   ],
   "source": [
    "data = con.execute(\"\"\"\n",
    "SELECT NP, WAVELENGTH, DIP, DATE, COUNT, CON\n",
    "FROM 'experiments' as EXP INNER JOIN 'measurements' as MEAS\n",
    "   ON EXP.ID = MEAS.EXPERIMENT_ID;\n",
    "   \"\"\")\n",
    "for row in data:\n",
    "    print(str(row).replace(', ', '\\t').replace(\"'\", \"\")[1:-1])"
   ]
  },
  {
   "cell_type": "code",
   "execution_count": 56,
   "metadata": {},
   "outputs": [
    {
     "name": "stdout",
     "output_type": "stream",
     "text": [
      "MEAS.ID\tWAVELENGTH\tNP\tDIP\tFILE\tDATE\tRATE\tCON\tMASTER\tNOTES\n",
      "1\t740\t80\t727\traw_07_1\t20-02-26\t59.20\t3.75\tQ4\tminimal_area = 6\n",
      "2\t732\t80\t727\traw_04_1\t20-02-26\t85.33\t4.42\tQ4\t-\n",
      "3\t734\t80\t727\traw_05_1\t20-02-26\t70.29\t5.38\tQ4\t-\n",
      "4\t736\t80\t727\traw_06_1\t20-02-26\t57.34\t2.91\tQ4\t-\n",
      "6\t726\t80\t727\traw_08_1\t20-02-26\t70.91\t3.64\tQ4\t-\n",
      "7\t724\t80\t727\traw_09_1\t20-02-26\t89.81\t3.05\tQ4\t-\n",
      "8\t732\t60\t727\traw_18_1\t20-02-26\t97.04\t3.97\tQ4\t-\n",
      "9\t732\t60\t727\traw_21_1\t20-02-26\t96.97\t3.82\tQ4\tsh\n"
     ]
    }
   ],
   "source": [
    "columns = 'MEAS.ID, WAVELENGTH, NP, DIP, FILE, DATE, RATE, CON, MASTER, NOTES'\n",
    "data = con.execute(\"\"\"\n",
    "SELECT {}\n",
    "FROM 'masters' as MAS \n",
    "INNER JOIN 'experiments' as EXP \n",
    "ON MAS.ID = EXP.MASTER_ID\n",
    "INNER JOIN 'measurements' as MEAS\n",
    "ON EXP.ID = MEAS.EXPERIMENT_ID;\n",
    "   \"\"\".format(columns))\n",
    "\n",
    "print(columns.replace(', ','\\t'))\n",
    "for row in data:\n",
    "    print(str(to_show(row)).replace(', ', '\\t').replace(\"'\", \"\")[1:-1])"
   ]
  },
  {
   "cell_type": "code",
   "execution_count": 40,
   "metadata": {},
   "outputs": [
    {
     "name": "stdout",
     "output_type": "stream",
     "text": [
      "NP\tWAVELENGTH\tX\n",
      "80\t740\t16.71\n",
      "80\t732\t32.05\n",
      "80\t734\t24.95\n",
      "80\t736\t23.03\n",
      "80\t726\t41.31\n",
      "80\t724\t40.87\n",
      "60\t732\t27.16\n",
      "60\t732\t28.07\n"
     ]
    }
   ],
   "source": [
    "columns = 'NP, WAVELENGTH, X'\n",
    "data = con.execute(\"\"\"\n",
    "SELECT {} FROM 'measurements';\n",
    "   \"\"\".format(columns))\n",
    "\n",
    "print(columns.replace(', ','\\t'))\n",
    "for row in data:\n",
    "    print(str(to_show(row)).replace(', ', '\\t').replace(\"'\", \"\")[1:-1])"
   ]
  },
  {
   "cell_type": "raw",
   "metadata": {},
   "source": [
    "con.execute(\"\"\"\n",
    "UPDATE 'measurements' SET NOTES = 'minimal_area = 6' WHERE ID = 1;\n",
    "\"\"\")"
   ]
  },
  {
   "cell_type": "raw",
   "metadata": {},
   "source": [
    "meas.del_row(5)"
   ]
  },
  {
   "cell_type": "code",
   "execution_count": 55,
   "metadata": {},
   "outputs": [],
   "source": [
    "meas.commit()"
   ]
  },
  {
   "cell_type": "code",
   "execution_count": 9,
   "metadata": {},
   "outputs": [],
   "source": [
    "con.close()"
   ]
  },
  {
   "cell_type": "code",
   "execution_count": null,
   "metadata": {},
   "outputs": [],
   "source": []
  }
 ],
 "metadata": {
  "kernelspec": {
   "display_name": "Python 3",
   "language": "python",
   "name": "python3"
  },
  "language_info": {
   "codemirror_mode": {
    "name": "ipython",
    "version": 3
   },
   "file_extension": ".py",
   "mimetype": "text/x-python",
   "name": "python",
   "nbconvert_exporter": "python",
   "pygments_lexer": "ipython3",
   "version": "3.7.4"
  }
 },
 "nbformat": 4,
 "nbformat_minor": 4
}
