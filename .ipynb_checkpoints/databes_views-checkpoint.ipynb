{
 "cells": [
  {
   "cell_type": "code",
   "execution_count": 37,
   "metadata": {},
   "outputs": [
    {
     "ename": "ImportError",
     "evalue": "cannot import name 'process_data' from 'database_methods' (C:\\Users\\bukacek\\Python Scripts\\spr_microscopy\\database_methods.py)",
     "output_type": "error",
     "traceback": [
      "\u001b[1;31m---------------------------------------------------------------------------\u001b[0m",
      "\u001b[1;31mImportError\u001b[0m                               Traceback (most recent call last)",
      "\u001b[1;32m<ipython-input-37-3f68f174e3c5>\u001b[0m in \u001b[0;36m<module>\u001b[1;34m\u001b[0m\n\u001b[0;32m      1\u001b[0m \u001b[1;32mimport\u001b[0m \u001b[0mnumpy\u001b[0m \u001b[1;32mas\u001b[0m \u001b[0mnp\u001b[0m\u001b[1;33m\u001b[0m\u001b[1;33m\u001b[0m\u001b[0m\n\u001b[0;32m      2\u001b[0m \u001b[1;32mimport\u001b[0m \u001b[0mmatplotlib\u001b[0m\u001b[1;33m.\u001b[0m\u001b[0mpyplot\u001b[0m \u001b[1;32mas\u001b[0m \u001b[0mplt\u001b[0m\u001b[1;33m\u001b[0m\u001b[1;33m\u001b[0m\u001b[0m\n\u001b[1;32m----> 3\u001b[1;33m \u001b[1;32mfrom\u001b[0m \u001b[0mdatabase_methods\u001b[0m \u001b[1;32mimport\u001b[0m \u001b[0mTable\u001b[0m\u001b[1;33m,\u001b[0m \u001b[0mto_show\u001b[0m\u001b[1;33m,\u001b[0m \u001b[0mhead\u001b[0m\u001b[1;33m,\u001b[0m \u001b[0mprocess_data\u001b[0m\u001b[1;33m\u001b[0m\u001b[1;33m\u001b[0m\u001b[0m\n\u001b[0m\u001b[0;32m      4\u001b[0m \u001b[1;32mimport\u001b[0m \u001b[0msqlite3\u001b[0m\u001b[1;33m\u001b[0m\u001b[1;33m\u001b[0m\u001b[0m\n\u001b[0;32m      5\u001b[0m \u001b[0mcon\u001b[0m \u001b[1;33m=\u001b[0m \u001b[0msqlite3\u001b[0m\u001b[1;33m.\u001b[0m\u001b[0mconnect\u001b[0m\u001b[1;33m(\u001b[0m\u001b[1;34m'database_results.db'\u001b[0m\u001b[1;33m)\u001b[0m\u001b[1;33m\u001b[0m\u001b[1;33m\u001b[0m\u001b[0m\n",
      "\u001b[1;31mImportError\u001b[0m: cannot import name 'process_data' from 'database_methods' (C:\\Users\\bukacek\\Python Scripts\\spr_microscopy\\database_methods.py)"
     ]
    }
   ],
   "source": [
    "import numpy as np\n",
    "import matplotlib.pyplot as plt\n",
    "from database_methods import Table, to_show, head, process_data\n",
    "import sqlite3\n",
    "con = sqlite3.connect('database_results.db')\n",
    "cursor = con.cursor()"
   ]
  },
  {
   "cell_type": "code",
   "execution_count": 15,
   "metadata": {},
   "outputs": [],
   "source": [
    "mas = Table(connection=con, name='masters')\n",
    "exp = Table(con, name = 'experiments')\n",
    "meas = Table(con, name = 'measurements')"
   ]
  },
  {
   "cell_type": "code",
   "execution_count": 16,
   "metadata": {},
   "outputs": [
    {
     "name": "stdout",
     "output_type": "stream",
     "text": [
      "CATEGORY, PERIOD, AMPLITUDE, MASTER, FWHM, R, S\n",
      "DATE, MASTER_ID, DIP, FOLDER\n",
      "EXPERIMENT_ID, NP, WAVELENGTH, FILE, AR_TH, AR_DIP, AR_NOISE, EXC_THS, RATE, INFO, COUNT, X, Y, CON, INP, INPPX, IBGPX, STD, stdX, stdY, stdCON, stdINP, stdINPPX, stdIBGPX, stdSTD, NOTES, AR_MIN, AR_COND, EXP_TYPE\n",
      "--------------------------------------------------------------------------------\n",
      "ID\tCATEGORY\tPERIOD\tAMPLITUDE\tMASTER\tFWHM\tR\tS\n",
      "1\t600\t405\t45\tM5\t23.0\t8.0\t15.9\n",
      "2\t600\t405\t53\tP3\t25.0\t19.7\t3.8\n",
      "3\t650\t452\t32\tK4\t12.5\t11.9\t17.8\n",
      "4\t650\t452\t40\tK5\t15.0\t18.0\t8.8\n",
      "5\t750\t528\t24\tL3\t7.0\t13.8\t78.5\n",
      "6\t750\t526\t30\tQ4\t9.5\t22.0\t30.7\n",
      "ID\tDATE\tMASTER_ID\tDIP\tFOLDER\n",
      "1\t20-02-25\t2\t615\t20_02_25_P3/\n",
      "2\t20-02-26\t6\t727\t20_02_26_Q3/\n",
      "3\t20-03-16\t4\t658\t20_03_16_K5/\n",
      "5\t20-02-25\t1\t598\t20_02_25_M5/\n",
      "6\t20-03-16\t3\t647\t20_03_16_K4/\n",
      "7\t20-04-15\t5\t740\t20_04_15_L3/\n",
      "8\t20-04-14\t1\t606\t20_04_14_M5/\n",
      "9\t20-04-20\t6\t729\t20_04_20_Q4/\n"
     ]
    }
   ],
   "source": [
    "print(mas.columns)\n",
    "print(exp.columns)\n",
    "print(meas.columns)\n",
    "print('-'*80)\n",
    "mas.show_all()\n",
    "exp.show_all()"
   ]
  },
  {
   "cell_type": "raw",
   "metadata": {},
   "source": [
    "con.execute(\"\"\"\n",
    "UPDATE 'masters' SET S = '78.5' WHERE MASTER='L3'\n",
    "\"\"\")"
   ]
  },
  {
   "cell_type": "code",
   "execution_count": 17,
   "metadata": {},
   "outputs": [],
   "source": [
    "con.commit()"
   ]
  },
  {
   "cell_type": "code",
   "execution_count": 18,
   "metadata": {},
   "outputs": [
    {
     "name": "stdout",
     "output_type": "stream",
     "text": [
      "MASTER\t AVG(DI\tAVG(INP\tAVG(INP\tAVG(CON\tAVG(INP\tAVG(IBG\n",
      "L3\t740.00\t18.53\t54.94\t3.31\t1.15\t0.3505\n",
      "Q4\t727.80\t24.76\t68.44\t4.60\t1.67\t0.3943\n",
      "K5\t658.00\t14.79\t48.99\t5.44\t1.64\t0.3078\n",
      "K4\t647.00\t6.18\t24.67\t3.32\t0.9056\t0.2691\n",
      "P3\t615.00\t5.25\t20.50\t7.27\t1.81\t0.2621\n",
      "M5\t606.00\t2.54\t11.68\t6.60\t1.42\t0.2196\n"
     ]
    }
   ],
   "source": [
    "# \n",
    "columns = 'MASTER,  AVG(DIP), AVG(INP), AVG(INP/IBGPX), AVG(CON), AVG(INPPX), AVG(IBGPX)'\n",
    "data = con.execute(\"\"\"\n",
    "SELECT {}\n",
    "FROM 'masters' as MAS \n",
    "INNER JOIN 'experiments' as EXP \n",
    "ON MAS.ID = EXP.MASTER_ID\n",
    "INNER JOIN 'measurements' as MEAS\n",
    "ON EXP.ID = MEAS.EXPERIMENT_ID\n",
    "GROUP BY MASTER\n",
    "ORDER BY DIP DESC\n",
    ";\n",
    "   \"\"\".format(columns))\n",
    "\n",
    "head(columns)\n",
    "\n",
    "for row in data:\n",
    "    print(str(to_show(row)).replace(', ', '\\t').replace(\"'\", \"\")[1:-1])\n"
   ]
  },
  {
   "cell_type": "code",
   "execution_count": 34,
   "metadata": {},
   "outputs": [
    {
     "name": "stdout",
     "output_type": "stream",
     "text": [
      " MASTER\tDATE\tFILE\tWAVELEN\tNP\tDIP\tCOUNT\tRATE\tCON\tCOUNT\tX*Y\tINP\tINPPX\tIBGPX\tSTD\tEXP_TYP\t NOTES\n",
      "Q4\t20-04-2\traw_02_\t732\t80\t729\t138\t47.93\t11.33\t138\t225.36\t25.61\t3.24\t0.2904\t0.4365\t-\t-\n",
      "Q4\t20-04-2\traw_17_\t732\t80\t729\t226\t61.15\t6.50\t226\t306.35\t25.23\t1.76\t0.2741\t0.4109\tstrep\t-\n",
      "Q4\t20-04-2\traw_15_\t732\t80\t729\t101\t31.38\t4.65\t101\t469.57\t29.46\t1.27\t0.2729\t0.4068\tsh\t-\n",
      "---\n",
      "3\n"
     ]
    }
   ],
   "source": [
    "# \n",
    "columns = ' MASTER, DATE, FILE, WAVELENGTH, NP, DIP, COUNT, RATE, CON, COUNT, X*Y, INP, INPPX, IBGPX, STD, EXP_TYPE,  NOTES'\n",
    "data = con.execute(\"\"\"\n",
    "SELECT {}\n",
    "FROM 'masters' as MAS \n",
    "INNER JOIN 'experiments' as EXP \n",
    "ON MAS.ID = EXP.MASTER_ID\n",
    "INNER JOIN 'measurements' as MEAS\n",
    "ON EXP.ID = MEAS.EXPERIMENT_ID\n",
    "WHERE MASTER = 'Q4' AND DATE='20-04-20' AND WAVELENGTH = 732 AND NP = 80\n",
    "ORDER BY CON DESC\n",
    ";\n",
    "   \"\"\".format(columns))\n",
    "\n",
    "head(columns)\n",
    "\n",
    "i=0\n",
    "for row in data:\n",
    "    print(str(to_show(row)).replace(', ', '\\t').replace(\"'\", \"\")[1:-1])\n",
    "    i+=1\n",
    "    \n",
    "    \n",
    "print('---\\n{}'.format(i))"
   ]
  },
  {
   "cell_type": "code",
   "execution_count": 35,
   "metadata": {},
   "outputs": [
    {
     "ename": "NameError",
     "evalue": "name 'process_data' is not defined",
     "output_type": "error",
     "traceback": [
      "\u001b[1;31m---------------------------------------------------------------------------\u001b[0m",
      "\u001b[1;31mNameError\u001b[0m                                 Traceback (most recent call last)",
      "\u001b[1;32m<ipython-input-35-2a7b6bbff51c>\u001b[0m in \u001b[0;36m<module>\u001b[1;34m\u001b[0m\n\u001b[0;32m      1\u001b[0m \u001b[0mcolumns\u001b[0m \u001b[1;33m=\u001b[0m \u001b[1;34m'AR_TH, EXC_THS, AR_COND, AR_MIN'\u001b[0m\u001b[1;33m\u001b[0m\u001b[1;33m\u001b[0m\u001b[0m\n\u001b[1;32m----> 2\u001b[1;33m data = process_data(\n\u001b[0m\u001b[0;32m      3\u001b[0m         con.execute(\"\"\"\n\u001b[0;32m      4\u001b[0m \u001b[0mSELECT\u001b[0m \u001b[1;33m{\u001b[0m\u001b[1;33m}\u001b[0m\u001b[1;33m\u001b[0m\u001b[1;33m\u001b[0m\u001b[0m\n\u001b[0;32m      5\u001b[0m \u001b[0mFROM\u001b[0m \u001b[1;34m'masters'\u001b[0m \u001b[1;32mas\u001b[0m \u001b[0mMAS\u001b[0m\u001b[1;33m\u001b[0m\u001b[1;33m\u001b[0m\u001b[0m\n",
      "\u001b[1;31mNameError\u001b[0m: name 'process_data' is not defined"
     ]
    }
   ],
   "source": [
    "columns = 'AR_TH, EXC_THS, AR_COND, AR_MIN'\n",
    "data = process_data(\n",
    "        con.execute(\"\"\"\n",
    "SELECT {}\n",
    "FROM 'masters' as MAS \n",
    "INNER JOIN 'experiments' as EXP \n",
    "ON MAS.ID = EXP.MASTER_ID\n",
    "INNER JOIN 'measurements' as MEAS\n",
    "ON EXP.ID = MEAS.EXPERIMENT_ID \n",
    "WHERE FOLDER = '{}' AND FILE = '{}'\n",
    ";\n",
    "   \"\"\".format(columns, folder, file)),\n",
    "        columns.split(', ')\n",
    "        )"
   ]
  },
  {
   "cell_type": "code",
   "execution_count": 28,
   "metadata": {},
   "outputs": [
    {
     "name": "stdout",
     "output_type": "stream",
     "text": [
      "NP\tWAVELENGTH\tAR_TH\tAR_NOISE\tEXC_THS\tAR_MIN\tAR_COND\texp_type\n",
      "80\t732\t60.0\t0.001\t[2]\t10\t2\t-\n",
      "60\t732\t59.0\t0.001\t[2]\t10\t2\t-\n",
      "60\t732\t46.0\t0.001\t[2]\t10\t2\tsh\n",
      "40\t732\t12.0\t0.001\t[1.1]\t2\t2\t-\n",
      "80\t732\t100.0\t0.001\t[2]\t2\t2\t-\n",
      "60\t732\t20.0\t0.001\t[2]\t2\t2\t-\n",
      "80\t732\t40.0\t0.001\t[2]\t2\t2\tstrep\n",
      "147\t732\t8.0\t0.001\t[2]\t2\t2\tps\n",
      "40\t732\t9.0\t0.001\t[2]\t6\t2\t-\n",
      "80\t732\t31.0\t0.001\t[2]\t6\t2\tsh\n"
     ]
    }
   ],
   "source": [
    "columns = 'NP, WAVELENGTH, AR_TH, AR_NOISE, EXC_THS, AR_MIN, AR_COND, exp_type'\n",
    "data = con.execute(\"\"\"\n",
    "SELECT {} FROM 'measurements'\n",
    "WHERE WAVELENGTH=732\n",
    "ORDER BY WAVELENGTH ASC;\n",
    "   \"\"\".format(columns))\n",
    "\n",
    "print(columns.replace(', ','\\t'))\n",
    "for row in data:\n",
    "    print(str(row).replace(', ', '\\t').replace(\"'\", \"\")[1:-1])"
   ]
  },
  {
   "cell_type": "code",
   "execution_count": 8,
   "metadata": {},
   "outputs": [
    {
     "data": {
      "text/plain": [
       "<sqlite3.Cursor at 0xb09bb7aea0>"
      ]
     },
     "execution_count": 8,
     "metadata": {},
     "output_type": "execute_result"
    }
   ],
   "source": [
    "con.execute(\"\"\"\n",
    "UPDATE 'measurements' SET NOTES = 'weak' WHERE COUNT = 165\n",
    "\"\"\")"
   ]
  },
  {
   "cell_type": "raw",
   "metadata": {},
   "source": [
    "meas.del_row(5)"
   ]
  },
  {
   "cell_type": "code",
   "execution_count": 215,
   "metadata": {},
   "outputs": [],
   "source": [
    "meas.commit()"
   ]
  },
  {
   "cell_type": "code",
   "execution_count": 13,
   "metadata": {},
   "outputs": [],
   "source": [
    "con.close()"
   ]
  },
  {
   "cell_type": "code",
   "execution_count": null,
   "metadata": {},
   "outputs": [],
   "source": []
  }
 ],
 "metadata": {
  "kernelspec": {
   "display_name": "Python 3",
   "language": "python",
   "name": "python3"
  },
  "language_info": {
   "codemirror_mode": {
    "name": "ipython",
    "version": 3
   },
   "file_extension": ".py",
   "mimetype": "text/x-python",
   "name": "python",
   "nbconvert_exporter": "python",
   "pygments_lexer": "ipython3",
   "version": "3.7.4"
  }
 },
 "nbformat": 4,
 "nbformat_minor": 4
}
