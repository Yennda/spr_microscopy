{
 "cells": [
  {
   "cell_type": "code",
   "execution_count": 1,
   "metadata": {},
   "outputs": [],
   "source": [
    "import numpy as np\n",
    "import matplotlib.pyplot as plt\n",
    "from database_methods import Table, to_show, head\n",
    "import sqlite3\n",
    "con = sqlite3.connect('database_results.db')\n",
    "cursor = con.cursor()"
   ]
  },
  {
   "cell_type": "code",
   "execution_count": 29,
   "metadata": {},
   "outputs": [],
   "source": [
    "mas = Table(connection=con, name='masters')\n",
    "exp = Table(con, name = 'experiments')\n",
    "meas = Table(con, name = 'measurements')"
   ]
  },
  {
   "cell_type": "code",
   "execution_count": 43,
   "metadata": {},
   "outputs": [
    {
     "name": "stdout",
     "output_type": "stream",
     "text": [
      "CATEGORY, PERIOD, AMPLITUDE, MASTER\n",
      "DATE, MASTER_ID, DIP, FOLDER\n",
      "EXPERIMENT_ID, NP, WAVELENGTH, FILE, AR_TH, AR_DIP, AR_NOISE, EXC_THS, RATE, INFO, COUNT, X, Y, CON, INP, INPPX, IBGPX, STD, stdX, stdY, stdCON, stdINP, stdINPPX, stdIBGPX, stdSTD, NOTES, AR_MIN, AR_COND, EXP_TYPE\n",
      "--------------------------------------------------------------------------------\n",
      "ID\tDATE\tMASTER_ID\tDIP\tFOLDER\n",
      "1\t20-02-25\t2\t615\t20_02_25_P3/\n",
      "2\t20-02-26\t6\t727\t20_02_26_Q3/\n",
      "3\t20-03-16\t4\t647\t20_03_16_K5/\n",
      "4\t20-02-26\t5\t741\t20_02_26_L3/\n",
      "5\t20-02-25\t1\t598\t20_02_25_M5/\n",
      "6\t20-03-16\t3\t647\t20_03_16_K4/\n"
     ]
    }
   ],
   "source": [
    "print(mas.columns)\n",
    "print(exp.columns)\n",
    "print(meas.columns)\n",
    "print('-'*80)\n",
    "# mas.show_all()\n",
    "exp.show_all()"
   ]
  },
  {
   "cell_type": "code",
   "execution_count": 4,
   "metadata": {},
   "outputs": [
    {
     "name": "stdout",
     "output_type": "stream",
     "text": [
      "80\t740\t727\t20-02-26\t128\t3.7494866284721313\n",
      "80\t732\t727\t20-02-26\t206\t4.424635611736389\n",
      "80\t734\t727\t20-02-26\t169\t5.380528060883221\n",
      "80\t736\t727\t20-02-26\t163\t2.907049071433627\n",
      "80\t726\t727\t20-02-26\t113\t3.6359160741949874\n",
      "80\t724\t727\t20-02-26\t137\t3.053237526603112\n",
      "60\t732\t727\t20-02-26\t166\t3.968417288931015\n",
      "60\t732\t727\t20-02-26\t234\t3.816722879969379\n",
      "80\t651\t647\t20-03-16\t54\t3.8884484367508425\n",
      "80\t647\t647\t20-03-16\t55\t1.9014506031657823\n",
      "80\t649\t647\t20-03-16\t66\t2.9057549932215254\n"
     ]
    }
   ],
   "source": [
    "data = con.execute(\"\"\"\n",
    "SELECT NP, WAVELENGTH, DIP, DATE, COUNT, CON\n",
    "FROM 'experiments' as EXP INNER JOIN 'measurements' as MEAS\n",
    "   ON EXP.ID = MEAS.EXPERIMENT_ID;\n",
    "   \"\"\")\n",
    "for row in data:\n",
    "    print(str(row).replace(', ', '\\t').replace(\"'\", \"\")[1:-1])"
   ]
  },
  {
   "cell_type": "code",
   "execution_count": 54,
   "metadata": {},
   "outputs": [
    {
     "name": "stdout",
     "output_type": "stream",
     "text": [
      " MASTER\tWAVELEN\tNP\tDIP\tFILE\tRATE\tCON\tINP\tAR_MIN\tAR_COND\tEXC_THS\tEXP_TYP\t NOTES\tFOLDER\n",
      "K4\t653\t100\t647\traw_27_\t11.54\t4.87\t9.90\t6\t1\t[2.4]\t-\t-\t20_03_1\n",
      "K4\t653\t80\t647\traw_06_\t31.72\t4.65\t8.89\t6\t1\t[2]\t-\t-\t20_03_1\n",
      "K4\t651\t80\t647\traw_05_\t29.07\t3.89\t10.07\t6\t2\t[2.1]\t-\t-\t20_03_1\n",
      "K4\t655\t80\t647\traw_07_\t17.72\t3.73\t4.88\t4\t1\t[1.5]\t-\t-\t20_03_1\n",
      "K4\t653\t60\t647\traw_16_\t27.27\t3.33\t5.11\t6\t1\t[1.7]\t-\t-\t20_03_1\n",
      "K4\t651\t60\t647\traw_13_\t33.00\t3.11\t7.49\t6\t1\t[2]\t-\t-\t20_03_1\n",
      "K4\t649\t80\t647\traw_04_\t26.32\t2.91\t5.14\t6\t2\t[1.5]\t-\t-\t20_03_1\n",
      "K4\t649\t60\t647\traw_14_\t27.78\t2.77\t3.96\t6\t2\t[1.7]\t-\t-\t20_03_1\n",
      "K4\t651\t100\t647\traw_26_\t19.10\t2.70\t6.45\t6\t2\t[2.1]\t-\tbg fluc\t20_03_1\n",
      "K4\t660\t80\t647\traw_08_\t25.53\t2.68\t3.00\t1\t1\t[1.4]\t-\tbadly r\t20_03_1\n",
      "K4\t647\t80\t647\traw_03_\t15.56\t1.90\t3.11\t6\t1\t[1.1]\t-\t-\t20_03_1\n",
      "K5\t668\t80\t658\traw_06_\t26.25\t6.47\t22.46\t6\t1\t[2.5]\t-\tbg inte\t20_03_1\n",
      "K5\t666\t80\t658\traw_05_\t42.59\t6.04\t17.09\t6\t1\t[2]\t-\tbg inte\t20_03_1\n",
      "K5\t670\t80\t658\traw_07_\t39.07\t5.94\t21.37\t6\t1\t[2.5]\t-\tbg inte\t20_03_1\n",
      "K5\t656\t80\t658\traw_09_\t36.97\t5.93\t11.65\t6\t1\t[2]\t-\t-\t20_03_1\n",
      "K5\t660\t80\t658\traw_01_\t33.67\t5.35\t12.40\t6\t1\t[2]\t-\tnice\t20_03_1\n",
      "K5\t662\t80\t658\traw_03_\t38.24\t5.27\t18.04\t6\t1\t[2]\t-\t-\t20_03_1\n",
      "K5\t654\t80\t658\traw_10_\t51.58\t5.05\t13.51\t6\t1\t[2]\t-\t-\t20_03_1\n",
      "K5\t664\t80\t658\traw_04_\t50.00\t4.90\t16.49\t6\t1\t[2]\t-\tbg inte\t20_03_1\n",
      "K5\t658\t80\t658\traw_02_\t39.15\t4.85\t12.93\t6\t1\t[2]\t-\tnice\t20_03_1\n",
      "Q4\t734\t80\t727\traw_05_\t70.29\t5.38\t36.50\t10\t2\t[2]\t-\t-\t20_02_2\n",
      "Q4\t732\t80\t727\traw_04_\t85.33\t4.42\t46.00\t10\t2\t[2]\t-\t-\t20_02_2\n",
      "Q4\t732\t60\t727\traw_18_\t97.04\t3.97\t31.03\t10\t2\t[2]\t-\t-\t20_02_2\n",
      "Q4\t732\t60\t727\traw_21_\t96.97\t3.82\t30.71\t10\t2\t[2]\tsh\t-\t20_02_2\n",
      "Q4\t740\t80\t727\traw_07_\t59.20\t3.75\t15.91\t6\t2\t[2.4]\t-\t-\t20_02_2\n",
      "Q4\t726\t80\t727\traw_08_\t70.91\t3.64\t20.36\t10\t2\t[2]\t-\t-\t20_02_2\n",
      "Q4\t724\t80\t727\traw_09_\t89.81\t3.05\t20.65\t10\t2\t[1.2\t2\t-\t-\t20_02_2\n",
      "Q4\t736\t80\t727\traw_06_\t57.34\t2.91\t21.79\t10\t2\t[1.4]\t-\t-\t20_02_2\n"
     ]
    }
   ],
   "source": [
    "# \n",
    "columns = ' MASTER, WAVELENGTH, NP, DIP, FILE, RATE, CON, INP, AR_MIN, AR_COND, EXC_THS, EXP_TYPE,  NOTES, FOLDER'\n",
    "data = con.execute(\"\"\"\n",
    "SELECT {}\n",
    "FROM 'masters' as MAS \n",
    "INNER JOIN 'experiments' as EXP \n",
    "ON MAS.ID = EXP.MASTER_ID\n",
    "INNER JOIN 'measurements' as MEAS\n",
    "ON EXP.ID = MEAS.EXPERIMENT_ID\n",
    "ORDER BY MASTER, CON DESC;\n",
    "   \"\"\".format(columns))\n",
    "\n",
    "head(columns)\n",
    "\n",
    "for row in data:\n",
    "    print(str(to_show(row)).replace(', ', '\\t').replace(\"'\", \"\")[1:-1])\n",
    "    \n"
   ]
  },
  {
   "cell_type": "code",
   "execution_count": 40,
   "metadata": {},
   "outputs": [
    {
     "name": "stdout",
     "output_type": "stream",
     "text": [
      "NP\tWAVELENGTH\tX\n",
      "80\t740\t16.71\n",
      "80\t732\t32.05\n",
      "80\t734\t24.95\n",
      "80\t736\t23.03\n",
      "80\t726\t41.31\n",
      "80\t724\t40.87\n",
      "60\t732\t27.16\n",
      "60\t732\t28.07\n"
     ]
    }
   ],
   "source": [
    "columns = 'NP, WAVELENGTH, X'\n",
    "data = con.execute(\"\"\"\n",
    "SELECT {} FROM 'measurements';\n",
    "   \"\"\".format(columns))\n",
    "\n",
    "print(columns.replace(', ','\\t'))\n",
    "for row in data:\n",
    "    print(str(to_show(row)).replace(', ', '\\t').replace(\"'\", \"\")[1:-1])"
   ]
  },
  {
   "cell_type": "code",
   "execution_count": 53,
   "metadata": {},
   "outputs": [
    {
     "data": {
      "text/plain": [
       "<sqlite3.Cursor at 0x3bdd0efa40>"
      ]
     },
     "execution_count": 53,
     "metadata": {},
     "output_type": "execute_result"
    }
   ],
   "source": [
    "con.execute(\"\"\"\n",
    "UPDATE 'measurements' SET NOTES = '-' WHERE WAVELENGTH = 656 OR WAVELENGTH = 654\n",
    "\"\"\")"
   ]
  },
  {
   "cell_type": "raw",
   "metadata": {},
   "source": [
    "meas.del_row(5)"
   ]
  },
  {
   "cell_type": "code",
   "execution_count": 55,
   "metadata": {},
   "outputs": [],
   "source": [
    "meas.commit()"
   ]
  },
  {
   "cell_type": "code",
   "execution_count": 9,
   "metadata": {},
   "outputs": [],
   "source": [
    "con.close()"
   ]
  },
  {
   "cell_type": "code",
   "execution_count": null,
   "metadata": {},
   "outputs": [],
   "source": []
  }
 ],
 "metadata": {
  "kernelspec": {
   "display_name": "Python 3",
   "language": "python",
   "name": "python3"
  },
  "language_info": {
   "codemirror_mode": {
    "name": "ipython",
    "version": 3
   },
   "file_extension": ".py",
   "mimetype": "text/x-python",
   "name": "python",
   "nbconvert_exporter": "python",
   "pygments_lexer": "ipython3",
   "version": "3.7.4"
  }
 },
 "nbformat": 4,
 "nbformat_minor": 4
}
