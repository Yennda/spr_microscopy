{
 "cells": [
  {
   "cell_type": "code",
   "execution_count": 2,
   "metadata": {},
   "outputs": [],
   "source": [
    "import numpy as np\n",
    "import matplotlib.pyplot as plt\n",
    "from database_methods import Table, to_show, head, process_data\n",
    "import sqlite3\n",
    "con = sqlite3.connect('database_results.db')\n",
    "cursor = con.cursor()"
   ]
  },
  {
   "cell_type": "code",
   "execution_count": 3,
   "metadata": {},
   "outputs": [],
   "source": [
    "mas = Table(connection=con, name='masters')\n",
    "exp = Table(con, name = 'experiments')\n",
    "meas = Table(con, name = 'measurements')"
   ]
  },
  {
   "cell_type": "code",
   "execution_count": 4,
   "metadata": {},
   "outputs": [
    {
     "name": "stdout",
     "output_type": "stream",
     "text": [
      "CATEGORY, PERIOD, AMPLITUDE, MASTER, FWHM, R, S\n",
      "DATE, MASTER_ID, DIP, FOLDER\n",
      "EXPERIMENT_ID, NP, WAVELENGTH, FILE, AR_TH, AR_DIP, AR_NOISE, EXC_THS, RATE, INFO, COUNT, X, Y, CON, INP, INPPX, IBGPX, STD, stdX, stdY, stdCON, stdINP, stdINPPX, stdIBGPX, stdSTD, NOTES, AR_MIN, AR_COND, EXP_TYPE\n",
      "--------------------------------------------------------------------------------\n",
      "ID\tCATEGORY\tPERIOD\tAMPLITUDE\tMASTER\tFWHM\tR\tS\n",
      "1\t600\t405\t45\tM5\t23.0\t8.0\t15.9\n",
      "2\t600\t405\t53\tP3\t25.0\t19.7\t3.8\n",
      "3\t650\t452\t32\tK4\t12.5\t11.9\t17.8\n",
      "4\t650\t452\t40\tK5\t15.0\t18.0\t8.8\n",
      "5\t750\t528\t24\tL3\t7.0\t13.8\t78.5\n",
      "6\t750\t526\t30\tQ4\t9.5\t22.0\t30.7\n",
      "ID\tDATE\tMASTER_ID\tDIP\tFOLDER\n",
      "1\t20-02-25\t2\t615\t20_02_25_P3/\n",
      "2\t20-02-26\t6\t727\t20_02_26_Q3/\n",
      "3\t20-03-16\t4\t658\t20_03_16_K5/\n",
      "5\t20-02-25\t1\t598\t20_02_25_M5/\n",
      "6\t20-03-16\t3\t647\t20_03_16_K4/\n",
      "7\t20-04-15\t5\t740\t20_04_15_L3/\n",
      "8\t20-04-14\t1\t606\t20_04_14_M5/\n",
      "9\t20-04-20\t6\t729\t20_04_20_Q4/\n"
     ]
    }
   ],
   "source": [
    "print(mas.columns)\n",
    "print(exp.columns)\n",
    "print(meas.columns)\n",
    "print('-'*80)\n",
    "mas.show_all()\n",
    "exp.show_all()"
   ]
  },
  {
   "cell_type": "raw",
   "metadata": {},
   "source": [
    "con.execute(\"\"\"\n",
    "UPDATE 'masters' SET S = '78.5' WHERE MASTER='L3'\n",
    "\"\"\")"
   ]
  },
  {
   "cell_type": "code",
   "execution_count": 5,
   "metadata": {},
   "outputs": [],
   "source": [
    "con.commit()"
   ]
  },
  {
   "cell_type": "code",
   "execution_count": 6,
   "metadata": {},
   "outputs": [
    {
     "name": "stdout",
     "output_type": "stream",
     "text": [
      "MASTER\t AVG(DI\tAVG(INP\tAVG(INP\tAVG(CON\tAVG(INP\tAVG(IBG\n",
      "L3\t740.00\t18.53\t54.94\t3.31\t1.15\t0.3505\n",
      "Q4\t727.88\t25.47\t72.46\t5.13\t1.79\t0.3870\n",
      "K5\t658.00\t14.79\t48.99\t5.44\t1.64\t0.3078\n",
      "K4\t647.00\t6.18\t24.67\t3.32\t0.9056\t0.2691\n",
      "P3\t615.00\t5.25\t20.50\t7.27\t1.81\t0.2621\n",
      "M5\t606.00\t2.54\t11.68\t6.60\t1.42\t0.2196\n"
     ]
    }
   ],
   "source": [
    "# \n",
    "columns = 'MASTER,  AVG(DIP), AVG(INP), AVG(INP/IBGPX), AVG(CON), AVG(INPPX), AVG(IBGPX)'\n",
    "data = con.execute(\"\"\"\n",
    "SELECT {}\n",
    "FROM 'masters' as MAS \n",
    "INNER JOIN 'experiments' as EXP \n",
    "ON MAS.ID = EXP.MASTER_ID\n",
    "INNER JOIN 'measurements' as MEAS\n",
    "ON EXP.ID = MEAS.EXPERIMENT_ID\n",
    "GROUP BY MASTER\n",
    "ORDER BY DIP DESC\n",
    ";\n",
    "   \"\"\".format(columns))\n",
    "\n",
    "head(columns)\n",
    "\n",
    "for row in data:\n",
    "    print(str(to_show(row)).replace(', ', '\\t').replace(\"'\", \"\")[1:-1])\n"
   ]
  },
  {
   "cell_type": "code",
   "execution_count": 11,
   "metadata": {},
   "outputs": [
    {
     "name": "stdout",
     "output_type": "stream",
     "text": [
      "NP\tFILE\tX\tY\tCON\tX*Y\tINP\tstdINP \tIBGPX\tEXP_TYP\n",
      "80\traw_02_\t24.29\t9.28\t11.33\t225.36\t25.61\t19.26\t0.2904\t-\n",
      "60\traw_25_\t37.79\t12.75\t5.39\t481.71\t27.55\t20.75\t0.2537\t-\n",
      "40\traw_10_\t33.70\t12.84\t5.93\t432.52\t33.27\t27.78\t0.2710\t-\n",
      "---\n",
      "3\n"
     ]
    }
   ],
   "source": [
    "# \n",
    "columns = 'NP, FILE, X, Y, CON, X*Y, INP, stdINP INPPX, IBGPX, EXP_TYPE'\n",
    "data = con.execute(\"\"\"\n",
    "SELECT {}\n",
    "FROM 'masters' as MAS \n",
    "INNER JOIN 'experiments' as EXP \n",
    "ON MAS.ID = EXP.MASTER_ID\n",
    "INNER JOIN 'measurements' as MEAS\n",
    "ON EXP.ID = MEAS.EXPERIMENT_ID\n",
    "WHERE MASTER = 'Q4' AND DATE='20-04-20' AND WAVELENGTH = 732 AND EXP_TYPE = '-'\n",
    "ORDER BY NP DESC\n",
    ";\n",
    "   \"\"\".format(columns))\n",
    "\n",
    "head(columns)\n",
    "\n",
    "i=0\n",
    "for row in data:\n",
    "    print(str(to_show(row)).replace(', ', '\\t').replace(\"'\", \"\")[1:-1])\n",
    "    i+=1\n",
    "    \n",
    "    \n",
    "print('---\\n{}'.format(i))"
   ]
  },
  {
   "cell_type": "code",
   "execution_count": 26,
   "metadata": {},
   "outputs": [
    {
     "name": "stdout",
     "output_type": "stream",
     "text": [
      "MASTER\tNP\tWAVELEN\tFOLDER\tFILE\tX\tY\tCON\tX*Y\tINP\tstdINP \tIBGPX\tEXP_TYP\n",
      "P3\t80\t615\t20_02_2\traw_08_\t4.83\t5.63\t9.08\t27.17\t4.61\t2.02\t0.2231\t-\n",
      "P3\t60\t612\t20_02_2\traw_16_\t4.96\t5.39\t8.28\t26.76\t4.66\t2.03\t0.2225\t-\n",
      "P3\t80\t612\t20_02_2\traw_29_\t5.11\t6.36\t8.16\t32.51\t4.91\t2.18\t0.2032\tsh\n",
      "P3\t80\t614\t20_02_2\traw_09_\t5.23\t5.52\t8.03\t28.83\t4.36\t2.37\t0.2244\t-\n",
      "P3\t80\t612\t20_02_2\traw_10_\t5.06\t5.98\t7.86\t30.26\t4.53\t2.27\t0.1912\t-\n",
      "P3\t80\t622\t20_02_2\traw_06_\t5.55\t5.11\t7.80\t28.36\t5.34\t2.83\t0.2645\t-\n",
      "P3\t80\t612\t20_02_2\traw_32_\t5.11\t6.11\t7.43\t31.24\t4.54\t2.02\t0.2021\tstrep\n",
      "P3\t80\t628\t20_02_2\traw_03_\t5.86\t5.48\t6.86\t32.14\t6.73\t4.08\t0.3297\t-\n",
      "P3\t80\t618\t20_02_2\traw_07_\t6.58\t6.58\t6.82\t43.26\t5.85\t1.92\t0.2803\t-\n",
      "P3\t80\t610\t20_02_2\traw_11_\t6.25\t6.53\t6.63\t40.83\t5.63\t2.33\t0.2363\t-\n",
      "P3\t80\t624\t20_02_2\traw_05_\t5.50\t5.97\t6.52\t32.84\t5.26\t2.83\t0.2794\t-\n",
      "P3\t80\t602\t20_02_2\traw_14_\t4.93\t5.89\t6.51\t28.99\t6.21\t2.97\t0.3352\t-\n",
      "P3\t80\t626\t20_02_2\traw_04_\t5.66\t4.57\t6.48\t25.87\t5.68\t3.98\t0.4105\t-\n",
      "P3\t80\t606\t20_02_2\traw_13_\t5.33\t6.04\t6.32\t32.18\t5.42\t2.60\t0.2714\t-\n",
      "P3\t80\t608\t20_02_2\traw_12_\t5.34\t6.10\t6.25\t32.59\t5.07\t2.49\t0.2577\t-\n",
      "---\n",
      "15\n"
     ]
    }
   ],
   "source": [
    "# \n",
    "columns = 'MASTER, NP, WAVELENGTH, FOLDER, FILE, X, Y, CON, X*Y, INP, stdINP INPPX, IBGPX, EXP_TYPE'\n",
    "data = con.execute(\"\"\"\n",
    "SELECT {}\n",
    "FROM 'masters' as MAS \n",
    "INNER JOIN 'experiments' as EXP \n",
    "ON MAS.ID = EXP.MASTER_ID\n",
    "INNER JOIN 'measurements' as MEAS\n",
    "ON EXP.ID = MEAS.EXPERIMENT_ID\n",
    "WHERE MASTER = 'P3'\n",
    "ORDER BY CON DESC\n",
    ";\n",
    "   \"\"\".format(columns))\n",
    "\n",
    "head(columns)\n",
    "\n",
    "i=0\n",
    "for row in data:\n",
    "    print(str(to_show(row)).replace(', ', '\\t').replace(\"'\", \"\")[1:-1])\n",
    "    i+=1\n",
    "    \n",
    "    \n",
    "print('---\\n{}'.format(i))"
   ]
  },
  {
   "cell_type": "code",
   "execution_count": 12,
   "metadata": {},
   "outputs": [],
   "source": [
    "folder = '20_04_20_Q4/'\n",
    "file = 'raw_17_1'\n",
    "\n",
    "columns = 'COUNT(MEAS.ID), MEAS.ID'\n",
    "data = con.execute(\"\"\"\n",
    "SELECT {}\n",
    "FROM 'masters' as MAS \n",
    "INNER JOIN 'experiments' as EXP \n",
    "ON MAS.ID = EXP.MASTER_ID\n",
    "INNER JOIN 'measurements' as MEAS\n",
    "ON EXP.ID = MEAS.EXPERIMENT_ID \n",
    "WHERE FOLDER = '{}' AND FILE = '{}'\n",
    ";\n",
    "   \"\"\".format(columns, folder, file)\n",
    "                  )"
   ]
  },
  {
   "cell_type": "code",
   "execution_count": 26,
   "metadata": {},
   "outputs": [
    {
     "data": {
      "text/plain": [
       "(3, 79)"
      ]
     },
     "execution_count": 26,
     "metadata": {},
     "output_type": "execute_result"
    }
   ],
   "source": [
    "[d for d in data][0]"
   ]
  },
  {
   "cell_type": "code",
   "execution_count": 20,
   "metadata": {},
   "outputs": [],
   "source": [
    "b"
   ]
  },
  {
   "cell_type": "code",
   "execution_count": 28,
   "metadata": {},
   "outputs": [
    {
     "name": "stdout",
     "output_type": "stream",
     "text": [
      "NP\tWAVELENGTH\tAR_TH\tAR_NOISE\tEXC_THS\tAR_MIN\tAR_COND\texp_type\n",
      "80\t732\t60.0\t0.001\t[2]\t10\t2\t-\n",
      "60\t732\t59.0\t0.001\t[2]\t10\t2\t-\n",
      "60\t732\t46.0\t0.001\t[2]\t10\t2\tsh\n",
      "40\t732\t12.0\t0.001\t[1.1]\t2\t2\t-\n",
      "80\t732\t100.0\t0.001\t[2]\t2\t2\t-\n",
      "60\t732\t20.0\t0.001\t[2]\t2\t2\t-\n",
      "80\t732\t40.0\t0.001\t[2]\t2\t2\tstrep\n",
      "147\t732\t8.0\t0.001\t[2]\t2\t2\tps\n",
      "40\t732\t9.0\t0.001\t[2]\t6\t2\t-\n",
      "80\t732\t31.0\t0.001\t[2]\t6\t2\tsh\n"
     ]
    }
   ],
   "source": [
    "columns = 'NP, WAVELENGTH, AR_TH, AR_NOISE, EXC_THS, AR_MIN, AR_COND, exp_type'\n",
    "data = con.execute(\"\"\"\n",
    "SELECT {} FROM 'measurements'\n",
    "WHERE WAVELENGTH=732\n",
    "ORDER BY WAVELENGTH ASC;\n",
    "   \"\"\".format(columns))\n",
    "\n",
    "print(columns.replace(', ','\\t'))\n",
    "for row in data:\n",
    "    print(str(row).replace(', ', '\\t').replace(\"'\", \"\")[1:-1])"
   ]
  },
  {
   "cell_type": "code",
   "execution_count": 8,
   "metadata": {},
   "outputs": [
    {
     "data": {
      "text/plain": [
       "<sqlite3.Cursor at 0xb09bb7aea0>"
      ]
     },
     "execution_count": 8,
     "metadata": {},
     "output_type": "execute_result"
    }
   ],
   "source": [
    "con.execute(\"\"\"\n",
    "UPDATE 'measurements' SET NOTES = 'weak' WHERE COUNT = 165\n",
    "\"\"\")"
   ]
  },
  {
   "cell_type": "raw",
   "metadata": {},
   "source": [
    "meas.del_row(5)"
   ]
  },
  {
   "cell_type": "code",
   "execution_count": 215,
   "metadata": {},
   "outputs": [],
   "source": [
    "meas.commit()"
   ]
  },
  {
   "cell_type": "code",
   "execution_count": 51,
   "metadata": {},
   "outputs": [],
   "source": [
    "con.close()"
   ]
  },
  {
   "cell_type": "code",
   "execution_count": null,
   "metadata": {},
   "outputs": [],
   "source": []
  }
 ],
 "metadata": {
  "kernelspec": {
   "display_name": "Python 3",
   "language": "python",
   "name": "python3"
  },
  "language_info": {
   "codemirror_mode": {
    "name": "ipython",
    "version": 3
   },
   "file_extension": ".py",
   "mimetype": "text/x-python",
   "name": "python",
   "nbconvert_exporter": "python",
   "pygments_lexer": "ipython3",
   "version": "3.7.4"
  }
 },
 "nbformat": 4,
 "nbformat_minor": 4
}
