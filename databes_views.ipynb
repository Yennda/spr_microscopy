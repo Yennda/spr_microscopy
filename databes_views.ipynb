{
 "cells": [
  {
   "cell_type": "code",
   "execution_count": 3,
   "metadata": {},
   "outputs": [],
   "source": [
    "import numpy as np\n",
    "import matplotlib.pyplot as plt\n",
    "from database_methods import Table, to_show, head\n",
    "import sqlite3\n",
    "con = sqlite3.connect('database_results.db')\n",
    "cursor = con.cursor()"
   ]
  },
  {
   "cell_type": "code",
   "execution_count": 4,
   "metadata": {},
   "outputs": [],
   "source": [
    "mas = Table(connection=con, name='masters')\n",
    "exp = Table(con, name = 'experiments')\n",
    "meas = Table(con, name = 'measurements')"
   ]
  },
  {
   "cell_type": "code",
   "execution_count": 19,
   "metadata": {},
   "outputs": [
    {
     "name": "stdout",
     "output_type": "stream",
     "text": [
      "CATEGORY, PERIOD, AMPLITUDE, MASTER, FWHM, R, S\n",
      "DATE, MASTER_ID, DIP, FOLDER\n",
      "EXPERIMENT_ID, NP, WAVELENGTH, FILE, AR_TH, AR_DIP, AR_NOISE, EXC_THS, RATE, INFO, COUNT, X, Y, CON, INP, INPPX, IBGPX, STD, stdX, stdY, stdCON, stdINP, stdINPPX, stdIBGPX, stdSTD, NOTES, AR_MIN, AR_COND, EXP_TYPE\n",
      "--------------------------------------------------------------------------------\n",
      "ID\tCATEGORY\tPERIOD\tAMPLITUDE\tMASTER\tFWHM\tR\tS\n",
      "1\t600\t405\t45\tM5\t23.0\t8.0\t15.9\n",
      "2\t600\t405\t53\tP3\t25.0\t19.7\t3.8\n",
      "3\t650\t452\t32\tK4\t12.5\t11.9\t17.8\n",
      "4\t650\t452\t40\tK5\t15.0\t18.0\t8.8\n",
      "5\t750\t528\t24\tL3\t7.0\t13.8\t78.5\n",
      "6\t750\t526\t30\tQ4\t9.5\t22.0\t30.7\n",
      "ID\tDATE\tMASTER_ID\tDIP\tFOLDER\n",
      "1\t20-02-25\t2\t615\t20_02_25_P3/\n",
      "2\t20-02-26\t6\t727\t20_02_26_Q3/\n",
      "3\t20-03-16\t4\t658\t20_03_16_K5/\n",
      "5\t20-02-25\t1\t598\t20_02_25_M5/\n",
      "6\t20-03-16\t3\t647\t20_03_16_K4/\n",
      "7\t20-04-15\t5\t740\t20_04_15_L3/\n",
      "8\t20-04-14\t1\t606\t20_04_14_M5/\n"
     ]
    }
   ],
   "source": [
    "print(mas.columns)\n",
    "print(exp.columns)\n",
    "print(meas.columns)\n",
    "print('-'*80)\n",
    "mas.show_all()\n",
    "exp.show_all()"
   ]
  },
  {
   "cell_type": "raw",
   "metadata": {},
   "source": [
    "con.execute(\"\"\"\n",
    "UPDATE 'masters' SET S = '78.5' WHERE MASTER='L3'\n",
    "\"\"\")"
   ]
  },
  {
   "cell_type": "code",
   "execution_count": 18,
   "metadata": {},
   "outputs": [],
   "source": [
    "con.commit()"
   ]
  },
  {
   "cell_type": "code",
   "execution_count": 34,
   "metadata": {},
   "outputs": [
    {
     "name": "stdout",
     "output_type": "stream",
     "text": [
      "MASTER\t AVG(DI\tAVG(INP\tAVG(INP\tAVG(CON\tAVG(INP\tAVG(IBG\n",
      "L3\t740.00\t18.53\t54.94\t3.31\t1.15\t0.3505\n",
      "Q4\t727.00\t25.81\t58.02\t3.81\t1.73\t0.4763\n",
      "K5\t658.00\t14.79\t48.99\t5.44\t1.64\t0.3078\n",
      "K4\t647.00\t6.18\t24.67\t3.32\t0.9056\t0.2691\n",
      "P3\t615.00\t5.25\t20.50\t7.27\t1.81\t0.2621\n",
      "M5\t606.00\t2.54\t11.68\t6.60\t1.42\t0.2196\n"
     ]
    }
   ],
   "source": [
    "# \n",
    "columns = 'MASTER,  AVG(DIP), AVG(INP), AVG(INP/IBGPX), AVG(CON), AVG(INPPX), AVG(IBGPX)'\n",
    "data = con.execute(\"\"\"\n",
    "SELECT {}\n",
    "FROM 'masters' as MAS \n",
    "INNER JOIN 'experiments' as EXP \n",
    "ON MAS.ID = EXP.MASTER_ID\n",
    "INNER JOIN 'measurements' as MEAS\n",
    "ON EXP.ID = MEAS.EXPERIMENT_ID\n",
    "GROUP BY MASTER\n",
    "ORDER BY DIP DESC\n",
    ";\n",
    "   \"\"\".format(columns))\n",
    "\n",
    "head(columns)\n",
    "\n",
    "for row in data:\n",
    "    print(str(to_show(row)).replace(', ', '\\t').replace(\"'\", \"\")[1:-1])\n"
   ]
  },
  {
   "cell_type": "code",
   "execution_count": 52,
   "metadata": {},
   "outputs": [
    {
     "name": "stdout",
     "output_type": "stream",
     "text": [
      " MASTER\tDATE\tFILE\tWAVELEN\tNP\tDIP\tCOUNT\tRATE\tCON\tCOUNT\tX*Y\tINP\tINPPX\tIBGPX\tSTD\tEXP_TYP\t NOTES\n",
      "P3\t20-02-2\traw_08_\t615\t80\t615\t51\t25.33\t9.08\t51\t27.17\t4.61\t1.87\t0.2231\t0.2916\t-\t-\n",
      "P3\t20-02-2\traw_16_\t612\t60\t615\t88\t40.74\t8.28\t88\t26.76\t4.66\t1.80\t0.2225\t0.2879\t-\tnice\tF\n",
      "P3\t20-02-2\traw_29_\t612\t80\t615\t47\t30.00\t8.16\t47\t32.51\t4.91\t1.63\t0.2032\t0.2629\tsh\tnice\n",
      "P3\t20-02-2\traw_09_\t614\t80\t615\t51\t43.18\t8.03\t51\t28.83\t4.36\t1.67\t0.2244\t0.2938\t-\t-\n",
      "P3\t20-02-2\traw_10_\t612\t80\t615\t99\t46.43\t7.86\t99\t30.26\t4.53\t1.50\t0.1912\t0.2470\t-\tnice\n",
      "P3\t20-02-2\traw_06_\t622\t80\t615\t47\t20.00\t7.80\t47\t28.36\t5.34\t2.00\t0.2645\t0.3476\t-\t-\n",
      "M5\t20-04-1\traw_11_\t616\t80\t606\t69\t19.79\t7.56\t69\t11.39\t1.76\t1.37\t0.1836\t0.2328\t-\tnice\n",
      "M5\t20-04-1\traw_10_\t618\t80\t606\t47\t13.27\t7.54\t47\t16.51\t3.39\t1.51\t0.2018\t0.2733\t-\t-\n",
      "P3\t20-02-2\traw_32_\t612\t80\t615\t348\t168.45\t7.43\t348\t31.24\t4.54\t1.49\t0.2021\t0.2650\tstrep\tnice\n",
      "P3\t20-02-2\traw_03_\t628\t80\t615\t39\t25.00\t6.86\t39\t32.14\t6.73\t2.22\t0.3297\t0.4307\t-\t-\n",
      "P3\t20-02-2\traw_07_\t618\t80\t615\t49\t26.70\t6.82\t49\t43.26\t5.85\t1.71\t0.2803\t0.3683\t-\t-\n",
      "P3\t20-02-2\traw_11_\t610\t80\t615\t113\t42.78\t6.63\t113\t40.83\t5.63\t1.51\t0.2363\t0.3036\t-\t-\n",
      "P3\t20-02-2\traw_05_\t624\t80\t615\t82\t31.85\t6.52\t82\t32.84\t5.26\t1.80\t0.2794\t0.3660\t-\t-\n",
      "P3\t20-02-2\traw_14_\t602\t80\t615\t116\t65.62\t6.51\t116\t28.99\t6.21\t2.16\t0.3352\t0.4231\t-\tnice\n",
      "P3\t20-02-2\traw_04_\t626\t80\t615\t59\t21.60\t6.48\t59\t25.87\t5.68\t2.47\t0.4105\t0.5398\t-\t-\n",
      "M5\t20-04-1\traw_06_\t622\t80\t606\t165\t52.19\t6.44\t165\t18.94\t2.94\t1.45\t0.2282\t0.2962\t-\tweak\n",
      "P3\t20-02-2\traw_13_\t606\t80\t615\t166\t101.54\t6.32\t166\t32.18\t5.42\t1.70\t0.2714\t0.3449\t-\tnice\n",
      "P3\t20-02-2\traw_12_\t608\t80\t615\t169\t80.47\t6.25\t169\t32.59\t5.07\t1.59\t0.2577\t0.3277\t-\tnice\n",
      "M5\t20-04-1\traw_07_\t624\t80\t606\t130\t44.70\t6.08\t130\t16.42\t2.63\t1.42\t0.2335\t0.2954\t-\t-\n",
      "M5\t20-04-1\traw_08_\t628\t80\t606\t180\t68.20\t5.41\t180\t12.37\t1.97\t1.36\t0.2508\t0.3162\t-\t-\n",
      "---\n",
      "20\n"
     ]
    }
   ],
   "source": [
    "# \n",
    "columns = ' MASTER, DATE, FILE, WAVELENGTH, NP, DIP, COUNT, RATE, CON, COUNT, X*Y, INP, INPPX, IBGPX, STD, EXP_TYPE,  NOTES'\n",
    "data = con.execute(\"\"\"\n",
    "SELECT {}\n",
    "FROM 'masters' as MAS \n",
    "INNER JOIN 'experiments' as EXP \n",
    "ON MAS.ID = EXP.MASTER_ID\n",
    "INNER JOIN 'measurements' as MEAS\n",
    "ON EXP.ID = MEAS.EXPERIMENT_ID\n",
    "WHERE category = 600\n",
    "\n",
    "ORDER BY CON DESC\n",
    ";\n",
    "   \"\"\".format(columns))\n",
    "\n",
    "head(columns)\n",
    "\n",
    "i=0\n",
    "for row in data:\n",
    "    print(str(to_show(row)).replace(', ', '\\t').replace(\"'\", \"\")[1:-1])\n",
    "    i+=1\n",
    "    \n",
    "    \n",
    "print('---\\n{}'.format(i))"
   ]
  },
  {
   "cell_type": "code",
   "execution_count": 57,
   "metadata": {},
   "outputs": [
    {
     "name": "stdout",
     "output_type": "stream",
     "text": [
      "NP\tWAVELENGTH\tAR_TH\tAR_NOISE\tEXC_THS\tAR_MIN\tAR_COND\n",
      "80\t732\t60.0\t0.001\t[2]\t10\t2\n",
      "60\t732\t59.0\t0.001\t[2]\t10\t2\n",
      "60\t732\t46.0\t0.001\t[2]\t10\t2\n",
      "40\t732\t12.0\t0.001\t[1.1]\t2\t2\n",
      "80\t732\t100.0\t0.001\t[2]\t2\t2\n",
      "60\t732\t20.0\t0.001\t[2]\t2\t2\n",
      "80\t732\t40.0\t0.001\t[2]\t2\t2\n"
     ]
    }
   ],
   "source": [
    "columns = 'NP, WAVELENGTH, AR_TH, AR_NOISE, EXC_THS, AR_MIN, AR_COND'\n",
    "data = con.execute(\"\"\"\n",
    "SELECT {} FROM 'measurements'\n",
    "WHERE WAVELENGTH=732\n",
    "ORDER BY WAVELENGTH ASC;\n",
    "   \"\"\".format(columns))\n",
    "\n",
    "print(columns.replace(', ','\\t'))\n",
    "for row in data:\n",
    "    print(str(row).replace(', ', '\\t').replace(\"'\", \"\")[1:-1])"
   ]
  },
  {
   "cell_type": "code",
   "execution_count": 213,
   "metadata": {},
   "outputs": [
    {
     "data": {
      "text/plain": [
       "<sqlite3.Cursor at 0x3bdcc85030>"
      ]
     },
     "execution_count": 213,
     "metadata": {},
     "output_type": "execute_result"
    }
   ],
   "source": [
    "con.execute(\"\"\"\n",
    "UPDATE 'measurements' SET NOTES = 'weak' WHERE COUNT = 165\n",
    "\"\"\")"
   ]
  },
  {
   "cell_type": "raw",
   "metadata": {},
   "source": [
    "meas.del_row(5)"
   ]
  },
  {
   "cell_type": "code",
   "execution_count": 215,
   "metadata": {},
   "outputs": [],
   "source": [
    "meas.commit()"
   ]
  },
  {
   "cell_type": "code",
   "execution_count": 9,
   "metadata": {},
   "outputs": [],
   "source": [
    "con.close()"
   ]
  },
  {
   "cell_type": "code",
   "execution_count": null,
   "metadata": {},
   "outputs": [],
   "source": []
  }
 ],
 "metadata": {
  "kernelspec": {
   "display_name": "Python 3",
   "language": "python",
   "name": "python3"
  },
  "language_info": {
   "codemirror_mode": {
    "name": "ipython",
    "version": 3
   },
   "file_extension": ".py",
   "mimetype": "text/x-python",
   "name": "python",
   "nbconvert_exporter": "python",
   "pygments_lexer": "ipython3",
   "version": "3.7.4"
  }
 },
 "nbformat": 4,
 "nbformat_minor": 4
}
