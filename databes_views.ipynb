{
 "cells": [
  {
   "cell_type": "code",
   "execution_count": 3,
   "metadata": {},
   "outputs": [],
   "source": [
    "import numpy as np\n",
    "import matplotlib.pyplot as plt\n",
    "from database_methods import Table, to_show, head\n",
    "import sqlite3\n",
    "con = sqlite3.connect('database_results.db')\n",
    "cursor = con.cursor()"
   ]
  },
  {
   "cell_type": "code",
   "execution_count": 4,
   "metadata": {},
   "outputs": [],
   "source": [
    "mas = Table(connection=con, name='masters')\n",
    "exp = Table(con, name = 'experiments')\n",
    "meas = Table(con, name = 'measurements')"
   ]
  },
  {
   "cell_type": "code",
   "execution_count": 19,
   "metadata": {},
   "outputs": [
    {
     "name": "stdout",
     "output_type": "stream",
     "text": [
      "CATEGORY, PERIOD, AMPLITUDE, MASTER, FWHM, R, S\n",
      "DATE, MASTER_ID, DIP, FOLDER\n",
      "EXPERIMENT_ID, NP, WAVELENGTH, FILE, AR_TH, AR_DIP, AR_NOISE, EXC_THS, RATE, INFO, COUNT, X, Y, CON, INP, INPPX, IBGPX, STD, stdX, stdY, stdCON, stdINP, stdINPPX, stdIBGPX, stdSTD, NOTES, AR_MIN, AR_COND, EXP_TYPE\n",
      "--------------------------------------------------------------------------------\n",
      "ID\tCATEGORY\tPERIOD\tAMPLITUDE\tMASTER\tFWHM\tR\tS\n",
      "1\t600\t405\t45\tM5\t23.0\t8.0\t15.9\n",
      "2\t600\t405\t53\tP3\t25.0\t19.7\t3.8\n",
      "3\t650\t452\t32\tK4\t12.5\t11.9\t17.8\n",
      "4\t650\t452\t40\tK5\t15.0\t18.0\t8.8\n",
      "5\t750\t528\t24\tL3\t7.0\t13.8\t78.5\n",
      "6\t750\t526\t30\tQ4\t9.5\t22.0\t30.7\n",
      "ID\tDATE\tMASTER_ID\tDIP\tFOLDER\n",
      "1\t20-02-25\t2\t615\t20_02_25_P3/\n",
      "2\t20-02-26\t6\t727\t20_02_26_Q3/\n",
      "3\t20-03-16\t4\t658\t20_03_16_K5/\n",
      "5\t20-02-25\t1\t598\t20_02_25_M5/\n",
      "6\t20-03-16\t3\t647\t20_03_16_K4/\n",
      "7\t20-04-15\t5\t740\t20_04_15_L3/\n",
      "8\t20-04-14\t1\t606\t20_04_14_M5/\n"
     ]
    }
   ],
   "source": [
    "print(mas.columns)\n",
    "print(exp.columns)\n",
    "print(meas.columns)\n",
    "print('-'*80)\n",
    "mas.show_all()\n",
    "exp.show_all()"
   ]
  },
  {
   "cell_type": "raw",
   "metadata": {},
   "source": [
    "con.execute(\"\"\"\n",
    "UPDATE 'masters' SET S = '78.5' WHERE MASTER='L3'\n",
    "\"\"\")"
   ]
  },
  {
   "cell_type": "code",
   "execution_count": 18,
   "metadata": {},
   "outputs": [],
   "source": [
    "con.commit()"
   ]
  },
  {
   "cell_type": "code",
   "execution_count": 34,
   "metadata": {},
   "outputs": [
    {
     "name": "stdout",
     "output_type": "stream",
     "text": [
      "MASTER\t AVG(DI\tAVG(INP\tAVG(INP\tAVG(CON\tAVG(INP\tAVG(IBG\n",
      "L3\t740.00\t18.53\t54.94\t3.31\t1.15\t0.3505\n",
      "Q4\t727.00\t25.81\t58.02\t3.81\t1.73\t0.4763\n",
      "K5\t658.00\t14.79\t48.99\t5.44\t1.64\t0.3078\n",
      "K4\t647.00\t6.18\t24.67\t3.32\t0.9056\t0.2691\n",
      "P3\t615.00\t5.25\t20.50\t7.27\t1.81\t0.2621\n",
      "M5\t606.00\t2.54\t11.68\t6.60\t1.42\t0.2196\n"
     ]
    }
   ],
   "source": [
    "# \n",
    "columns = 'MASTER,  AVG(DIP), AVG(INP), AVG(INP/IBGPX), AVG(CON), AVG(INPPX), AVG(IBGPX)'\n",
    "data = con.execute(\"\"\"\n",
    "SELECT {}\n",
    "FROM 'masters' as MAS \n",
    "INNER JOIN 'experiments' as EXP \n",
    "ON MAS.ID = EXP.MASTER_ID\n",
    "INNER JOIN 'measurements' as MEAS\n",
    "ON EXP.ID = MEAS.EXPERIMENT_ID\n",
    "GROUP BY MASTER\n",
    "ORDER BY DIP DESC\n",
    ";\n",
    "   \"\"\".format(columns))\n",
    "\n",
    "head(columns)\n",
    "\n",
    "for row in data:\n",
    "    print(str(to_show(row)).replace(', ', '\\t').replace(\"'\", \"\")[1:-1])\n"
   ]
  },
  {
   "cell_type": "code",
   "execution_count": 49,
   "metadata": {},
   "outputs": [
    {
     "name": "stdout",
     "output_type": "stream",
     "text": [
      " MASTER\tDATE\tFILE\tWAVELEN\tNP\tDIP\tCOUNT\tRATE\tCON\tCOUNT\tX*Y\tINP\tINPPX\tIBGPX\tSTD\tEXP_TYP\t NOTES\n",
      "Q4\t20-04-2\traw_02_\t732\t80\t729\t138\t47.93\t11.33\t138\t225.36\t25.61\t3.24\t0.2904\t0.4365\t-\t-\n",
      "Q4\t20-04-2\traw_03_\t726\t80\t729\t158\t45.75\t2.88\t158\t675.36\t31.46\t0.8306\t0.2879\t0.3733\t-\t-\n",
      "Q4\t20-04-2\traw_25_\t732\t60\t729\t201\t71.88\t6.06\t201\t277.04\t20.16\t1.55\t0.2579\t0.3590\t-\t-\n",
      "Q4\t20-04-2\traw_17_\t732\t80\t729\t226\t61.15\t6.50\t226\t306.35\t25.23\t1.76\t0.2741\t0.4109\tstrep\t-\n",
      "L3\t20-04-1\traw_05_\t743\t80\t740\t64\t19.23\t3.29\t64\t535.99\t27.79\t1.14\t0.3563\t0.4479\t-\t-\n",
      "L3\t20-04-1\traw_04_\t742\t80\t740\t56\t21.43\t2.47\t56\t534.84\t16.30\t0.6762\t0.2772\t0.3531\t-\t-\n",
      "L3\t20-04-1\traw_06_\t744\t80\t740\t39\t24.50\t2.89\t39\t585.91\t27.43\t1.12\t0.3970\t0.5096\t-\tbubles\n",
      "L3\t20-04-1\traw_07_\t745\t80\t740\t94\t29.50\t3.66\t94\t472.75\t33.34\t1.52\t0.4178\t0.5305\t-\tnice\n",
      "L3\t20-04-1\traw_08_\t746\t80\t740\t86\t24.14\t3.36\t86\t458.63\t31.20\t1.45\t0.4340\t0.5498\t-\tnice\n",
      "L3\t20-04-1\traw_09_\t748\t80\t740\t67\t24.06\t3.91\t67\t305.28\t22.18\t1.77\t0.4542\t0.5750\t-\t-\n",
      "L3\t20-04-1\traw_10_\t750\t80\t740\t29\t29.17\t3.09\t29\t223.91\t11.39\t1.46\t0.4712\t0.6019\t-\tbad\n",
      "L3\t20-04-1\traw_11_\t741\t80\t740\t80\t31.72\t3.92\t80\t259.95\t7.49\t0.8547\t0.2188\t0.2834\t-\tFPs\n",
      "L3\t20-04-1\traw_12_\t740\t80\t740\t83\t36.96\t3.70\t83\t598.41\t19.31\t0.7353\t0.1997\t0.2547\t-\tnice\n",
      "L3\t20-04-1\traw_13_\t739\t80\t740\t121\t45.50\t3.17\t121\t638.04\t21.61\t0.8216\t0.2600\t0.3333\t-\tnice\n",
      "L3\t20-04-1\traw_14_\t738\t80\t740\t88\t46.43\t3.04\t88\t487.19\t17.67\t0.9916\t0.3266\t0.4151\t-\t-\n",
      "L3\t20-04-1\traw_15_\t737\t80\t740\t67\t24.29\t3.43\t67\t314.72\t12.51\t1.27\t0.3739\t0.4733\t-\tbg nois\n",
      "L3\t20-04-1\traw_18_\t745\t60\t740\t61\t42.86\t2.98\t61\t410.30\t20.13\t1.18\t0.3968\t0.5021\t-\t-\n",
      "L3\t20-04-1\traw_19_\t743\t60\t740\t47\t21.31\t3.18\t47\t499.49\t21.01\t1.02\t0.3228\t0.4105\t-\t-\n",
      "L3\t20-04-1\traw_20_\t739\t60\t740\t76\t34.13\t3.08\t76\t541.97\t15.79\t0.7639\t0.2494\t0.3158\t-\t-\n",
      "L3\t20-04-1\traw_29_\t739\t100\t740\t102\t36.17\t2.96\t102\t369.70\t12.10\t0.7893\t0.2671\t0.3481\t-\tFPs\n",
      "L3\t20-04-1\traw_30_\t745\t100\t740\t74\t23.77\t3.75\t74\t260.32\t14.86\t1.60\t0.4289\t0.5891\t-\tFPs\tbe\n",
      "L3\t20-04-1\traw_31_\t743\t100\t740\t54\t14.52\t4.37\t54\t247.82\t13.20\t1.49\t0.3453\t0.4741\t-\t-\n",
      "L3\t20-04-1\traw_36_\t745\t100\t740\t85\t21.16\t2.61\t85\t175.17\t6.70\t1.21\t0.4622\t0.6162\trecog\tnice\n",
      "Q4\t20-02-2\traw_07_\t740\t80\t727\t128\t59.20\t3.75\t128\t218.03\t15.91\t1.90\t0.5354\t0.6807\t-\t-\n",
      "Q4\t20-02-2\traw_04_\t732\t80\t727\t206\t85.33\t4.42\t206\t422.06\t46.00\t2.21\t0.5202\t0.6898\t-\t-\n",
      "Q4\t20-02-2\traw_05_\t734\t80\t727\t169\t70.29\t5.38\t169\t317.05\t36.50\t2.71\t0.5129\t0.6644\t-\t-\n",
      "Q4\t20-02-2\traw_06_\t736\t80\t727\t163\t57.34\t2.91\t163\t296.78\t21.79\t1.80\t0.7632\t0.9722\t-\t-\n",
      "Q4\t20-02-2\traw_08_\t726\t80\t727\t113\t70.91\t3.64\t113\t546.22\t20.36\t0.7776\t0.2148\t0.2813\t-\t-\n",
      "Q4\t20-02-2\traw_09_\t724\t80\t727\t137\t89.81\t3.05\t137\t456.27\t20.65\t1.01\t0.3386\t0.4411\t-\t-\n",
      "Q4\t20-02-2\traw_18_\t732\t60\t727\t166\t97.04\t3.97\t166\t350.01\t31.03\t1.96\t0.5038\t0.6527\t-\t-\n",
      "Q4\t20-02-2\traw_21_\t732\t60\t727\t234\t96.97\t3.82\t234\t368.74\t30.71\t1.76\t0.4713\t0.6189\tsh\t-\n",
      "Q4\t20-02-2\traw_14_\t732\t40\t727\t54\t15.45\t3.31\t54\t166.75\t9.30\t1.40\t0.4263\t0.5421\t-\t-\n",
      "---\n",
      "32\n"
     ]
    }
   ],
   "source": [
    "# \n",
    "columns = ' MASTER, DATE, FILE, WAVELENGTH, NP, DIP, COUNT, RATE, CON, COUNT, X*Y, INP, INPPX, IBGPX, STD, EXP_TYPE,  NOTES'\n",
    "data = con.execute(\"\"\"\n",
    "SELECT {}\n",
    "FROM 'masters' as MAS \n",
    "INNER JOIN 'experiments' as EXP \n",
    "ON MAS.ID = EXP.MASTER_ID\n",
    "INNER JOIN 'measurements' as MEAS\n",
    "ON EXP.ID = MEAS.EXPERIMENT_ID\n",
    "WHERE category = 750\n",
    "\n",
    "ORDER BY date DESC\n",
    ";\n",
    "   \"\"\".format(columns))\n",
    "\n",
    "head(columns)\n",
    "\n",
    "i=0\n",
    "for row in data:\n",
    "    print(str(to_show(row)).replace(', ', '\\t').replace(\"'\", \"\")[1:-1])\n",
    "    i+=1\n",
    "    \n",
    "    \n",
    "print('---\\n{}'.format(i))"
   ]
  },
  {
   "cell_type": "code",
   "execution_count": 50,
   "metadata": {},
   "outputs": [
    {
     "name": "stdout",
     "output_type": "stream",
     "text": [
      "NP\tWAVELENGTH\tAR_TH\tAR_NOISE\tEXC_THS\n",
      "80\t745\t39.0\t0.001\t[2\t17.580000000000002]\n",
      "60\t745\t30.0\t0.001\t[2\t17.580000000000002]\n",
      "100\t745\t38.0\t0.001\t[2.5\t17.580000000000002]\n",
      "100\t745\t100.0\t0.001\tNone\n"
     ]
    }
   ],
   "source": [
    "columns = 'NP, WAVELENGTH, AR_TH, AR_NOISE, EXC_THS'\n",
    "data = con.execute(\"\"\"\n",
    "SELECT {} FROM 'measurements'\n",
    "WHERE WAVELENGTH=745\n",
    "ORDER BY WAVELENGTH ASC;\n",
    "   \"\"\".format(columns))\n",
    "\n",
    "print(columns.replace(', ','\\t'))\n",
    "for row in data:\n",
    "    print(str(row).replace(', ', '\\t').replace(\"'\", \"\")[1:-1])"
   ]
  },
  {
   "cell_type": "code",
   "execution_count": 213,
   "metadata": {},
   "outputs": [
    {
     "data": {
      "text/plain": [
       "<sqlite3.Cursor at 0x3bdcc85030>"
      ]
     },
     "execution_count": 213,
     "metadata": {},
     "output_type": "execute_result"
    }
   ],
   "source": [
    "con.execute(\"\"\"\n",
    "UPDATE 'measurements' SET NOTES = 'weak' WHERE COUNT = 165\n",
    "\"\"\")"
   ]
  },
  {
   "cell_type": "raw",
   "metadata": {},
   "source": [
    "meas.del_row(5)"
   ]
  },
  {
   "cell_type": "code",
   "execution_count": 215,
   "metadata": {},
   "outputs": [],
   "source": [
    "meas.commit()"
   ]
  },
  {
   "cell_type": "code",
   "execution_count": 9,
   "metadata": {},
   "outputs": [],
   "source": [
    "con.close()"
   ]
  },
  {
   "cell_type": "code",
   "execution_count": null,
   "metadata": {},
   "outputs": [],
   "source": []
  }
 ],
 "metadata": {
  "kernelspec": {
   "display_name": "Python 3",
   "language": "python",
   "name": "python3"
  },
  "language_info": {
   "codemirror_mode": {
    "name": "ipython",
    "version": 3
   },
   "file_extension": ".py",
   "mimetype": "text/x-python",
   "name": "python",
   "nbconvert_exporter": "python",
   "pygments_lexer": "ipython3",
   "version": "3.7.4"
  }
 },
 "nbformat": 4,
 "nbformat_minor": 4
}
