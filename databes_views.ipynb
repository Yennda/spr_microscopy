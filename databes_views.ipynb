{
 "cells": [
  {
   "cell_type": "code",
   "execution_count": 1,
   "metadata": {},
   "outputs": [],
   "source": [
    "import numpy as np\n",
    "import matplotlib.pyplot as plt\n",
    "from database_methods import Table, to_show, head, process_data\n",
    "import sqlite3\n",
    "con = sqlite3.connect('database_results.db')\n",
    "cursor = con.cursor()"
   ]
  },
  {
   "cell_type": "code",
   "execution_count": 2,
   "metadata": {},
   "outputs": [],
   "source": [
    "mas = Table(connection=con, name='masters')\n",
    "exp = Table(con, name = 'experiments')\n",
    "meas = Table(con, name = 'measurements')"
   ]
  },
  {
   "cell_type": "code",
   "execution_count": 3,
   "metadata": {},
   "outputs": [
    {
     "name": "stdout",
     "output_type": "stream",
     "text": [
      "CATEGORY, PERIOD, AMPLITUDE, MASTER, FWHM, R, S\n",
      "DATE, MASTER_ID, DIP, FOLDER\n",
      "EXPERIMENT_ID, NP, WAVELENGTH, FILE, AR_TH, AR_DIP, AR_NOISE, EXC_THS, RATE, INFO, COUNT, X, Y, CON, INP, INPPX, IBGPX, STD, stdX, stdY, stdCON, stdINP, stdINPPX, stdIBGPX, stdSTD, NOTES, AR_MIN, AR_COND, EXP_TYPE, OPT\n",
      "--------------------------------------------------------------------------------\n",
      "ID\tCATEGORY\tPERIOD\tAMPLITUDE\tMASTER\tFWHM\tR\tS\n",
      "1\t600\t405\t45\tM5\t23.0\t8.0\t15.9\n",
      "2\t600\t405\t53\tP3\t25.0\t19.7\t3.8\n",
      "3\t650\t452\t32\tK4\t12.5\t11.9\t17.8\n",
      "4\t650\t452\t40\tK5\t15.0\t18.0\t8.8\n",
      "5\t750\t528\t24\tL3\t7.0\t13.8\t78.5\n",
      "6\t750\t526\t30\tQ4\t9.5\t22.0\t30.7\n",
      "ID\tDATE\tMASTER_ID\tDIP\tFOLDER\n",
      "1\t20-02-25\t2\t615\t20_02_25_P3/\n",
      "2\t20-02-26\t6\t727\t20_02_26_Q3/\n",
      "3\t20-03-16\t4\t658\t20_03_16_K5/\n",
      "5\t20-02-25\t1\t598\t20_02_25_M5/\n",
      "6\t20-03-16\t3\t647\t20_03_16_K4/\n",
      "7\t20-04-15\t5\t740\t20_04_15_L3/\n",
      "8\t20-04-14\t1\t606\t20_04_14_M5/\n",
      "9\t20-04-20\t6\t729\t20_04_20_Q4/\n"
     ]
    }
   ],
   "source": [
    "print(mas.columns)\n",
    "print(exp.columns)\n",
    "print(meas.columns)\n",
    "print('-'*80)\n",
    "mas.show_all()\n",
    "exp.show_all()"
   ]
  },
  {
   "cell_type": "raw",
   "metadata": {},
   "source": [
    "con.execute(\"\"\"\n",
    "UPDATE 'masters' SET S = '78.5' WHERE MASTER='L3'\n",
    "\"\"\")"
   ]
  },
  {
   "cell_type": "code",
   "execution_count": 4,
   "metadata": {},
   "outputs": [],
   "source": [
    "con.commit()"
   ]
  },
  {
   "cell_type": "code",
   "execution_count": 6,
   "metadata": {},
   "outputs": [
    {
     "name": "stdout",
     "output_type": "stream",
     "text": [
      "MASTER\tS\tAVG(DIP\tAVG(INP\tAVG(INP\tAVG(CON\tAVG(INP\tAVG(IBG\n",
      "L3\t78.50\t740.00\t19.64\t68.61\t3.11\t0.9066\t0.2933\n",
      "Q4\t30.70\t729.00\t26.32\t93.35\t10.18\t2.85\t0.2820\n",
      "K5\t8.80\t658.00\t15.64\t55.57\t5.17\t1.44\t0.2827\n",
      "K4\t17.80\t647.00\t9.48\t36.03\t4.27\t1.15\t0.2686\n",
      "P3\t3.80\t615.00\t4.90\t23.55\t7.52\t1.53\t0.2082\n",
      "M5\t15.90\t606.00\t2.51\t10.67\t5.97\t1.41\t0.2375\n"
     ]
    }
   ],
   "source": [
    "# \n",
    "columns = 'MASTER, S, AVG(DIP), AVG(INP), AVG(INP/IBGPX), AVG(CON), AVG(INPPX), AVG(IBGPX)'\n",
    "data = con.execute(\"\"\"\n",
    "SELECT {}\n",
    "FROM 'masters' as MAS \n",
    "INNER JOIN 'experiments' as EXP \n",
    "ON MAS.ID = EXP.MASTER_ID\n",
    "INNER JOIN 'measurements' as MEAS\n",
    "ON EXP.ID = MEAS.EXPERIMENT_ID\n",
    "WHERE NP = 80 AND OPT = 1\n",
    "GROUP BY MASTER\n",
    "ORDER BY DIP DESC\n",
    ";\n",
    "   \"\"\".format(columns))\n",
    "\n",
    "head(columns)\n",
    "\n",
    "for row in data:\n",
    "    print(str(to_show(row)).replace(', ', '\\t').replace(\"'\", \"\")[1:-1])\n"
   ]
  },
  {
   "cell_type": "code",
   "execution_count": 51,
   "metadata": {},
   "outputs": [
    {
     "name": "stdout",
     "output_type": "stream",
     "text": [
      "NP\tFILE\tX\tY\tCON\tX*Y\tINP\tstdINP \tIBGPX\tEXP_TYP\n",
      "80\traw_02_\t24.29\t9.28\t11.33\t225.36\t25.61\t19.26\t0.2904\t-\n",
      "80\traw_17_\t25.15\t10.14\t8.20\t254.92\t23.66\t22.90\t0.2759\tstrep\n",
      "80\traw_15_\t27.30\t9.62\t11.00\t262.61\t29.68\t22.92\t0.2798\tsh\n",
      "---\n",
      "3\n"
     ]
    }
   ],
   "source": [
    "# \n",
    "columns = 'NP, FILE, X, Y, CON, X*Y, INP, stdINP INPPX, IBGPX, EXP_TYPE'\n",
    "data = con.execute(\"\"\"\n",
    "SELECT {}\n",
    "FROM 'masters' as MAS \n",
    "INNER JOIN 'experiments' as EXP \n",
    "ON MAS.ID = EXP.MASTER_ID\n",
    "INNER JOIN 'measurements' as MEAS\n",
    "ON EXP.ID = MEAS.EXPERIMENT_ID\n",
    "WHERE MASTER = 'Q4' AND DATE='20-04-20' AND WAVELENGTH = 732 AND NP = 80\n",
    "\n",
    "ORDER BY NP DESC\n",
    ";\n",
    "   \"\"\".format(columns))\n",
    "\n",
    "head(columns)\n",
    "\n",
    "i=0\n",
    "for row in data:\n",
    "    print(str(to_show(row)).replace(', ', '\\t').replace(\"'\", \"\")[1:-1])\n",
    "    i+=1\n",
    "    \n",
    "    \n",
    "print('---\\n{}'.format(i))"
   ]
  },
  {
   "cell_type": "code",
   "execution_count": 54,
   "metadata": {},
   "outputs": [
    {
     "name": "stdout",
     "output_type": "stream",
     "text": [
      "NP\tFILE\tX\tY\tCON\tX*Y\tINP\tstdINP \tIBGPX\tEXP_TYP\n",
      "80\traw_10_\t5.06\t5.98\t7.86\t30.26\t4.53\t2.27\t0.1912\t-\n",
      "80\traw_29_\t5.11\t6.36\t8.16\t32.51\t4.91\t2.18\t0.2032\tsh\n",
      "80\traw_32_\t5.11\t6.11\t7.43\t31.24\t4.54\t2.02\t0.2021\tstrep\n",
      "---\n",
      "3\n"
     ]
    }
   ],
   "source": [
    "# \n",
    "columns = 'NP, FILE, X, Y, CON, X*Y, INP, stdINP INPPX, IBGPX, EXP_TYPE'\n",
    "data = con.execute(\"\"\"\n",
    "SELECT {}\n",
    "FROM 'masters' as MAS \n",
    "INNER JOIN 'experiments' as EXP \n",
    "ON MAS.ID = EXP.MASTER_ID\n",
    "INNER JOIN 'measurements' as MEAS\n",
    "ON EXP.ID = MEAS.EXPERIMENT_ID\n",
    "WHERE MASTER = 'P3' AND WAVELENGTH = 612 AND NP = 80\n",
    "\n",
    "ORDER BY NP DESC\n",
    ";\n",
    "   \"\"\".format(columns))\n",
    "\n",
    "head(columns)\n",
    "\n",
    "i=0\n",
    "for row in data:\n",
    "    print(str(to_show(row)).replace(', ', '\\t').replace(\"'\", \"\")[1:-1])\n",
    "    i+=1\n",
    "    \n",
    "    \n",
    "print('---\\n{}'.format(i))"
   ]
  },
  {
   "cell_type": "code",
   "execution_count": 102,
   "metadata": {},
   "outputs": [
    {
     "name": "stdout",
     "output_type": "stream",
     "text": [
      "MEAS.ID\tMASTER\tNP\tWAVELEN\tFOLDER\tFILE\tRATE\tX\tY\tCON\tX*Y\tINP\tstdINP \tIBGPX\tEXP_TYP\tOPT\n",
      "50\tP3\t80\t612\t20_02_2\traw_32_\t168.45\t5.11\t6.11\t7.43\t31.24\t4.54\t2.02\t0.2021\tstrep\t1\n",
      "46\tP3\t80\t606\t20_02_2\traw_13_\t101.54\t5.33\t6.04\t6.32\t32.18\t5.42\t2.60\t0.2714\t-\t0\n",
      "8\tQ4\t60\t732\t20_02_2\traw_18_\t97.04\t27.16\t12.88\t3.97\t350.01\t31.03\t19.98\t0.5038\t-\t0\n",
      "9\tQ4\t60\t732\t20_02_2\traw_21_\t96.97\t28.07\t13.13\t3.82\t368.74\t30.71\t22.48\t0.4713\tsh\t0\n",
      "7\tQ4\t80\t724\t20_02_2\traw_09_\t89.81\t40.87\t11.16\t3.05\t456.27\t20.65\t15.06\t0.3386\t-\t0\n",
      "2\tQ4\t80\t732\t20_02_2\traw_04_\t85.33\t32.05\t13.17\t4.42\t422.06\t46.00\t33.63\t0.5202\t-\t0\n",
      "45\tP3\t80\t608\t20_02_2\traw_12_\t80.47\t5.34\t6.10\t6.25\t32.59\t5.07\t2.49\t0.2577\t-\t0\n",
      "6\tQ4\t80\t726\t20_02_2\traw_08_\t70.91\t41.31\t13.22\t3.64\t546.22\t20.36\t12.73\t0.2148\t-\t0\n",
      "3\tQ4\t80\t734\t20_02_2\traw_05_\t70.29\t24.95\t12.71\t5.38\t317.05\t36.50\t21.71\t0.5129\t-\t0\n",
      "71\tM5\t80\t628\t20_04_1\traw_08_\t68.20\t3.74\t3.30\t5.41\t12.37\t1.97\t1.43\t0.2508\t-\t1\n",
      "47\tP3\t80\t602\t20_02_2\traw_14_\t65.62\t4.93\t5.89\t6.51\t28.99\t6.21\t2.97\t0.3352\t-\t0\n",
      "86\tQ4\t80\t732\t20_04_2\traw_17_\t64.45\t25.15\t10.14\t8.20\t254.92\t23.66\t22.90\t0.2759\tstrep\t1\n",
      "88\tQ4\t60\t732\t20_04_2\traw_25_\t60.49\t37.79\t12.75\t5.39\t481.71\t27.55\t20.75\t0.2537\t-\t1\n",
      "1\tQ4\t80\t740\t20_02_2\traw_07_\t59.20\t16.71\t13.05\t3.75\t218.03\t15.91\t10.99\t0.5354\t-\t0\n",
      "4\tQ4\t80\t736\t20_02_2\traw_06_\t57.34\t23.03\t12.89\t2.91\t296.78\t21.79\t19.41\t0.7632\t-\t0\n",
      "69\tM5\t80\t622\t20_04_1\traw_06_\t52.19\t4.74\t4.00\t6.44\t18.94\t2.94\t2.69\t0.2282\t-\t1\n",
      "29\tK5\t80\t654\t20_03_1\traw_10_\t51.58\t19.65\t13.22\t5.05\t259.82\t13.51\t7.65\t0.2727\t-\t0\n",
      "24\tK5\t80\t664\t20_03_1\traw_04_\t50.00\t19.70\t12.53\t4.90\t246.85\t16.49\t12.48\t0.3333\t-\t1\n",
      "76\tQ4\t80\t732\t20_04_2\traw_02_\t47.93\t24.29\t9.28\t11.33\t225.36\t25.61\t19.26\t0.2904\t-\t1\n",
      "36\tP3\t80\t612\t20_02_2\traw_10_\t46.43\t5.06\t5.98\t7.86\t30.26\t4.53\t2.27\t0.1912\t-\t1\n",
      "61\tL3\t80\t738\t20_04_1\traw_14_\t46.43\t51.34\t9.49\t3.04\t487.19\t17.67\t11.01\t0.3266\t-\t1\n",
      "77\tQ4\t80\t726\t20_04_2\traw_03_\t45.75\t38.70\t17.45\t2.88\t675.36\t31.46\t28.15\t0.2879\t-\t0\n",
      "60\tL3\t80\t739\t20_04_1\traw_13_\t45.50\t62.89\t10.15\t3.17\t638.04\t21.61\t13.70\t0.2600\t-\t1\n",
      "70\tM5\t80\t624\t20_04_1\traw_07_\t44.70\t4.26\t3.85\t6.08\t16.42\t2.63\t2.08\t0.2335\t-\t1\n",
      "43\tP3\t80\t614\t20_02_2\traw_09_\t43.18\t5.23\t5.52\t8.03\t28.83\t4.36\t2.37\t0.2244\t-\t0\n",
      "63\tL3\t60\t745\t20_04_1\traw_18_\t42.86\t35.59\t11.53\t2.98\t410.30\t20.13\t10.84\t0.3968\t-\t0\n",
      "44\tP3\t80\t610\t20_02_2\traw_11_\t42.78\t6.25\t6.53\t6.63\t40.83\t5.63\t2.33\t0.2363\t-\t1\n",
      "25\tK5\t80\t666\t20_03_1\traw_05_\t42.59\t16.68\t12.10\t6.04\t201.74\t17.09\t10.16\t0.4306\t-\t0\n",
      "48\tP3\t60\t612\t20_02_2\traw_16_\t40.74\t4.96\t5.39\t8.28\t26.76\t4.66\t2.03\t0.2225\t-\t1\n",
      "22\tK5\t80\t658\t20_03_1\traw_02_\t39.15\t22.51\t13.03\t4.85\t293.32\t12.93\t8.48\t0.2087\t-\t0\n",
      "27\tK5\t80\t670\t20_03_1\traw_07_\t39.07\t16.21\t13.12\t5.94\t212.70\t21.37\t14.84\t0.5083\t-\t0\n",
      "23\tK5\t80\t662\t20_03_1\traw_03_\t38.24\t22.83\t12.57\t5.27\t287.07\t18.04\t11.15\t0.2858\t-\t1\n",
      "28\tK5\t80\t656\t20_03_1\traw_09_\t36.97\t17.39\t13.01\t5.93\t226.31\t11.65\t7.99\t0.2214\t-\t0\n",
      "59\tL3\t80\t740\t20_04_1\traw_12_\t36.96\t56.69\t10.56\t3.70\t598.41\t19.31\t11.47\t0.1997\t-\t0\n",
      "66\tL3\t100\t739\t20_04_1\traw_29_\t36.17\t41.25\t8.96\t2.96\t369.70\t12.10\t12.44\t0.2671\t-\t1\n",
      "65\tL3\t60\t739\t20_04_1\traw_20_\t34.13\t53.05\t10.22\t3.08\t541.97\t15.79\t9.24\t0.2494\t-\t1\n",
      "21\tK5\t80\t660\t20_03_1\traw_01_\t33.67\t19.46\t12.80\t5.35\t249.06\t12.40\t8.54\t0.2291\t-\t1\n",
      "34\tK5\t60\t662\t20_03_1\traw_17_\t33.33\t18.35\t13.11\t5.89\t240.54\t15.70\t10.47\t0.3067\t-\t1\n",
      "16\tK4\t60\t651\t20_03_1\traw_13_\t33.00\t20.51\t11.91\t3.11\t244.28\t7.49\t5.49\t0.2748\t-\t1\n",
      "39\tP3\t80\t624\t20_02_2\traw_05_\t31.85\t5.50\t5.97\t6.52\t32.84\t5.26\t2.83\t0.2794\t-\t0\n",
      "13\tK4\t80\t653\t20_03_1\traw_06_\t31.72\t16.40\t11.90\t4.65\t195.15\t8.89\t4.70\t0.3001\t-\t1\n",
      "58\tL3\t80\t741\t20_04_1\traw_11_\t31.72\t27.73\t9.38\t3.92\t259.95\t7.49\t4.69\t0.2188\t-\t0\n",
      "80\tQ4\t147\t732\t20_04_2\traw_19_\t30.26\t16.74\t9.90\t3.14\t165.73\t4.06\t3.63\t0.2471\tps\t1\n",
      "30\tK5\t80\t650\t20_03_1\traw_11_\t30.16\t23.50\t13.97\t3.91\t328.33\t16.52\t8.42\t0.3064\t-\t0\n",
      "49\tP3\t80\t612\t20_02_2\traw_29_\t30.00\t5.11\t6.36\t8.16\t32.51\t4.91\t2.18\t0.2032\tsh\t1\n",
      "54\tL3\t80\t745\t20_04_1\traw_07_\t29.50\t40.77\t11.60\t3.66\t472.75\t33.34\t21.81\t0.4178\t-\t0\n",
      "57\tL3\t80\t750\t20_04_1\traw_10_\t29.17\t20.71\t10.81\t3.09\t223.91\t11.39\t8.96\t0.4712\t-\t0\n",
      "10\tK4\t80\t651\t20_03_1\traw_05_\t29.07\t21.54\t13.02\t3.89\t280.51\t10.07\t5.91\t0.2371\t-\t1\n",
      "17\tK4\t60\t649\t20_03_1\traw_14_\t27.78\t21.92\t11.36\t2.77\t248.98\t3.96\t2.60\t0.1585\t-\t0\n",
      "18\tK4\t60\t653\t20_03_1\traw_16_\t27.27\t15.32\t11.47\t3.33\t175.70\t5.11\t2.48\t0.2929\t-\t1\n",
      "41\tP3\t80\t618\t20_02_2\traw_07_\t26.70\t6.58\t6.58\t6.82\t43.26\t5.85\t1.92\t0.2803\t-\t0\n",
      "12\tK4\t80\t649\t20_03_1\traw_04_\t26.32\t22.91\t12.56\t2.91\t287.80\t5.14\t3.47\t0.1523\t-\t0\n",
      "26\tK5\t80\t668\t20_03_1\traw_06_\t26.25\t16.31\t12.94\t6.47\t210.97\t22.46\t15.32\t0.4679\t-\t0\n",
      "15\tK4\t80\t660\t20_03_1\traw_08_\t25.53\t11.52\t10.61\t2.68\t122.31\t3.00\t1.65\t0.4198\t-\t0\n",
      "42\tP3\t80\t615\t20_02_2\traw_08_\t25.33\t4.83\t5.63\t9.08\t27.17\t4.61\t2.02\t0.2231\t-\t0\n",
      "32\tK5\t60\t658\t20_03_1\traw_14_\t25.00\t18.03\t13.11\t5.26\t236.34\t11.28\t7.93\t0.2613\t-\t0\n",
      "37\tP3\t80\t628\t20_02_2\traw_03_\t25.00\t5.86\t5.48\t6.86\t32.14\t6.73\t4.08\t0.3297\t-\t0\n",
      "53\tL3\t80\t744\t20_04_1\traw_06_\t24.50\t53.42\t10.97\t2.89\t585.91\t27.43\t19.85\t0.3970\t-\t0\n",
      "89\tQ4\t40\t732\t20_04_2\traw_10_\t24.50\t33.70\t12.84\t5.93\t432.52\t33.27\t27.78\t0.2710\t-\t1\n",
      "62\tL3\t80\t737\t20_04_1\traw_15_\t24.29\t34.77\t9.05\t3.43\t314.72\t12.51\t6.51\t0.3739\t-\t0\n",
      "55\tL3\t80\t746\t20_04_1\traw_08_\t24.14\t36.28\t12.64\t3.36\t458.63\t31.20\t17.86\t0.4340\t-\t0\n",
      "56\tL3\t80\t748\t20_04_1\traw_09_\t24.06\t27.38\t11.15\t3.91\t305.28\t22.18\t14.70\t0.4542\t-\t0\n",
      "67\tL3\t100\t745\t20_04_1\traw_30_\t23.77\t24.35\t10.69\t3.75\t260.32\t14.86\t12.97\t0.4289\t-\t0\n",
      "38\tP3\t80\t626\t20_02_2\traw_04_\t21.60\t5.66\t4.57\t6.48\t25.87\t5.68\t3.98\t0.4105\t-\t0\n",
      "52\tL3\t80\t742\t20_04_1\traw_04_\t21.43\t50.86\t10.52\t2.47\t534.84\t16.30\t14.18\t0.2772\t-\t0\n",
      "64\tL3\t60\t743\t20_04_1\traw_19_\t21.31\t43.08\t11.60\t3.18\t499.49\t21.01\t14.20\t0.3228\t-\t0\n",
      "74\tL3\t100\t745\t20_04_1\traw_36_\t21.16\t18.68\t9.38\t2.61\t175.17\t6.70\t5.94\t0.4622\trecog\t0\n",
      "31\tK5\t60\t660\t20_03_1\traw_13_\t21.05\t16.75\t12.42\t5.82\t208.07\t12.01\t7.96\t0.3303\t-\t1\n",
      "87\tQ4\t80\t732\t20_04_2\traw_15_\t20.59\t27.30\t9.62\t11.00\t262.61\t29.68\t22.92\t0.2798\tsh\t1\n",
      "40\tP3\t80\t622\t20_02_2\traw_06_\t20.00\t5.55\t5.11\t7.80\t28.36\t5.34\t2.83\t0.2645\t-\t0\n",
      "73\tM5\t80\t616\t20_04_1\traw_11_\t19.79\t3.48\t3.27\t7.56\t11.39\t1.76\t0.8695\t0.1836\t-\t0\n",
      "33\tK5\t60\t664\t20_03_1\traw_15_\t19.40\t15.82\t13.54\t5.60\t214.28\t10.76\t6.41\t0.2447\t-\t1\n",
      "51\tL3\t80\t743\t20_04_1\traw_05_\t19.23\t48.99\t10.94\t3.29\t535.99\t27.79\t19.73\t0.3563\t-\t0\n",
      "19\tK4\t100\t651\t20_03_1\traw_26_\t19.10\t19.23\t11.43\t2.70\t219.83\t6.45\t5.04\t0.3346\t-\t1\n",
      "14\tK4\t80\t655\t20_03_1\traw_07_\t17.72\t14.59\t10.38\t3.73\t151.44\t4.88\t2.14\t0.3472\t-\t0\n",
      "35\tK5\t60\t656\t20_03_1\traw_18_\t16.67\t16.16\t13.58\t5.37\t219.52\t9.60\t6.25\t0.2106\t-\t0\n",
      "11\tK4\t80\t647\t20_03_1\traw_03_\t15.56\t23.92\t13.00\t1.90\t310.92\t3.11\t2.64\t0.1322\t-\t0\n",
      "75\tQ4\t40\t732\t20_02_2\traw_14_\t15.45\t16.01\t10.42\t3.31\t166.75\t9.30\t12.81\t0.4263\t-\t0\n",
      "68\tL3\t100\t743\t20_04_1\traw_31_\t14.52\t22.95\t10.80\t4.37\t247.82\t13.20\t9.71\t0.3453\t-\t0\n",
      "72\tM5\t80\t618\t20_04_1\traw_10_\t13.27\t4.49\t3.68\t7.54\t16.51\t3.39\t6.79\t0.2018\t-\t0\n",
      "20\tK4\t100\t653\t20_03_1\traw_27_\t11.54\t19.39\t10.74\t4.87\t208.35\t9.90\t5.74\t0.3104\t-\t1\n",
      "---\n",
      "81\n"
     ]
    }
   ],
   "source": [
    "# \n",
    "columns = 'MEAS.ID, MASTER, NP, WAVELENGTH, FOLDER, FILE, RATE, X, Y, CON, X*Y, INP, stdINP INPPX, IBGPX, EXP_TYPE, OPT'\n",
    "data = con.execute(\"\"\"\n",
    "SELECT {}\n",
    "FROM 'masters' as MAS \n",
    "INNER JOIN 'experiments' as EXP \n",
    "ON MAS.ID = EXP.MASTER_ID\n",
    "INNER JOIN 'measurements' as MEAS\n",
    "ON EXP.ID = MEAS.EXPERIMENT_ID\n",
    "\n",
    "ORDER BY RATE DESC\n",
    ";\n",
    "   \"\"\".format(columns))\n",
    "\n",
    "head(columns)\n",
    "\n",
    "i=0\n",
    "for row in data:\n",
    "    print(str(to_show(row)).replace(', ', '\\t').replace(\"'\", \"\")[1:-1])\n",
    "    i+=1\n",
    "    \n",
    "    \n",
    "print('---\\n{}'.format(i))"
   ]
  },
  {
   "cell_type": "raw",
   "metadata": {},
   "source": [
    "con.execute(\"\"\"\n",
    "UPDATE 'measurements' SET OPT = 1 WHERE (WAVELENGTH = 628 OR WAVELENGTH = 624 OR WAVELENGTH = 622) AND EXPERIMENT_ID = 8\n",
    "\"\"\")"
   ]
  },
  {
   "cell_type": "code",
   "execution_count": 66,
   "metadata": {},
   "outputs": [
    {
     "name": "stdout",
     "output_type": "stream",
     "text": [
      "ID\tDATE\tMASTER_ID\tDIP\tFOLDER\n",
      "1\t20-02-25\t2\t615\t20_02_25_P3/\n",
      "2\t20-02-26\t6\t727\t20_02_26_Q3/\n",
      "3\t20-03-16\t4\t658\t20_03_16_K5/\n",
      "5\t20-02-25\t1\t598\t20_02_25_M5/\n",
      "6\t20-03-16\t3\t647\t20_03_16_K4/\n",
      "7\t20-04-15\t5\t740\t20_04_15_L3/\n",
      "8\t20-04-14\t1\t606\t20_04_14_M5/\n",
      "9\t20-04-20\t6\t729\t20_04_20_Q4/\n"
     ]
    }
   ],
   "source": [
    "exp.show_all()"
   ]
  },
  {
   "cell_type": "code",
   "execution_count": 96,
   "metadata": {},
   "outputs": [],
   "source": [
    "con.commit()"
   ]
  },
  {
   "cell_type": "code",
   "execution_count": 12,
   "metadata": {},
   "outputs": [],
   "source": [
    "folder = '20_04_20_Q4/'\n",
    "file = 'raw_17_1'\n",
    "\n",
    "columns = 'COUNT(MEAS.ID), MEAS.ID'\n",
    "data = con.execute(\"\"\"\n",
    "SELECT {}\n",
    "FROM 'masters' as MAS \n",
    "INNER JOIN 'experiments' as EXP \n",
    "ON MAS.ID = EXP.MASTER_ID\n",
    "INNER JOIN 'measurements' as MEAS\n",
    "ON EXP.ID = MEAS.EXPERIMENT_ID \n",
    "WHERE FOLDER = '{}' AND FILE = '{}'\n",
    ";\n",
    "   \"\"\".format(columns, folder, file)\n",
    "                  )"
   ]
  },
  {
   "cell_type": "code",
   "execution_count": 26,
   "metadata": {},
   "outputs": [
    {
     "data": {
      "text/plain": [
       "(3, 79)"
      ]
     },
     "execution_count": 26,
     "metadata": {},
     "output_type": "execute_result"
    }
   ],
   "source": [
    "[d for d in data][0]"
   ]
  },
  {
   "cell_type": "code",
   "execution_count": 20,
   "metadata": {},
   "outputs": [],
   "source": [
    "b"
   ]
  },
  {
   "cell_type": "code",
   "execution_count": 28,
   "metadata": {},
   "outputs": [
    {
     "name": "stdout",
     "output_type": "stream",
     "text": [
      "NP\tWAVELENGTH\tAR_TH\tAR_NOISE\tEXC_THS\tAR_MIN\tAR_COND\texp_type\n",
      "80\t732\t60.0\t0.001\t[2]\t10\t2\t-\n",
      "60\t732\t59.0\t0.001\t[2]\t10\t2\t-\n",
      "60\t732\t46.0\t0.001\t[2]\t10\t2\tsh\n",
      "40\t732\t12.0\t0.001\t[1.1]\t2\t2\t-\n",
      "80\t732\t100.0\t0.001\t[2]\t2\t2\t-\n",
      "60\t732\t20.0\t0.001\t[2]\t2\t2\t-\n",
      "80\t732\t40.0\t0.001\t[2]\t2\t2\tstrep\n",
      "147\t732\t8.0\t0.001\t[2]\t2\t2\tps\n",
      "40\t732\t9.0\t0.001\t[2]\t6\t2\t-\n",
      "80\t732\t31.0\t0.001\t[2]\t6\t2\tsh\n"
     ]
    }
   ],
   "source": [
    "columns = 'NP, WAVELENGTH, AR_TH, AR_NOISE, EXC_THS, AR_MIN, AR_COND, exp_type'\n",
    "data = con.execute(\"\"\"\n",
    "SELECT {} FROM 'measurements'\n",
    "WHERE WAVELENGTH=732\n",
    "ORDER BY WAVELENGTH ASC;\n",
    "   \"\"\".format(columns))\n",
    "\n",
    "print(columns.replace(', ','\\t'))\n",
    "for row in data:\n",
    "    print(str(row).replace(', ', '\\t').replace(\"'\", \"\")[1:-1])"
   ]
  },
  {
   "cell_type": "raw",
   "metadata": {},
   "source": [
    "meas.del_row(5)"
   ]
  },
  {
   "cell_type": "code",
   "execution_count": 59,
   "metadata": {},
   "outputs": [],
   "source": [
    "con.commit()"
   ]
  },
  {
   "cell_type": "code",
   "execution_count": 51,
   "metadata": {},
   "outputs": [],
   "source": [
    "con.close()"
   ]
  },
  {
   "cell_type": "code",
   "execution_count": null,
   "metadata": {},
   "outputs": [],
   "source": []
  }
 ],
 "metadata": {
  "kernelspec": {
   "display_name": "Python 3",
   "language": "python",
   "name": "python3"
  },
  "language_info": {
   "codemirror_mode": {
    "name": "ipython",
    "version": 3
   },
   "file_extension": ".py",
   "mimetype": "text/x-python",
   "name": "python",
   "nbconvert_exporter": "python",
   "pygments_lexer": "ipython3",
   "version": "3.7.4"
  }
 },
 "nbformat": 4,
 "nbformat_minor": 4
}
