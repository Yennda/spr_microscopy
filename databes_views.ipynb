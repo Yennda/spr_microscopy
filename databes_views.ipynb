{
 "cells": [
  {
   "cell_type": "code",
   "execution_count": 1,
   "metadata": {},
   "outputs": [],
   "source": [
    "import numpy as np\n",
    "import matplotlib.pyplot as plt\n",
    "from database_methods import Table, to_show, head\n",
    "import sqlite3\n",
    "con = sqlite3.connect('database_results.db')\n",
    "cursor = con.cursor()"
   ]
  },
  {
   "cell_type": "code",
   "execution_count": 29,
   "metadata": {},
   "outputs": [],
   "source": [
    "mas = Table(connection=con, name='masters')\n",
    "exp = Table(con, name = 'experiments')\n",
    "meas = Table(con, name = 'measurements')"
   ]
  },
  {
   "cell_type": "code",
   "execution_count": 92,
   "metadata": {},
   "outputs": [
    {
     "name": "stdout",
     "output_type": "stream",
     "text": [
      "CATEGORY, PERIOD, AMPLITUDE, MASTER\n",
      "DATE, MASTER_ID, DIP, FOLDER\n",
      "EXPERIMENT_ID, NP, WAVELENGTH, FILE, AR_TH, AR_DIP, AR_NOISE, EXC_THS, RATE, INFO, COUNT, X, Y, CON, INP, INPPX, IBGPX, STD, stdX, stdY, stdCON, stdINP, stdINPPX, stdIBGPX, stdSTD, NOTES, AR_MIN, AR_COND, EXP_TYPE\n",
      "--------------------------------------------------------------------------------\n",
      "ID\tCATEGORY\tPERIOD\tAMPLITUDE\tMASTER\n",
      "1\t600\t405\t45\tM5\n",
      "2\t600\t405\t53\tP3\n",
      "3\t650\t452\t32\tK4\n",
      "4\t650\t452\t40\tK5\n",
      "5\t750\t528\t24\tL3\n",
      "6\t750\t526\t30\tQ4\n"
     ]
    }
   ],
   "source": [
    "print(mas.columns)\n",
    "print(exp.columns)\n",
    "print(meas.columns)\n",
    "print('-'*80)\n",
    "mas.show_all()\n",
    "# exp.show_all()"
   ]
  },
  {
   "cell_type": "code",
   "execution_count": 121,
   "metadata": {},
   "outputs": [
    {
     "name": "stdout",
     "output_type": "stream",
     "text": [
      " MASTER\tWAVELEN\tNP\tDIP\tRATE\tCON\tCOUNT\tINP\tIBGPX\tEXC_THS\tEXP_TYP\t NOTES\n",
      "P3\t615\t80\t615\t25.33\t9.08\t51\t4.61\t0.2231\t[4.5\t0\t-\t-\n",
      "P3\t612\t60\t615\t40.74\t8.28\t88\t4.66\t0.2225\t[5\t0\t\t-\tnice\tF\n",
      "P3\t612\t80\t615\t30.00\t8.16\t47\t4.91\t0.2032\t[5\t0\t\tsh\tnice\n",
      "P3\t614\t80\t615\t43.18\t8.03\t51\t4.36\t0.2244\t[3.5\t0\t-\t-\n",
      "P3\t612\t80\t615\t46.43\t7.86\t99\t4.53\t0.1912\t[5\t0\t\t-\tnice\n",
      "P3\t622\t80\t615\t20.00\t7.80\t47\t5.34\t0.2645\t[4\t0\t\t-\t-\n",
      "P3\t612\t80\t615\t168.45\t7.43\t348\t4.54\t0.2021\t[5\t0\t\tstrep\tnice\n",
      "P3\t628\t80\t615\t25.00\t6.86\t39\t6.73\t0.3297\t[4.5\t0\t-\t-\n",
      "P3\t618\t80\t615\t150.00\t6.82\t49\t5.85\t0.2803\t[3.5\t0\t-\t-\n",
      "P3\t610\t80\t615\t42.78\t6.63\t113\t5.63\t0.2363\t[3.5\t0\t-\t-\n",
      "P3\t624\t80\t615\t31.85\t6.52\t82\t5.26\t0.2794\t[4.5\t0\t-\t-\n",
      "P3\t602\t80\t615\t65.62\t6.51\t116\t6.21\t0.3352\t[4\t0\t\t-\tnice\n",
      "P3\t626\t80\t615\t21.60\t6.48\t59\t5.68\t0.4105\t[4\t0\t\t-\t-\n",
      "K5\t668\t80\t658\t26.25\t6.47\t53\t22.46\t0.4679\t[2.5]\t-\tbg inte\n",
      "P3\t606\t80\t615\t101.54\t6.32\t166\t5.42\t0.2714\t[4\t0\t\t-\tnice\n",
      "P3\t608\t80\t615\t80.47\t6.25\t169\t5.07\t0.2577\t[4\t0\t\t-\tnice\n",
      "K5\t666\t80\t658\t42.59\t6.04\t78\t17.09\t0.4306\t[2]\t-\tbg inte\n",
      "K5\t670\t80\t658\t39.07\t5.94\t92\t21.37\t0.5083\t[2.5]\t-\tbg inte\n",
      "K5\t656\t80\t658\t36.97\t5.93\t77\t11.65\t0.2214\t[2]\t-\t-\n",
      "K5\t662\t60\t658\t33.33\t5.89\t57\t15.70\t0.3067\t[3]\t-\tbg inte\n",
      "K5\t660\t60\t658\t21.05\t5.82\t46\t12.01\t0.3303\t[3.5]\t-\t-\n",
      "K5\t664\t60\t658\t19.40\t5.60\t45\t10.76\t0.2447\t[3]\t-\t-\n",
      "Q4\t734\t80\t727\t70.29\t5.38\t169\t36.50\t0.5129\t[2]\t-\t-\n",
      "K5\t656\t60\t658\t16.67\t5.37\t33\t9.60\t0.2106\t[3]\t-\tnice\n",
      "K5\t660\t80\t658\t33.67\t5.35\t98\t12.40\t0.2291\t[2]\t-\tnice\n",
      "K5\t662\t80\t658\t38.24\t5.27\t72\t18.04\t0.2858\t[2]\t-\t-\n",
      "K5\t658\t60\t658\t25.00\t5.26\t59\t11.28\t0.2613\t[3]\t-\t-\n",
      "K5\t654\t80\t658\t51.58\t5.05\t82\t13.51\t0.2727\t[2]\t-\t-\n",
      "K5\t664\t80\t658\t50.00\t4.90\t83\t16.49\t0.3333\t[2]\t-\tbg inte\n",
      "K4\t653\t100\t647\t11.54\t4.87\t42\t9.90\t0.3104\t[2.4]\t-\t-\n",
      "K5\t658\t80\t658\t39.15\t4.85\t116\t12.93\t0.2087\t[2]\t-\tnice\n",
      "K4\t653\t80\t647\t31.72\t4.65\t82\t8.89\t0.3001\t[2]\t-\t-\n",
      "Q4\t732\t80\t727\t85.33\t4.42\t206\t46.00\t0.5202\t[2]\t-\t-\n",
      "Q4\t732\t60\t727\t97.04\t3.97\t166\t31.03\t0.5038\t[2]\t-\t-\n",
      "K5\t650\t80\t658\t30.16\t3.91\t52\t16.52\t0.3064\t[3]\t-\tbg fluc\n",
      "K4\t651\t80\t647\t29.07\t3.89\t54\t10.07\t0.2371\t[2.1]\t-\t-\n",
      "Q4\t732\t60\t727\t96.97\t3.82\t234\t30.71\t0.4713\t[2]\tsh\t-\n",
      "Q4\t740\t80\t727\t59.20\t3.75\t128\t15.91\t0.5354\t[2.4]\t-\t-\n",
      "K4\t655\t80\t647\t17.72\t3.73\t46\t4.88\t0.3472\t[1.5]\t-\t-\n",
      "Q4\t726\t80\t727\t70.91\t3.64\t113\t20.36\t0.2148\t[2]\t-\t-\n",
      "K4\t653\t60\t647\t27.27\t3.33\t35\t5.11\t0.2929\t[1.7]\t-\t-\n",
      "K4\t651\t60\t647\t33.00\t3.11\t77\t7.49\t0.2748\t[2]\t-\t-\n",
      "Q4\t724\t80\t727\t89.81\t3.05\t137\t20.65\t0.3386\t[1.2\t2\t-\t-\n",
      "Q4\t736\t80\t727\t57.34\t2.91\t163\t21.79\t0.7632\t[1.4]\t-\t-\n",
      "K4\t649\t80\t647\t26.32\t2.91\t66\t5.14\t0.1523\t[1.5]\t-\t-\n",
      "K4\t649\t60\t647\t27.78\t2.77\t81\t3.96\t0.1585\t[1.7]\t-\t-\n",
      "K4\t651\t100\t647\t19.10\t2.70\t71\t6.45\t0.3346\t[2.1]\t-\tbg fluc\n",
      "K4\t660\t80\t647\t25.53\t2.68\t45\t3.00\t0.4198\t[1.4]\t-\tbadly r\n",
      "K4\t647\t80\t647\t15.56\t1.90\t55\t3.11\t0.1322\t[1.1]\t-\t-\n"
     ]
    }
   ],
   "source": [
    "# \n",
    "columns = ' MASTER, WAVELENGTH, NP, DIP, RATE, CON, COUNT, INP, IBGPX, EXC_THS, EXP_TYPE,  NOTES'\n",
    "data = con.execute(\"\"\"\n",
    "SELECT {}\n",
    "FROM 'masters' as MAS \n",
    "INNER JOIN 'experiments' as EXP \n",
    "ON MAS.ID = EXP.MASTER_ID\n",
    "INNER JOIN 'measurements' as MEAS\n",
    "ON EXP.ID = MEAS.EXPERIMENT_ID\n",
    "ORDER BY CON DESC\n",
    ";\n",
    "   \"\"\".format(columns))\n",
    "\n",
    "head(columns)\n",
    "\n",
    "for row in data:\n",
    "    print(str(to_show(row)).replace(', ', '\\t').replace(\"'\", \"\")[1:-1])\n",
    "    \n"
   ]
  },
  {
   "cell_type": "code",
   "execution_count": 115,
   "metadata": {},
   "outputs": [
    {
     "name": "stdout",
     "output_type": "stream",
     "text": [
      "NP\tWAVELENGTH\tAR_TH\tAR_NOISE\tEXC_THS\n",
      "80\t602\t3.0\t0.0016\t[4\t0\t1.1]\n",
      "80\t606\t2.0\t0.0011\t[4\t0\t1.1]\n",
      "80\t608\t2.0\t0.0011\t[4\t0\t1.1]\n",
      "80\t610\t1.5\t0.0011\t[3.5\t0\t2.1]\n",
      "80\t612\t2.0\t0.001\t[5\t0\t1.1]\n",
      "80\t614\t3.0\t0.001\t[3.5\t0\t1.1]\n",
      "80\t615\t3.0\t0.001\t[4.5\t0\t1.1]\n",
      "80\t618\t3.0\t0.0013\t[3.5\t0\t2.1]\n",
      "80\t622\t3.0\t0.0014\t[4\t0\t1.1]\n",
      "80\t624\t3.0\t0.0014\t[4.5\t0\t1.1]\n",
      "80\t626\t3.0\t0.0025\t[4\t0\t1.1]\n",
      "80\t628\t2.0\t0.002\t[4.5\t0\t1.1]\n"
     ]
    }
   ],
   "source": [
    "columns = 'NP, WAVELENGTH, AR_TH, AR_NOISE, EXC_THS'\n",
    "data = con.execute(\"\"\"\n",
    "SELECT {} FROM 'measurements'\n",
    "WHERE WAVELENGTH<630\n",
    "ORDER BY WAVELENGTH ASC;\n",
    "   \"\"\".format(columns))\n",
    "\n",
    "print(columns.replace(', ','\\t'))\n",
    "for row in data:\n",
    "    print(str(row).replace(', ', '\\t').replace(\"'\", \"\")[1:-1])"
   ]
  },
  {
   "cell_type": "code",
   "execution_count": 96,
   "metadata": {},
   "outputs": [
    {
     "data": {
      "text/plain": [
       "<sqlite3.Cursor at 0x3bdca38180>"
      ]
     },
     "execution_count": 96,
     "metadata": {},
     "output_type": "execute_result"
    }
   ],
   "source": [
    "con.execute(\"\"\"\n",
    "UPDATE 'measurements' SET NOTES = '-' WHERE WAVELENGTH = 628\n",
    "\"\"\")"
   ]
  },
  {
   "cell_type": "raw",
   "metadata": {},
   "source": [
    "meas.del_row(5)"
   ]
  },
  {
   "cell_type": "code",
   "execution_count": 98,
   "metadata": {},
   "outputs": [],
   "source": [
    "meas.commit()"
   ]
  },
  {
   "cell_type": "code",
   "execution_count": 9,
   "metadata": {},
   "outputs": [],
   "source": [
    "con.close()"
   ]
  },
  {
   "cell_type": "code",
   "execution_count": null,
   "metadata": {},
   "outputs": [],
   "source": []
  }
 ],
 "metadata": {
  "kernelspec": {
   "display_name": "Python 3",
   "language": "python",
   "name": "python3"
  },
  "language_info": {
   "codemirror_mode": {
    "name": "ipython",
    "version": 3
   },
   "file_extension": ".py",
   "mimetype": "text/x-python",
   "name": "python",
   "nbconvert_exporter": "python",
   "pygments_lexer": "ipython3",
   "version": "3.7.4"
  }
 },
 "nbformat": 4,
 "nbformat_minor": 4
}
