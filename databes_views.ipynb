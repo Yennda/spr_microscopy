{
 "cells": [
  {
   "cell_type": "code",
   "execution_count": 1,
   "metadata": {},
   "outputs": [],
   "source": [
    "import numpy as np\n",
    "import matplotlib.pyplot as plt\n",
    "from database_methods import Table, to_show, head\n",
    "import sqlite3\n",
    "con = sqlite3.connect('database_results.db')\n",
    "cursor = con.cursor()"
   ]
  },
  {
   "cell_type": "code",
   "execution_count": 2,
   "metadata": {},
   "outputs": [],
   "source": [
    "dg = Table(connection=con, name='masters')\n",
    "exp = Table(con, name = 'experiments')\n",
    "meas = Table(con, name = 'measurements')"
   ]
  },
  {
   "cell_type": "code",
   "execution_count": 3,
   "metadata": {},
   "outputs": [
    {
     "name": "stdout",
     "output_type": "stream",
     "text": [
      "CATEGORY, PERIOD, AMPLITUDE, MASTER\n",
      "DATE, MASTER_ID, DIP, FOLDER\n",
      "EXPERIMENT_ID, NP, WAVELENGTH, FILE, AR_TH, AR_DIP, AR_NOISE, EXC_THS, RATE, INFO, COUNT, X, Y, CON, INP, INPPX, IBGPX, STD, stdX, stdY, stdCON, stdINP, stdINPPX, stdIBGPX, stdSTD, NOTES, AR_MIN, AR_COND, EXP_TYPE\n",
      "--------------------------------------------------------------------------------\n"
     ]
    }
   ],
   "source": [
    "print(dg.columns)\n",
    "print(exp.columns)\n",
    "print(meas.columns)\n",
    "print('-'*80)\n",
    "# exp.show_all()"
   ]
  },
  {
   "cell_type": "code",
   "execution_count": 4,
   "metadata": {},
   "outputs": [
    {
     "name": "stdout",
     "output_type": "stream",
     "text": [
      "80\t740\t727\t20-02-26\t128\t3.7494866284721313\n",
      "80\t732\t727\t20-02-26\t206\t4.424635611736389\n",
      "80\t734\t727\t20-02-26\t169\t5.380528060883221\n",
      "80\t736\t727\t20-02-26\t163\t2.907049071433627\n",
      "80\t726\t727\t20-02-26\t113\t3.6359160741949874\n",
      "80\t724\t727\t20-02-26\t137\t3.053237526603112\n",
      "60\t732\t727\t20-02-26\t166\t3.968417288931015\n",
      "60\t732\t727\t20-02-26\t234\t3.816722879969379\n",
      "80\t651\t647\t20-03-16\t54\t3.8884484367508425\n",
      "80\t647\t647\t20-03-16\t55\t1.9014506031657823\n",
      "80\t649\t647\t20-03-16\t66\t2.9057549932215254\n"
     ]
    }
   ],
   "source": [
    "data = con.execute(\"\"\"\n",
    "SELECT NP, WAVELENGTH, DIP, DATE, COUNT, CON\n",
    "FROM 'experiments' as EXP INNER JOIN 'measurements' as MEAS\n",
    "   ON EXP.ID = MEAS.EXPERIMENT_ID;\n",
    "   \"\"\")\n",
    "for row in data:\n",
    "    print(str(row).replace(', ', '\\t').replace(\"'\", \"\")[1:-1])"
   ]
  },
  {
   "cell_type": "code",
   "execution_count": 3,
   "metadata": {},
   "outputs": [
    {
     "name": "stdout",
     "output_type": "stream",
     "text": [
      "MEAS.ID\tWAVELEN\tNP\tDIP\tFILE\tDATE\tRATE\tCON\tINP\tMASTER\tAR_MIN\tAR_COND\tEXP_TYP\t NOTES\n",
      "1\t740\t80\t727\traw_07_\t20-02-2\t59.20\t3.75\t15.91\tQ4\t6\t2\t-\t-\n",
      "2\t732\t80\t727\traw_04_\t20-02-2\t85.33\t4.42\t46.00\tQ4\t10\t2\t-\t-\n",
      "3\t734\t80\t727\traw_05_\t20-02-2\t70.29\t5.38\t36.50\tQ4\t10\t2\t-\t-\n",
      "4\t736\t80\t727\traw_06_\t20-02-2\t57.34\t2.91\t21.79\tQ4\t10\t2\t-\t-\n",
      "6\t726\t80\t727\traw_08_\t20-02-2\t70.91\t3.64\t20.36\tQ4\t10\t2\t-\t-\n",
      "7\t724\t80\t727\traw_09_\t20-02-2\t89.81\t3.05\t20.65\tQ4\t10\t2\t-\t-\n",
      "8\t732\t60\t727\traw_18_\t20-02-2\t97.04\t3.97\t31.03\tQ4\t10\t2\t-\t-\n",
      "9\t732\t60\t727\traw_21_\t20-02-2\t96.97\t3.82\t30.71\tQ4\t10\t2\tsh\t-\n",
      "10\t651\t80\t647\traw_05_\t20-03-1\t29.07\t3.89\t10.07\tK4\t6\t2\t-\t-\n",
      "11\t647\t80\t647\traw_03_\t20-03-1\t15.56\t1.90\t3.11\tK4\t6\t1\t-\t-\n",
      "12\t649\t80\t647\traw_04_\t20-03-1\t26.32\t2.91\t5.14\tK4\t6\t2\t-\t-\n",
      "13\t653\t80\t647\traw_06_\t20-03-1\t31.72\t4.65\t8.89\tK4\t6\t1\t-\t-\n"
     ]
    }
   ],
   "source": [
    "# \n",
    "columns = 'MEAS.ID, WAVELENGTH, NP, DIP, FILE, DATE, RATE, CON, INP, MASTER, AR_MIN, AR_COND, EXP_TYPE,  NOTES'\n",
    "data = con.execute(\"\"\"\n",
    "SELECT {}\n",
    "FROM 'masters' as MAS \n",
    "INNER JOIN 'experiments' as EXP \n",
    "ON MAS.ID = EXP.MASTER_ID\n",
    "INNER JOIN 'measurements' as MEAS\n",
    "ON EXP.ID = MEAS.EXPERIMENT_ID\n",
    "ORDER BY CON DESC\n",
    "   \"\"\".format(columns))\n",
    "\n",
    "head(columns)\n",
    "\n",
    "for row in data:\n",
    "    print(str(to_show(row)).replace(', ', '\\t').replace(\"'\", \"\")[1:-1])\n",
    "    \n",
    "\t"
   ]
  },
  {
   "cell_type": "code",
   "execution_count": 40,
   "metadata": {},
   "outputs": [
    {
     "name": "stdout",
     "output_type": "stream",
     "text": [
      "NP\tWAVELENGTH\tX\n",
      "80\t740\t16.71\n",
      "80\t732\t32.05\n",
      "80\t734\t24.95\n",
      "80\t736\t23.03\n",
      "80\t726\t41.31\n",
      "80\t724\t40.87\n",
      "60\t732\t27.16\n",
      "60\t732\t28.07\n"
     ]
    }
   ],
   "source": [
    "columns = 'NP, WAVELENGTH, X'\n",
    "data = con.execute(\"\"\"\n",
    "SELECT {} FROM 'measurements';\n",
    "   \"\"\".format(columns))\n",
    "\n",
    "print(columns.replace(', ','\\t'))\n",
    "for row in data:\n",
    "    print(str(to_show(row)).replace(', ', '\\t').replace(\"'\", \"\")[1:-1])"
   ]
  },
  {
   "cell_type": "code",
   "execution_count": 95,
   "metadata": {},
   "outputs": [
    {
     "data": {
      "text/plain": [
       "<sqlite3.Cursor at 0x5d23d6a500>"
      ]
     },
     "execution_count": 95,
     "metadata": {},
     "output_type": "execute_result"
    }
   ],
   "source": [
    "con.execute(\"\"\"\n",
    "UPDATE 'measurements' SET NOTES = '-'\n",
    "\"\"\")"
   ]
  },
  {
   "cell_type": "raw",
   "metadata": {},
   "source": [
    "meas.del_row(5)"
   ]
  },
  {
   "cell_type": "code",
   "execution_count": 97,
   "metadata": {},
   "outputs": [],
   "source": [
    "meas.commit()"
   ]
  },
  {
   "cell_type": "code",
   "execution_count": 9,
   "metadata": {},
   "outputs": [],
   "source": [
    "con.close()"
   ]
  },
  {
   "cell_type": "code",
   "execution_count": null,
   "metadata": {},
   "outputs": [],
   "source": []
  }
 ],
 "metadata": {
  "kernelspec": {
   "display_name": "Python 3",
   "language": "python",
   "name": "python3"
  },
  "language_info": {
   "codemirror_mode": {
    "name": "ipython",
    "version": 3
   },
   "file_extension": ".py",
   "mimetype": "text/x-python",
   "name": "python",
   "nbconvert_exporter": "python",
   "pygments_lexer": "ipython3",
   "version": "3.7.4"
  }
 },
 "nbformat": 4,
 "nbformat_minor": 4
}
