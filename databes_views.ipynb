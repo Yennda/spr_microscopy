{
 "cells": [
  {
   "cell_type": "code",
   "execution_count": 1,
   "metadata": {},
   "outputs": [],
   "source": [
    "import numpy as np\n",
    "import matplotlib.pyplot as plt\n",
    "from database_methods import Table, to_show, head\n",
    "import sqlite3\n",
    "con = sqlite3.connect('database_results.db')\n",
    "cursor = con.cursor()"
   ]
  },
  {
   "cell_type": "code",
   "execution_count": 2,
   "metadata": {},
   "outputs": [],
   "source": [
    "mas = Table(connection=con, name='masters')\n",
    "exp = Table(con, name = 'experiments')\n",
    "meas = Table(con, name = 'measurements')"
   ]
  },
  {
   "cell_type": "code",
   "execution_count": 3,
   "metadata": {},
   "outputs": [
    {
     "name": "stdout",
     "output_type": "stream",
     "text": [
      "CATEGORY, PERIOD, AMPLITUDE, MASTER, FWHM, R, S\n",
      "DATE, MASTER_ID, DIP, FOLDER\n",
      "EXPERIMENT_ID, NP, WAVELENGTH, FILE, AR_TH, AR_DIP, AR_NOISE, EXC_THS, RATE, INFO, COUNT, X, Y, CON, INP, INPPX, IBGPX, STD, stdX, stdY, stdCON, stdINP, stdINPPX, stdIBGPX, stdSTD, NOTES, AR_MIN, AR_COND, EXP_TYPE\n",
      "--------------------------------------------------------------------------------\n",
      "ID\tCATEGORY\tPERIOD\tAMPLITUDE\tMASTER\tFWHM\tR\tS\n",
      "1\t600\t405\t45\tM5\t23.0\t8.0\t15.9\n",
      "2\t600\t405\t53\tP3\t25.0\t19.7\t3.8\n",
      "3\t650\t452\t32\tK4\t12.5\t11.9\t17.8\n",
      "4\t650\t452\t40\tK5\t15.0\t18.0\t8.8\n",
      "5\t750\t528\t24\tL3\t7.0\t13.8\t78.5\n",
      "6\t750\t526\t30\tQ4\t9.5\t22.0\t30.7\n",
      "ID\tDATE\tMASTER_ID\tDIP\tFOLDER\n",
      "1\t20-02-25\t2\t615\t20_02_25_P3/\n",
      "2\t20-02-26\t6\t727\t20_02_26_Q3/\n",
      "3\t20-03-16\t4\t658\t20_03_16_K5/\n",
      "5\t20-02-25\t1\t598\t20_02_25_M5/\n",
      "6\t20-03-16\t3\t647\t20_03_16_K4/\n",
      "7\t20-04-15\t5\t740\t20_04_15_L3/\n",
      "8\t20-04-14\t1\t606\t20_04_14_M5/\n",
      "9\t20-04-20\t6\t729\t20_04_20_Q4/\n"
     ]
    }
   ],
   "source": [
    "print(mas.columns)\n",
    "print(exp.columns)\n",
    "print(meas.columns)\n",
    "print('-'*80)\n",
    "mas.show_all()\n",
    "exp.show_all()"
   ]
  },
  {
   "cell_type": "raw",
   "metadata": {},
   "source": [
    "con.execute(\"\"\"\n",
    "UPDATE 'masters' SET S = '78.5' WHERE MASTER='L3'\n",
    "\"\"\")"
   ]
  },
  {
   "cell_type": "code",
   "execution_count": 4,
   "metadata": {},
   "outputs": [],
   "source": [
    "con.commit()"
   ]
  },
  {
   "cell_type": "code",
   "execution_count": 5,
   "metadata": {},
   "outputs": [
    {
     "name": "stdout",
     "output_type": "stream",
     "text": [
      "MASTER\t AVG(DI\tAVG(INP\tAVG(INP\tAVG(CON\tAVG(INP\tAVG(IBG\n",
      "L3\t740.00\t18.53\t54.94\t3.31\t1.15\t0.3505\n",
      "Q4\t727.71\t24.20\t64.73\t4.58\t1.69\t0.4031\n",
      "K5\t658.00\t14.79\t48.99\t5.44\t1.64\t0.3078\n",
      "K4\t647.00\t6.18\t24.67\t3.32\t0.9056\t0.2691\n",
      "P3\t615.00\t5.25\t20.50\t7.27\t1.81\t0.2621\n",
      "M5\t606.00\t2.54\t11.68\t6.60\t1.42\t0.2196\n"
     ]
    }
   ],
   "source": [
    "# \n",
    "columns = 'MASTER,  AVG(DIP), AVG(INP), AVG(INP/IBGPX), AVG(CON), AVG(INPPX), AVG(IBGPX)'\n",
    "data = con.execute(\"\"\"\n",
    "SELECT {}\n",
    "FROM 'masters' as MAS \n",
    "INNER JOIN 'experiments' as EXP \n",
    "ON MAS.ID = EXP.MASTER_ID\n",
    "INNER JOIN 'measurements' as MEAS\n",
    "ON EXP.ID = MEAS.EXPERIMENT_ID\n",
    "GROUP BY MASTER\n",
    "ORDER BY DIP DESC\n",
    ";\n",
    "   \"\"\".format(columns))\n",
    "\n",
    "head(columns)\n",
    "\n",
    "for row in data:\n",
    "    print(str(to_show(row)).replace(', ', '\\t').replace(\"'\", \"\")[1:-1])\n"
   ]
  },
  {
   "cell_type": "code",
   "execution_count": 6,
   "metadata": {},
   "outputs": [
    {
     "name": "stdout",
     "output_type": "stream",
     "text": [
      " MASTER\tDATE\tFILE\tWAVELEN\tNP\tDIP\tCOUNT\tRATE\tCON\tCOUNT\tX*Y\tINP\tINPPX\tIBGPX\tSTD\tEXP_TYP\t NOTES\n",
      "Q4\t20-04-2\traw_02_\t732\t80\t729\t138\t47.93\t11.33\t138\t225.36\t25.61\t3.24\t0.2904\t0.4365\t-\t-\n",
      "P3\t20-02-2\traw_08_\t615\t80\t615\t51\t25.33\t9.08\t51\t27.17\t4.61\t1.87\t0.2231\t0.2916\t-\t-\n",
      "P3\t20-02-2\traw_16_\t612\t60\t615\t88\t40.74\t8.28\t88\t26.76\t4.66\t1.80\t0.2225\t0.2879\t-\tnice\tF\n",
      "P3\t20-02-2\traw_29_\t612\t80\t615\t47\t30.00\t8.16\t47\t32.51\t4.91\t1.63\t0.2032\t0.2629\tsh\tnice\n",
      "P3\t20-02-2\traw_09_\t614\t80\t615\t51\t43.18\t8.03\t51\t28.83\t4.36\t1.67\t0.2244\t0.2938\t-\t-\n",
      "P3\t20-02-2\traw_10_\t612\t80\t615\t99\t46.43\t7.86\t99\t30.26\t4.53\t1.50\t0.1912\t0.2470\t-\tnice\n",
      "P3\t20-02-2\traw_06_\t622\t80\t615\t47\t20.00\t7.80\t47\t28.36\t5.34\t2.00\t0.2645\t0.3476\t-\t-\n",
      "M5\t20-04-1\traw_11_\t616\t80\t606\t69\t19.79\t7.56\t69\t11.39\t1.76\t1.37\t0.1836\t0.2328\t-\tnice\n",
      "M5\t20-04-1\traw_10_\t618\t80\t606\t47\t13.27\t7.54\t47\t16.51\t3.39\t1.51\t0.2018\t0.2733\t-\t-\n",
      "P3\t20-02-2\traw_32_\t612\t80\t615\t348\t168.45\t7.43\t348\t31.24\t4.54\t1.49\t0.2021\t0.2650\tstrep\tnice\n",
      "P3\t20-02-2\traw_03_\t628\t80\t615\t39\t25.00\t6.86\t39\t32.14\t6.73\t2.22\t0.3297\t0.4307\t-\t-\n",
      "P3\t20-02-2\traw_07_\t618\t80\t615\t49\t26.70\t6.82\t49\t43.26\t5.85\t1.71\t0.2803\t0.3683\t-\t-\n",
      "P3\t20-02-2\traw_11_\t610\t80\t615\t113\t42.78\t6.63\t113\t40.83\t5.63\t1.51\t0.2363\t0.3036\t-\t-\n",
      "P3\t20-02-2\traw_05_\t624\t80\t615\t82\t31.85\t6.52\t82\t32.84\t5.26\t1.80\t0.2794\t0.3660\t-\t-\n",
      "P3\t20-02-2\traw_14_\t602\t80\t615\t116\t65.62\t6.51\t116\t28.99\t6.21\t2.16\t0.3352\t0.4231\t-\tnice\n",
      "Q4\t20-04-2\traw_17_\t732\t80\t729\t226\t61.15\t6.50\t226\t306.35\t25.23\t1.76\t0.2741\t0.4109\tstrep\t-\n",
      "P3\t20-02-2\traw_04_\t626\t80\t615\t59\t21.60\t6.48\t59\t25.87\t5.68\t2.47\t0.4105\t0.5398\t-\t-\n",
      "K5\t20-03-1\traw_06_\t668\t80\t658\t53\t26.25\t6.47\t53\t210.97\t22.46\t2.92\t0.4679\t0.6063\t-\tbg inte\n",
      "M5\t20-04-1\traw_06_\t622\t80\t606\t165\t52.19\t6.44\t165\t18.94\t2.94\t1.45\t0.2282\t0.2962\t-\tweak\n",
      "P3\t20-02-2\traw_13_\t606\t80\t615\t166\t101.54\t6.32\t166\t32.18\t5.42\t1.70\t0.2714\t0.3449\t-\tnice\n",
      "P3\t20-02-2\traw_12_\t608\t80\t615\t169\t80.47\t6.25\t169\t32.59\t5.07\t1.59\t0.2577\t0.3277\t-\tnice\n",
      "M5\t20-04-1\traw_07_\t624\t80\t606\t130\t44.70\t6.08\t130\t16.42\t2.63\t1.42\t0.2335\t0.2954\t-\t-\n",
      "Q4\t20-04-2\traw_25_\t732\t60\t729\t201\t71.88\t6.06\t201\t277.04\t20.16\t1.55\t0.2579\t0.3590\t-\t-\n",
      "K5\t20-03-1\traw_05_\t666\t80\t658\t78\t42.59\t6.04\t78\t201.74\t17.09\t2.49\t0.4306\t0.5664\t-\tbg inte\n",
      "K5\t20-03-1\traw_07_\t670\t80\t658\t92\t39.07\t5.94\t92\t212.70\t21.37\t2.89\t0.5083\t0.6594\t-\tbg inte\n",
      "K5\t20-03-1\traw_09_\t656\t80\t658\t77\t36.97\t5.93\t77\t226.31\t11.65\t1.31\t0.2214\t0.2864\t-\t-\n",
      "K5\t20-03-1\traw_17_\t662\t60\t658\t57\t33.33\t5.89\t57\t240.54\t15.70\t1.72\t0.3067\t0.3943\t-\tbg inte\n",
      "K5\t20-03-1\traw_13_\t660\t60\t658\t46\t21.05\t5.82\t46\t208.07\t12.01\t1.62\t0.3303\t0.4251\t-\t-\n",
      "K5\t20-03-1\traw_15_\t664\t60\t658\t45\t19.40\t5.60\t45\t214.28\t10.76\t1.36\t0.2447\t0.3105\t-\t-\n",
      "M5\t20-04-1\traw_08_\t628\t80\t606\t180\t68.20\t5.41\t180\t12.37\t1.97\t1.36\t0.2508\t0.3162\t-\t-\n",
      "Q4\t20-02-2\traw_05_\t734\t80\t727\t169\t70.29\t5.38\t169\t317.05\t36.50\t2.71\t0.5129\t0.6644\t-\t-\n",
      "K5\t20-03-1\traw_18_\t656\t60\t658\t33\t16.67\t5.37\t33\t219.52\t9.60\t1.13\t0.2106\t0.2720\t-\tnice\n",
      "K5\t20-03-1\traw_01_\t660\t80\t658\t98\t33.67\t5.35\t98\t249.06\t12.40\t1.21\t0.2291\t0.2920\t-\tnice\n",
      "K5\t20-03-1\traw_03_\t662\t80\t658\t72\t38.24\t5.27\t72\t287.07\t18.04\t1.51\t0.2858\t0.3731\t-\t-\n",
      "K5\t20-03-1\traw_14_\t658\t60\t658\t59\t25.00\t5.26\t59\t236.34\t11.28\t1.20\t0.2613\t0.3348\t-\t-\n",
      "K5\t20-03-1\traw_10_\t654\t80\t658\t82\t51.58\t5.05\t82\t259.82\t13.51\t1.36\t0.2727\t0.3510\t-\t-\n",
      "K5\t20-03-1\traw_04_\t664\t80\t658\t83\t50.00\t4.90\t83\t246.85\t16.49\t1.61\t0.3333\t0.4319\t-\tbg inte\n",
      "K4\t20-03-1\traw_27_\t653\t100\t647\t42\t11.54\t4.87\t42\t208.35\t9.90\t1.48\t0.3104\t0.3949\t-\t-\n",
      "K5\t20-03-1\traw_02_\t658\t80\t658\t116\t39.15\t4.85\t116\t293.32\t12.93\t1.01\t0.2087\t0.2735\t-\tnice\n",
      "K4\t20-03-1\traw_06_\t653\t80\t647\t82\t31.72\t4.65\t82\t195.15\t8.89\t1.39\t0.3001\t0.3832\t-\t-\n",
      "Q4\t20-02-2\traw_04_\t732\t80\t727\t206\t85.33\t4.42\t206\t422.06\t46.00\t2.21\t0.5202\t0.6898\t-\t-\n",
      "L3\t20-04-1\traw_31_\t743\t100\t740\t54\t14.52\t4.37\t54\t247.82\t13.20\t1.49\t0.3453\t0.4741\t-\t-\n",
      "Q4\t20-02-2\traw_18_\t732\t60\t727\t166\t97.04\t3.97\t166\t350.01\t31.03\t1.96\t0.5038\t0.6527\t-\t-\n",
      "L3\t20-04-1\traw_11_\t741\t80\t740\t80\t31.72\t3.92\t80\t259.95\t7.49\t0.8547\t0.2188\t0.2834\t-\tFPs\n",
      "K5\t20-03-1\traw_11_\t650\t80\t658\t52\t30.16\t3.91\t52\t328.33\t16.52\t1.20\t0.3064\t0.3865\t-\tbg fluc\n",
      "L3\t20-04-1\traw_09_\t748\t80\t740\t67\t24.06\t3.91\t67\t305.28\t22.18\t1.77\t0.4542\t0.5750\t-\t-\n",
      "K4\t20-03-1\traw_05_\t651\t80\t647\t54\t29.07\t3.89\t54\t280.51\t10.07\t0.9155\t0.2371\t0.3019\t-\t-\n",
      "Q4\t20-02-2\traw_21_\t732\t60\t727\t234\t96.97\t3.82\t234\t368.74\t30.71\t1.76\t0.4713\t0.6189\tsh\t-\n",
      "Q4\t20-02-2\traw_07_\t740\t80\t727\t128\t59.20\t3.75\t128\t218.03\t15.91\t1.90\t0.5354\t0.6807\t-\t-\n",
      "L3\t20-04-1\traw_30_\t745\t100\t740\t74\t23.77\t3.75\t74\t260.32\t14.86\t1.60\t0.4289\t0.5891\t-\tFPs\tbe\n",
      "K4\t20-03-1\traw_07_\t655\t80\t647\t46\t17.72\t3.73\t46\t151.44\t4.88\t1.29\t0.3472\t0.4427\t-\t-\n",
      "L3\t20-04-1\traw_12_\t740\t80\t740\t83\t36.96\t3.70\t83\t598.41\t19.31\t0.7353\t0.1997\t0.2547\t-\tnice\n",
      "L3\t20-04-1\traw_07_\t745\t80\t740\t94\t29.50\t3.66\t94\t472.75\t33.34\t1.52\t0.4178\t0.5305\t-\tnice\n",
      "Q4\t20-02-2\traw_08_\t726\t80\t727\t113\t70.91\t3.64\t113\t546.22\t20.36\t0.7776\t0.2148\t0.2813\t-\t-\n",
      "L3\t20-04-1\traw_15_\t737\t80\t740\t67\t24.29\t3.43\t67\t314.72\t12.51\t1.27\t0.3739\t0.4733\t-\tbg nois\n",
      "L3\t20-04-1\traw_08_\t746\t80\t740\t86\t24.14\t3.36\t86\t458.63\t31.20\t1.45\t0.4340\t0.5498\t-\tnice\n",
      "K4\t20-03-1\traw_16_\t653\t60\t647\t35\t27.27\t3.33\t35\t175.70\t5.11\t0.9804\t0.2929\t0.3757\t-\t-\n",
      "Q4\t20-02-2\traw_14_\t732\t40\t727\t54\t15.45\t3.31\t54\t166.75\t9.30\t1.40\t0.4263\t0.5421\t-\t-\n",
      "L3\t20-04-1\traw_05_\t743\t80\t740\t64\t19.23\t3.29\t64\t535.99\t27.79\t1.14\t0.3563\t0.4479\t-\t-\n",
      "L3\t20-04-1\traw_19_\t743\t60\t740\t47\t21.31\t3.18\t47\t499.49\t21.01\t1.02\t0.3228\t0.4105\t-\t-\n",
      "L3\t20-04-1\traw_13_\t739\t80\t740\t121\t45.50\t3.17\t121\t638.04\t21.61\t0.8216\t0.2600\t0.3333\t-\tnice\n",
      "Q4\t20-04-2\traw_19_\t732\t147\t729\t174\t30.26\t3.14\t174\t165.73\t4.06\t0.7723\t0.2471\t0.3175\tps\t-\n",
      "K4\t20-03-1\traw_13_\t651\t60\t647\t77\t33.00\t3.11\t77\t244.28\t7.49\t0.8107\t0.2748\t0.3503\t-\t-\n",
      "L3\t20-04-1\traw_10_\t750\t80\t740\t29\t29.17\t3.09\t29\t223.91\t11.39\t1.46\t0.4712\t0.6019\t-\tbad\n",
      "L3\t20-04-1\traw_20_\t739\t60\t740\t76\t34.13\t3.08\t76\t541.97\t15.79\t0.7639\t0.2494\t0.3158\t-\t-\n",
      "Q4\t20-02-2\traw_09_\t724\t80\t727\t137\t89.81\t3.05\t137\t456.27\t20.65\t1.01\t0.3386\t0.4411\t-\t-\n",
      "L3\t20-04-1\traw_14_\t738\t80\t740\t88\t46.43\t3.04\t88\t487.19\t17.67\t0.9916\t0.3266\t0.4151\t-\t-\n",
      "L3\t20-04-1\traw_18_\t745\t60\t740\t61\t42.86\t2.98\t61\t410.30\t20.13\t1.18\t0.3968\t0.5021\t-\t-\n",
      "L3\t20-04-1\traw_29_\t739\t100\t740\t102\t36.17\t2.96\t102\t369.70\t12.10\t0.7893\t0.2671\t0.3481\t-\tFPs\n",
      "Q4\t20-02-2\traw_06_\t736\t80\t727\t163\t57.34\t2.91\t163\t296.78\t21.79\t1.80\t0.7632\t0.9722\t-\t-\n",
      "K4\t20-03-1\traw_04_\t649\t80\t647\t66\t26.32\t2.91\t66\t287.80\t5.14\t0.4380\t0.1523\t0.1933\t-\t-\n",
      "L3\t20-04-1\traw_06_\t744\t80\t740\t39\t24.50\t2.89\t39\t585.91\t27.43\t1.12\t0.3970\t0.5096\t-\tbubles\n",
      "Q4\t20-04-2\traw_03_\t726\t80\t729\t158\t45.75\t2.88\t158\t675.36\t31.46\t0.8306\t0.2879\t0.3733\t-\t-\n",
      "K4\t20-03-1\traw_14_\t649\t60\t647\t81\t27.78\t2.77\t81\t248.98\t3.96\t0.4313\t0.1585\t0.2014\t-\t-\n",
      "K4\t20-03-1\traw_26_\t651\t100\t647\t71\t19.10\t2.70\t71\t219.83\t6.45\t0.8460\t0.3346\t0.4322\t-\tbg fluc\n",
      "K4\t20-03-1\traw_08_\t660\t80\t647\t45\t25.53\t2.68\t45\t122.31\t3.00\t1.12\t0.4198\t0.5367\t-\tbadly r\n",
      "L3\t20-04-1\traw_36_\t745\t100\t740\t85\t21.16\t2.61\t85\t175.17\t6.70\t1.21\t0.4622\t0.6162\trecog\tnice\n",
      "L3\t20-04-1\traw_04_\t742\t80\t740\t56\t21.43\t2.47\t56\t534.84\t16.30\t0.6762\t0.2772\t0.3531\t-\t-\n",
      "K4\t20-03-1\traw_03_\t647\t80\t647\t55\t15.56\t1.90\t55\t310.92\t3.11\t0.2499\t0.1322\t0.1684\t-\t-\n",
      "---\n",
      "79\n"
     ]
    }
   ],
   "source": [
    "# \n",
    "columns = ' MASTER, DATE, FILE, WAVELENGTH, NP, DIP, COUNT, RATE, CON, COUNT, X*Y, INP, INPPX, IBGPX, STD, EXP_TYPE,  NOTES'\n",
    "data = con.execute(\"\"\"\n",
    "SELECT {}\n",
    "FROM 'masters' as MAS \n",
    "INNER JOIN 'experiments' as EXP \n",
    "ON MAS.ID = EXP.MASTER_ID\n",
    "INNER JOIN 'measurements' as MEAS\n",
    "ON EXP.ID = MEAS.EXPERIMENT_ID\n",
    "ORDER BY CON DESC\n",
    ";\n",
    "   \"\"\".format(columns))\n",
    "\n",
    "head(columns)\n",
    "\n",
    "i=0\n",
    "for row in data:\n",
    "    print(str(to_show(row)).replace(', ', '\\t').replace(\"'\", \"\")[1:-1])\n",
    "    i+=1\n",
    "    \n",
    "    \n",
    "print('---\\n{}'.format(i))"
   ]
  },
  {
   "cell_type": "code",
   "execution_count": 7,
   "metadata": {},
   "outputs": [
    {
     "name": "stdout",
     "output_type": "stream",
     "text": [
      "NP\tWAVELENGTH\tAR_TH\tAR_NOISE\tEXC_THS\tAR_MIN\tAR_COND\texp_type\n",
      "80\t732\t60.0\t0.001\t[2]\t10\t2\t-\n",
      "60\t732\t59.0\t0.001\t[2]\t10\t2\t-\n",
      "60\t732\t46.0\t0.001\t[2]\t10\t2\tsh\n",
      "40\t732\t12.0\t0.001\t[1.1]\t2\t2\t-\n",
      "80\t732\t100.0\t0.001\t[2]\t2\t2\t-\n",
      "60\t732\t20.0\t0.001\t[2]\t2\t2\t-\n",
      "80\t732\t40.0\t0.001\t[2]\t2\t2\tstrep\n",
      "147\t732\t8.0\t0.001\t[2]\t2\t2\tps\n"
     ]
    }
   ],
   "source": [
    "columns = 'NP, WAVELENGTH, AR_TH, AR_NOISE, EXC_THS, AR_MIN, AR_COND, exp_type'\n",
    "data = con.execute(\"\"\"\n",
    "SELECT {} FROM 'measurements'\n",
    "WHERE WAVELENGTH=732\n",
    "ORDER BY WAVELENGTH ASC;\n",
    "   \"\"\".format(columns))\n",
    "\n",
    "print(columns.replace(', ','\\t'))\n",
    "for row in data:\n",
    "    print(str(row).replace(', ', '\\t').replace(\"'\", \"\")[1:-1])"
   ]
  },
  {
   "cell_type": "code",
   "execution_count": 8,
   "metadata": {},
   "outputs": [
    {
     "data": {
      "text/plain": [
       "<sqlite3.Cursor at 0xb09bb7aea0>"
      ]
     },
     "execution_count": 8,
     "metadata": {},
     "output_type": "execute_result"
    }
   ],
   "source": [
    "con.execute(\"\"\"\n",
    "UPDATE 'measurements' SET NOTES = 'weak' WHERE COUNT = 165\n",
    "\"\"\")"
   ]
  },
  {
   "cell_type": "raw",
   "metadata": {},
   "source": [
    "meas.del_row(5)"
   ]
  },
  {
   "cell_type": "code",
   "execution_count": 215,
   "metadata": {},
   "outputs": [],
   "source": [
    "meas.commit()"
   ]
  },
  {
   "cell_type": "code",
   "execution_count": 9,
   "metadata": {},
   "outputs": [],
   "source": [
    "con.close()"
   ]
  },
  {
   "cell_type": "code",
   "execution_count": null,
   "metadata": {},
   "outputs": [],
   "source": []
  }
 ],
 "metadata": {
  "kernelspec": {
   "display_name": "Python 3",
   "language": "python",
   "name": "python3"
  },
  "language_info": {
   "codemirror_mode": {
    "name": "ipython",
    "version": 3
   },
   "file_extension": ".py",
   "mimetype": "text/x-python",
   "name": "python",
   "nbconvert_exporter": "python",
   "pygments_lexer": "ipython3",
   "version": "3.7.4"
  }
 },
 "nbformat": 4,
 "nbformat_minor": 4
}
