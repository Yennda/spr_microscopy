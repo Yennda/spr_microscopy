{
 "cells": [
  {
   "cell_type": "code",
   "execution_count": 1,
   "metadata": {},
   "outputs": [],
   "source": [
    "import numpy as np\n",
    "import matplotlib.pyplot as plt\n",
    "from database_methods import Table, to_show, head, process_data\n",
    "import sqlite3\n",
    "con = sqlite3.connect('database_results.db')\n",
    "cursor = con.cursor()"
   ]
  },
  {
   "cell_type": "code",
   "execution_count": 2,
   "metadata": {},
   "outputs": [],
   "source": [
    "mas = Table(connection=con, name='masters')\n",
    "exp = Table(con, name = 'experiments')\n",
    "meas = Table(con, name = 'measurements')"
   ]
  },
  {
   "cell_type": "code",
   "execution_count": 3,
   "metadata": {},
   "outputs": [
    {
     "name": "stdout",
     "output_type": "stream",
     "text": [
      "CATEGORY, PERIOD, AMPLITUDE, MASTER, FWHM, R, S\n",
      "DATE, MASTER_ID, DIP, FOLDER\n",
      "EXPERIMENT_ID, NP, WAVELENGTH, FILE, AR_TH, AR_DIP, AR_NOISE, EXC_THS, RATE, INFO, COUNT, X, Y, CON, INP, INPPX, IBGPX, STD, stdX, stdY, stdCON, stdINP, stdINPPX, stdIBGPX, stdSTD, NOTES, AR_MIN, AR_COND, EXP_TYPE, OPT\n",
      "--------------------------------------------------------------------------------\n",
      "ID\tCATEGORY\tPERIOD\tAMPLITUDE\tMASTER\tFWHM\tR\tS\n",
      "1\t600\t405\t45\tM5\t23.0\t8.0\t15.9\n",
      "2\t600\t405\t53\tP3\t25.0\t19.7\t3.8\n",
      "3\t650\t452\t32\tK4\t12.5\t11.9\t17.8\n",
      "4\t650\t452\t40\tK5\t15.0\t18.0\t8.8\n",
      "5\t750\t528\t24\tL3\t7.0\t13.8\t78.5\n",
      "6\t750\t526\t30\tQ4\t9.5\t22.0\t30.7\n",
      "ID\tDATE\tMASTER_ID\tDIP\tFOLDER\n",
      "1\t20-02-25\t2\t615\t20_02_25_P3/\n",
      "2\t20-02-26\t6\t727\t20_02_26_Q3/\n",
      "3\t20-03-16\t4\t658\t20_03_16_K5/\n",
      "5\t20-02-25\t1\t598\t20_02_25_M5/\n",
      "6\t20-03-16\t3\t647\t20_03_16_K4/\n",
      "7\t20-04-15\t5\t740\t20_04_15_L3/\n",
      "8\t20-04-14\t1\t606\t20_04_14_M5/\n",
      "9\t20-04-20\t6\t729\t20_04_20_Q4/\n"
     ]
    }
   ],
   "source": [
    "print(mas.columns)\n",
    "print(exp.columns)\n",
    "print(meas.columns)\n",
    "print('-'*80)\n",
    "mas.show_all()\n",
    "exp.show_all()"
   ]
  },
  {
   "cell_type": "raw",
   "metadata": {},
   "source": [
    "con.execute(\"\"\"\n",
    "UPDATE 'masters' SET S = '78.5' WHERE MASTER='L3'\n",
    "\"\"\")"
   ]
  },
  {
   "cell_type": "code",
   "execution_count": 4,
   "metadata": {},
   "outputs": [],
   "source": [
    "con.commit()"
   ]
  },
  {
   "cell_type": "code",
   "execution_count": 5,
   "metadata": {},
   "outputs": [
    {
     "name": "stdout",
     "output_type": "stream",
     "text": [
      "MASTER\tDATE\tS\tAVG(DIP\tAVG(X)\tAVG(Y)\tAVG(CON\tAVG(std\tAVG(std\tAVG(std\tAVG(INP\tAVG(INP\tAVG(INP\tAVG(IBG\n",
      "L3\t20-04-1\t78.50\t740.00\t57.11\t9.82\t3.11\t22.00\t1.35\t0.8999\t19.64\t0.9066\t0.9066\t0.2933\n",
      "Q4\t20-04-2\t30.70\t729.00\t25.58\t9.68\t10.18\t8.12\t1.51\t4.65\t26.32\t2.85\t2.85\t0.2820\n",
      "K5\t20-03-1\t8.80\t658.00\t20.66\t12.63\t5.17\t3.84\t1.57\t2.31\t15.64\t1.44\t1.44\t0.2827\n",
      "K4\t20-03-1\t17.80\t647.00\t18.97\t12.46\t4.27\t2.46\t1.40\t1.36\t9.48\t1.15\t1.15\t0.2686\n",
      "P3\t20-02-2\t3.80\t615.00\t5.38\t6.25\t7.52\t1.42\t1.64\t2.18\t4.90\t1.53\t1.53\t0.2082\n",
      "M5\t20-04-1\t15.90\t606.00\t4.25\t3.72\t5.97\t2.19\t1.58\t1.51\t2.51\t1.41\t1.41\t0.2375\n"
     ]
    }
   ],
   "source": [
    "# \n",
    "columns = 'MASTER, DATE, S, AVG(DIP), AVG(X), AVG(Y), AVG(CON), AVG(stdX), AVG(stdY), AVG(stdCON), AVG(INP), AVG(INPPX), AVG(INPPX), AVG(IBGPX)'\n",
    "data = con.execute(\"\"\"\n",
    "SELECT {}\n",
    "FROM 'masters' as MAS \n",
    "INNER JOIN 'experiments' as EXP \n",
    "ON MAS.ID = EXP.MASTER_ID\n",
    "INNER JOIN 'measurements' as MEAS\n",
    "ON EXP.ID = MEAS.EXPERIMENT_ID\n",
    "WHERE NP = 80 AND OPT = 1\n",
    "GROUP BY MASTER\n",
    "ORDER BY DIP DESC\n",
    ";\n",
    "   \"\"\".format(columns))\n",
    "\n",
    "head(columns)\n",
    "\n",
    "for row in data:\n",
    "    print(str(to_show(row)).replace(', ', '\\t').replace(\"'\", \"\")[1:-1])\n"
   ]
  },
  {
   "cell_type": "code",
   "execution_count": 15,
   "metadata": {},
   "outputs": [
    {
     "name": "stdout",
     "output_type": "stream",
     "text": [
      "NP\tMASTER\tFILE\tWAVELEN\tDIP\tCOUNT\tRATE\tX\tY\tCON\tX*Y\tINP\tstdINP \tIBGPX\tEXP_TYP\tOPT\n",
      "80\tK5\traw_01_\t660\t658\t98\t33.67\t19.46\t12.80\t5.35\t249.06\t12.40\t8.54\t0.2291\t-\t1\n",
      "80\tK5\traw_02_\t658\t658\t116\t39.15\t22.51\t13.03\t4.85\t293.32\t12.93\t8.48\t0.2087\t-\t0\n",
      "80\tK5\traw_03_\t662\t658\t72\t38.24\t22.83\t12.57\t5.27\t287.07\t18.04\t11.15\t0.2858\t-\t1\n",
      "80\tK5\traw_04_\t664\t658\t83\t50.00\t19.70\t12.53\t4.90\t246.85\t16.49\t12.48\t0.3333\t-\t1\n",
      "80\tK5\traw_05_\t666\t658\t78\t42.59\t16.68\t12.10\t6.04\t201.74\t17.09\t10.16\t0.4306\t-\t0\n",
      "80\tK5\traw_06_\t668\t658\t53\t26.25\t16.31\t12.94\t6.47\t210.97\t22.46\t15.32\t0.4679\t-\t0\n",
      "80\tK5\traw_07_\t670\t658\t92\t39.07\t16.21\t13.12\t5.94\t212.70\t21.37\t14.84\t0.5083\t-\t0\n",
      "80\tK5\traw_09_\t656\t658\t77\t36.97\t17.39\t13.01\t5.93\t226.31\t11.65\t7.99\t0.2214\t-\t0\n",
      "80\tK5\traw_10_\t654\t658\t82\t51.58\t19.65\t13.22\t5.05\t259.82\t13.51\t7.65\t0.2727\t-\t0\n",
      "80\tK5\traw_11_\t650\t658\t52\t30.16\t23.50\t13.97\t3.91\t328.33\t16.52\t8.42\t0.3064\t-\t0\n",
      "60\tK5\traw_13_\t660\t658\t46\t21.05\t16.75\t12.42\t5.82\t208.07\t12.01\t7.96\t0.3303\t-\t1\n",
      "60\tK5\traw_14_\t658\t658\t59\t25.00\t18.03\t13.11\t5.26\t236.34\t11.28\t7.93\t0.2613\t-\t0\n",
      "60\tK5\traw_15_\t664\t658\t45\t19.40\t15.82\t13.54\t5.60\t214.28\t10.76\t6.41\t0.2447\t-\t1\n",
      "60\tK5\traw_17_\t662\t658\t57\t33.33\t18.35\t13.11\t5.89\t240.54\t15.70\t10.47\t0.3067\t-\t1\n",
      "60\tK5\traw_18_\t656\t658\t33\t16.67\t16.16\t13.58\t5.37\t219.52\t9.60\t6.25\t0.2106\t-\t0\n",
      "---\n",
      "15\n"
     ]
    }
   ],
   "source": [
    "# \n",
    "columns = 'NP, MASTER, FILE, WAVELENGTH, DIP, COUNT, RATE, X, Y, CON, X*Y, INP, stdINP INPPX, IBGPX, EXP_TYPE, OPT'\n",
    "data = con.execute(\"\"\"\n",
    "SELECT {}\n",
    "FROM 'masters' as MAS \n",
    "INNER JOIN 'experiments' as EXP \n",
    "ON MAS.ID = EXP.MASTER_ID\n",
    "INNER JOIN 'measurements' as MEAS\n",
    "ON EXP.ID = MEAS.EXPERIMENT_ID\n",
    "WHERE MASTER='K5'\n",
    "ORDER BY MASTER DESC\n",
    ";\n",
    "   \"\"\".format(columns))\n",
    "\n",
    "head(columns)\n",
    "\n",
    "i=0\n",
    "for row in data:\n",
    "    print(str(to_show(row)).replace(', ', '\\t').replace(\"'\", \"\")[1:-1])\n",
    "    i+=1\n",
    "    \n",
    "    \n",
    "print('---\\n{}'.format(i))"
   ]
  },
  {
   "cell_type": "code",
   "execution_count": 3,
   "metadata": {},
   "outputs": [],
   "source": [
    "def spr_spectrum(folder, what = 'q'):\n",
    "    main_folder='C:/SPRUP_data_Jenda/2019_03_13_Jenda_microscopy/'\n",
    "    with open(main_folder + folder+'spectra_{}.txt'.format(what)) as f:\n",
    "        infolist = f.read()\n",
    "        info = []\n",
    "    for i in infolist.split('\\n')[:-1]:\n",
    "        info.append([float(j) for j in i.split('\\t')])\n",
    "    intensity = [] \n",
    "    wlength = []\n",
    "    for row in info:\n",
    "        wlength.append(row[4])\n",
    "        intensity.append(row[5])\n",
    "    return wlength, intensity\n",
    "\n",
    "def load_sql(sql_data, columns):\n",
    "    col = columns.split(', ')\n",
    "\n",
    "    data = dict()\n",
    "    for c in col:\n",
    "        data[c] = []\n",
    "\n",
    "    for row in sql_data:\n",
    "        i = 0\n",
    "        for r in row:\n",
    "            data[col[i]].append(r)\n",
    "            i+=1\n",
    "    return data\n",
    "\n",
    "def add_spr(axesspr, name):\n",
    "    wlength, intensity = spr_spectrum(name)\n",
    "    wlength_pbs, intensity_pbs = spr_spectrum(name, 'pbs')\n",
    "    axessen = axesspr.twinx()\n",
    "    \n",
    "    if len(intensity) > len(intensity_pbs): length = len(intensity_pbs)\n",
    "    else: length = len(intensity)\n",
    "        \n",
    "    sensitivity = [(intensity_pbs[i] - intensity[i])/0.005 for i in range(length )]\n",
    "    \n",
    "    for tick in axesspr.get_yticklines():\n",
    "        tick.set_visible(False)\n",
    "\n",
    "    for tick in axesspr.get_yticklabels():\n",
    "        tick.set_visible(False)\n",
    "        \n",
    "    for tick in axessen.get_yticklines():\n",
    "        tick.set_visible(False)\n",
    "\n",
    "    for tick in axessen.get_yticklabels():\n",
    "        tick.set_visible(False)\n",
    "        \n",
    "    axessen.plot(wlength, intensity, linewidth=2, color=gray, label='spectrum', ls = ':')  \n",
    "    \n",
    "    axesspr.plot(wlength_pbs, sensitivity, color=red, label='sensitivity', ls = ':')  \n",
    "    \n",
    "def data_about_master(master):\n",
    "    columns = 'MASTER, WAVELENGTH, CON, INP, IBGPX, INPPX, RATE, COUNT'\n",
    "    sql_data = con.execute(\"\"\"\n",
    "    SELECT {}\n",
    "    FROM 'masters' as MAS \n",
    "    INNER JOIN 'experiments' as EXP \n",
    "    ON MAS.ID = EXP.MASTER_ID\n",
    "    INNER JOIN 'measurements' as MEAS\n",
    "    ON EXP.ID = MEAS.EXPERIMENT_ID\n",
    "    WHERE MASTER = '{}' AND EXP_TYPE='-' AND NP=80 AND DATE IS NOT '20-04-20' \n",
    "    ORDER BY WAVELENGTH ASC\n",
    "    ;\n",
    "       \"\"\".format(columns, master))\n",
    "    \n",
    "    sql_folder = con.execute(\"\"\"\n",
    "    SELECT FOLDER\n",
    "    FROM 'masters' as MAS \n",
    "    INNER JOIN 'experiments' as EXP \n",
    "    ON MAS.ID = EXP.MASTER_ID\n",
    "    WHERE MASTER = '{}';\n",
    "       \"\"\".format(master))\n",
    "    \n",
    "    return load_sql(sql_data, columns), [s[0] for s in sql_folder][0]\n",
    "\n",
    "def plot_spectrum(data, folder):\n",
    "    fig, axes = plt.subplots()  \n",
    "#     axes.set_title('SPECTRUM')\n",
    "    axes.set_title('(a)')\n",
    "    axes.set_xlabel('$\\lambda$ [nm]')\n",
    "    axes.set_ylabel('R')\n",
    "    axessen = axes.twinx()\n",
    "    axessen.set_ylabel('Sensitivity [RIU$^{-1}$]')\n",
    "#     axes.grid(linestyle='--')\n",
    "    \n",
    "    wlength, intensity = spr_spectrum(folder)\n",
    "    wlength_pbs, intensity_pbs = spr_spectrum(folder, 'pbs')\n",
    "    \n",
    "    if len(intensity) > len(intensity_pbs): length = len(intensity_pbs)\n",
    "    else: length = len(intensity)\n",
    "        \n",
    "    sensitivity = [(intensity_pbs[i] - intensity[i])/0.005 for i in range(length )]\n",
    "    \n",
    "        \n",
    "    axes.plot(wlength, intensity, linewidth=2, color=gray, label='spectrum')  \n",
    "    axessen.plot(wlength_pbs, sensitivity, color=red, label='sensitivity') \n",
    "    \n",
    "    lgd = fig.legend(loc='center left', bbox_to_anchor=(1.2, 0.5))\n",
    "#     fig.legend(loc=3, bbox_to_anchor=(0.15, 0.2, 1, 1))\n",
    "#     fig.savefig(folder_save + 'plot_spectrum_'+ data['MASTER'][0] +'.png', dpi=300, bbox_inches='tight') \n",
    "    fig.savefig(folder_save + 'plot_spectrum_'+ data['MASTER'][0] +'.png', dpi=300, bbox_extra_artists=(lgd,), bbox_inches='tight')    \n",
    "    \n",
    "def plot_contrast(data, folder):\n",
    "    fig, axes = plt.subplots()  \n",
    "#     axes.set_title('CONTRAST')\n",
    "    axes.set_title('(b)')\n",
    "    axes.set_xlabel('$\\lambda$ [nm]')\n",
    "    axes.set_ylabel('bg intensity [a.u.]')\n",
    "\n",
    "    axes_ii=axes.twinx()\n",
    "#     axes.grid(linestyle='--', axis = 'x')\n",
    "    axes_ii.set_ylabel('NP contrast [a.u.]')\n",
    "#     axes_ii.grid(linestyle='--', axis = 'y')\n",
    "    \n",
    "    axes_ii.plot(data['WAVELENGTH'], data['CON'], linewidth=2, color=red, label='contrast') \n",
    "    axes_ii.set_ylim(0, max( data['CON'])*1.1)\n",
    "    axes.plot(data['WAVELENGTH'], data['IBGPX'], linewidth=2, color=black, label='background int.')\n",
    "\n",
    "    add_spr(axes.twinx(), folder)\n",
    "    lgd = fig.legend(loc='center left', bbox_to_anchor=(1.1, 0.5))\n",
    "    fig.savefig(folder_save + 'plot_contrast_'+ data['MASTER'][0] +'.png', dpi=300, bbox_extra_artists=(lgd,), bbox_inches='tight')    \n",
    "    \n",
    "def plot_npi(data, folder):\n",
    "    fig, axes = plt.subplots()\n",
    "#     axes.set_title('NP intensity')\n",
    "    axes.set_title('(c)')\n",
    "    axes.set_xlabel('$\\lambda$ [nm]')\n",
    "    axes.set_ylabel('NP intensity per')\n",
    "    axes_ii=axes.twinx()\n",
    "#     axes.grid(linestyle='--', axis = 'x')\n",
    "    axes_ii.set_ylabel('NP intensity per px[a.u.]')\n",
    "#     axes_ii.grid(linestyle='--', axis = 'y')\n",
    "\n",
    "    axes_ii.plot(data['WAVELENGTH'], data['INP'], linewidth=2, color=yellow, label='NP intensity per px')\n",
    "    axes_ii.set_ylim(0, max( data['INP'])*1.1)\n",
    "    axes.plot(data['WAVELENGTH'], data['INPPX'], linewidth=2, color=blue, label='intensity of NP')\n",
    "    axes.set_ylim(0, max( data['INPPX'])*1.1)\n",
    "    \n",
    "    add_spr(axes.twinx(), folder)\n",
    "    lgd = fig.legend(loc='center left', bbox_to_anchor=(1.1, 0.5))\n",
    "    fig.savefig(folder_save + 'plot_intensity_'+ data['MASTER'][0] +'.png', dpi=300, bbox_extra_artists=(lgd,), bbox_inches='tight')    \n",
    "    \n",
    "def plot_rate(data, folder):\n",
    "    fig, axes = plt.subplots()\n",
    "    axes.set_title('(d)')\n",
    "#     axes.set_title('NP binding rate & count')\n",
    "    axes.set_xlabel('$\\lambda$ [nm]')\n",
    "    axes.set_ylabel('total count')\n",
    "    axes_ii=axes.twinx()\n",
    "\n",
    "    \n",
    "#     axes.grid(linestyle='--', axis = 'x')    \n",
    "    axes_ii.set_ylabel('binding rate [#/100f]')\n",
    "#     axes_ii.grid(linestyle='--', axis = 'y')\n",
    "\n",
    "    axes_ii.plot(data['WAVELENGTH'], data['RATE'], linewidth=2, color=green, label='rate')    \n",
    "    axes.plot(data['WAVELENGTH'], data['COUNT'], linewidth=2, color=purple, label='count')\n",
    "    axes_ii.set_ylim(0, max( data['RATE'])*1.1)\n",
    "    axes.set_ylim(0, max( data['COUNT'])*1.1)\n",
    "    \n",
    "    add_spr(axes.twinx(), folder)\n",
    "    lgd = fig.legend(loc='center left', bbox_to_anchor=(1.1, 0.5))\n",
    "    \n",
    "    fig.savefig(folder_save + 'plot_binding_rate_'+ data['MASTER'][0] +'.png', dpi=300, bbox_extra_artists=(lgd,), bbox_inches='tight')    \n",
    "    \n",
    "def plot_for_thesis(data, folder):\n",
    "    fig, axes = plt.subplots()\n",
    "    axes.set_title(data['MASTER'][0])\n",
    "    axes.set_xlabel('$\\lambda$ [nm]')\n",
    "    axes.set_ylabel('contrast')\n",
    "    axes_ii=axes.twinx()\n",
    "\n",
    "    \n",
    "#     axes.grid(linestyle='--', axis = 'x')    \n",
    "    axes_ii.set_ylabel('binding rate [#/100f]')\n",
    "                 \n",
    "#     axes_ii.grid(linestyle='--', axis = 'y')\n",
    "\n",
    "    axes_ii.plot(data['WAVELENGTH'], data['RATE'], linewidth=2, color=green, label='binding rate')    \n",
    "    axes.plot(data['WAVELENGTH'], data['CON'], linewidth=2, color=red, label='contrast')\n",
    "    \n",
    "    axes_ii.set_ylim(0, max( data['RATE'])*1.1)\n",
    "    axes.set_ylim(0, max( data['CON'])*1.1)\n",
    "    \n",
    "    add_spr(axes.twinx(), folder)\n",
    "#     lgd = fig.legend(loc='center left', bbox_to_anchor=(1.1, 0.5))\n",
    "\n",
    "#     fig.savefig(folder_save + 'plot_characterization_'+ data['MASTER'][0] +'.png', dpi=300, bbox_extra_artists=(lgd,), bbox_inches='tight')\n",
    "    fig.savefig(folder_save + 'plot_characterization_new_'+ data['MASTER'][0] +'.png', dpi=300, bbox_inches='tight')    "
   ]
  },
  {
   "cell_type": "code",
   "execution_count": 54,
   "metadata": {},
   "outputs": [
    {
     "name": "stdout",
     "output_type": "stream",
     "text": [
      "NP\tFILE\tX\tY\tCON\tX*Y\tINP\tstdINP \tIBGPX\tEXP_TYP\n",
      "80\traw_10_\t5.06\t5.98\t7.86\t30.26\t4.53\t2.27\t0.1912\t-\n",
      "80\traw_29_\t5.11\t6.36\t8.16\t32.51\t4.91\t2.18\t0.2032\tsh\n",
      "80\traw_32_\t5.11\t6.11\t7.43\t31.24\t4.54\t2.02\t0.2021\tstrep\n",
      "---\n",
      "3\n"
     ]
    }
   ],
   "source": [
    "# \n",
    "columns = 'NP, FILE, X, Y, CON, X*Y, INP, stdINP INPPX, IBGPX, EXP_TYPE'\n",
    "data = con.execute(\"\"\"\n",
    "SELECT {}\n",
    "FROM 'masters' as MAS \n",
    "INNER JOIN 'experiments' as EXP \n",
    "ON MAS.ID = EXP.MASTER_ID\n",
    "INNER JOIN 'measurements' as MEAS\n",
    "ON EXP.ID = MEAS.EXPERIMENT_ID\n",
    "WHERE MASTER = 'P3' AND WAVELENGTH = 612 AND NP = 80\n",
    "\n",
    "ORDER BY NP DESC\n",
    ";\n",
    "   \"\"\".format(columns))\n",
    "\n",
    "head(columns)\n",
    "\n",
    "i=0\n",
    "for row in data:\n",
    "    print(str(to_show(row)).replace(', ', '\\t').replace(\"'\", \"\")[1:-1])\n",
    "    i+=1\n",
    "    \n",
    "    \n",
    "print('---\\n{}'.format(i))"
   ]
  },
  {
   "cell_type": "code",
   "execution_count": 30,
   "metadata": {},
   "outputs": [
    {
     "name": "stdout",
     "output_type": "stream",
     "text": [
      "MEAS.ID\tMASTER\tNP\tWAVELEN\tFOLDER\tFILE\tRATE\tX\tY\tCON\tX*Y\tINP\tstdINP \tIBGPX\tEXP_TYP\tOPT\n",
      "50\tP3\t80\t612\t20_02_2\traw_32_\t168.45\t5.11\t6.11\t7.43\t31.24\t4.54\t2.02\t0.2021\tstrep\t1\n",
      "36\tP3\t80\t612\t20_02_2\traw_10_\t46.43\t5.06\t5.98\t7.86\t30.26\t4.53\t2.27\t0.1912\t-\t1\n",
      "44\tP3\t80\t610\t20_02_2\traw_11_\t42.78\t6.25\t6.53\t6.63\t40.83\t5.63\t2.33\t0.2363\t-\t1\n",
      "49\tP3\t80\t612\t20_02_2\traw_29_\t30.00\t5.11\t6.36\t8.16\t32.51\t4.91\t2.18\t0.2032\tsh\t1\n",
      "---\n",
      "4\n"
     ]
    }
   ],
   "source": [
    "# \n",
    "columns = 'MEAS.ID, MASTER, NP, WAVELENGTH, FOLDER, FILE, RATE, X, Y, CON, X*Y, INP, stdINP INPPX, IBGPX, EXP_TYPE, OPT'\n",
    "data = con.execute(\"\"\"\n",
    "SELECT {}\n",
    "FROM 'masters' as MAS \n",
    "INNER JOIN 'experiments' as EXP \n",
    "ON MAS.ID = EXP.MASTER_ID\n",
    "INNER JOIN 'measurements' as MEAS\n",
    "ON EXP.ID = MEAS.EXPERIMENT_ID\n",
    "WHERE MASTER = 'P3' AND NP=80 AND OPT=1\n",
    "ORDER BY RATE DESC\n",
    ";\n",
    "   \"\"\".format(columns))\n",
    "\n",
    "head(columns)\n",
    "\n",
    "i=0\n",
    "for row in data:\n",
    "    print(str(to_show(row)).replace(', ', '\\t').replace(\"'\", \"\")[1:-1])\n",
    "    i+=1\n",
    "    \n",
    "    \n",
    "print('---\\n{}'.format(i))"
   ]
  },
  {
   "cell_type": "raw",
   "metadata": {},
   "source": [
    "con.execute(\"\"\"\n",
    "UPDATE 'measurements' SET OPT = 1 WHERE (WAVELENGTH = 628 OR WAVELENGTH = 624 OR WAVELENGTH = 622) AND EXPERIMENT_ID = 8\n",
    "\"\"\")"
   ]
  },
  {
   "cell_type": "code",
   "execution_count": 66,
   "metadata": {},
   "outputs": [
    {
     "name": "stdout",
     "output_type": "stream",
     "text": [
      "ID\tDATE\tMASTER_ID\tDIP\tFOLDER\n",
      "1\t20-02-25\t2\t615\t20_02_25_P3/\n",
      "2\t20-02-26\t6\t727\t20_02_26_Q3/\n",
      "3\t20-03-16\t4\t658\t20_03_16_K5/\n",
      "5\t20-02-25\t1\t598\t20_02_25_M5/\n",
      "6\t20-03-16\t3\t647\t20_03_16_K4/\n",
      "7\t20-04-15\t5\t740\t20_04_15_L3/\n",
      "8\t20-04-14\t1\t606\t20_04_14_M5/\n",
      "9\t20-04-20\t6\t729\t20_04_20_Q4/\n"
     ]
    }
   ],
   "source": [
    "exp.show_all()"
   ]
  },
  {
   "cell_type": "code",
   "execution_count": 96,
   "metadata": {},
   "outputs": [],
   "source": [
    "con.commit()"
   ]
  },
  {
   "cell_type": "code",
   "execution_count": 12,
   "metadata": {},
   "outputs": [],
   "source": [
    "folder = '20_04_20_Q4/'\n",
    "file = 'raw_17_1'\n",
    "\n",
    "columns = 'COUNT(MEAS.ID), MEAS.ID'\n",
    "data = con.execute(\"\"\"\n",
    "SELECT {}\n",
    "FROM 'masters' as MAS \n",
    "INNER JOIN 'experiments' as EXP \n",
    "ON MAS.ID = EXP.MASTER_ID\n",
    "INNER JOIN 'measurements' as MEAS\n",
    "ON EXP.ID = MEAS.EXPERIMENT_ID \n",
    "WHERE FOLDER = '{}' AND FILE = '{}'\n",
    ";\n",
    "   \"\"\".format(columns, folder, file)\n",
    "                  )"
   ]
  },
  {
   "cell_type": "code",
   "execution_count": 26,
   "metadata": {},
   "outputs": [
    {
     "data": {
      "text/plain": [
       "(3, 79)"
      ]
     },
     "execution_count": 26,
     "metadata": {},
     "output_type": "execute_result"
    }
   ],
   "source": [
    "[d for d in data][0]"
   ]
  },
  {
   "cell_type": "code",
   "execution_count": 20,
   "metadata": {},
   "outputs": [],
   "source": [
    "b"
   ]
  },
  {
   "cell_type": "code",
   "execution_count": 28,
   "metadata": {},
   "outputs": [
    {
     "name": "stdout",
     "output_type": "stream",
     "text": [
      "NP\tWAVELENGTH\tAR_TH\tAR_NOISE\tEXC_THS\tAR_MIN\tAR_COND\texp_type\n",
      "80\t732\t60.0\t0.001\t[2]\t10\t2\t-\n",
      "60\t732\t59.0\t0.001\t[2]\t10\t2\t-\n",
      "60\t732\t46.0\t0.001\t[2]\t10\t2\tsh\n",
      "40\t732\t12.0\t0.001\t[1.1]\t2\t2\t-\n",
      "80\t732\t100.0\t0.001\t[2]\t2\t2\t-\n",
      "60\t732\t20.0\t0.001\t[2]\t2\t2\t-\n",
      "80\t732\t40.0\t0.001\t[2]\t2\t2\tstrep\n",
      "147\t732\t8.0\t0.001\t[2]\t2\t2\tps\n",
      "40\t732\t9.0\t0.001\t[2]\t6\t2\t-\n",
      "80\t732\t31.0\t0.001\t[2]\t6\t2\tsh\n"
     ]
    }
   ],
   "source": [
    "columns = 'NP, WAVELENGTH, AR_TH, AR_NOISE, EXC_THS, AR_MIN, AR_COND, exp_type'\n",
    "data = con.execute(\"\"\"\n",
    "SELECT {} FROM 'measurements'\n",
    "WHERE WAVELENGTH=732\n",
    "ORDER BY WAVELENGTH ASC;\n",
    "   \"\"\".format(columns))\n",
    "\n",
    "print(columns.replace(', ','\\t'))\n",
    "for row in data:\n",
    "    print(str(row).replace(', ', '\\t').replace(\"'\", \"\")[1:-1])"
   ]
  },
  {
   "cell_type": "raw",
   "metadata": {},
   "source": [
    "meas.del_row(5)"
   ]
  },
  {
   "cell_type": "code",
   "execution_count": 59,
   "metadata": {},
   "outputs": [],
   "source": [
    "con.commit()"
   ]
  },
  {
   "cell_type": "code",
   "execution_count": 51,
   "metadata": {},
   "outputs": [],
   "source": [
    "con.close()"
   ]
  },
  {
   "cell_type": "code",
   "execution_count": null,
   "metadata": {},
   "outputs": [],
   "source": []
  }
 ],
 "metadata": {
  "kernelspec": {
   "display_name": "Python 3",
   "language": "python",
   "name": "python3"
  },
  "language_info": {
   "codemirror_mode": {
    "name": "ipython",
    "version": 3
   },
   "file_extension": ".py",
   "mimetype": "text/x-python",
   "name": "python",
   "nbconvert_exporter": "python",
   "pygments_lexer": "ipython3",
   "version": "3.7.4"
  }
 },
 "nbformat": 4,
 "nbformat_minor": 4
}
