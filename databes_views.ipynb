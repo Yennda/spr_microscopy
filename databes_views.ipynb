{
 "cells": [
  {
   "cell_type": "code",
   "execution_count": 1,
   "metadata": {},
   "outputs": [],
   "source": [
    "            import numpy as np\n",
    "            import matplotlib.pyplot as plt\n",
    "            from database_methods import Table, to_show, head\n",
    "            import sqlite3\n",
    "            con = sqlite3.connect('database_results.db')\n",
    "            cursor = con.cursor()"
   ]
  },
  {
   "cell_type": "code",
   "execution_count": 29,
   "metadata": {},
   "outputs": [],
   "source": [
    "mas = Table(connection=con, name='masters')\n",
    "exp = Table(con, name = 'experiments')\n",
    "meas = Table(con, name = 'measurements')"
   ]
  },
  {
   "cell_type": "code",
   "execution_count": 166,
   "metadata": {},
   "outputs": [
    {
     "name": "stdout",
     "output_type": "stream",
     "text": [
      "CATEGORY, PERIOD, AMPLITUDE, MASTER\n",
      "DATE, MASTER_ID, DIP, FOLDER\n",
      "EXPERIMENT_ID, NP, WAVELENGTH, FILE, AR_TH, AR_DIP, AR_NOISE, EXC_THS, RATE, INFO, COUNT, X, Y, CON, INP, INPPX, IBGPX, STD, stdX, stdY, stdCON, stdINP, stdINPPX, stdIBGPX, stdSTD, NOTES, AR_MIN, AR_COND, EXP_TYPE\n",
      "--------------------------------------------------------------------------------\n",
      "ID\tCATEGORY\tPERIOD\tAMPLITUDE\tMASTER\n",
      "1\t600\t405\t45\tM5\n",
      "2\t600\t405\t53\tP3\n",
      "3\t650\t452\t32\tK4\n",
      "4\t650\t452\t40\tK5\n",
      "5\t750\t528\t24\tL3\n",
      "6\t750\t526\t30\tQ4\n",
      "ID\tDATE\tMASTER_ID\tDIP\tFOLDER\n",
      "1\t20-02-25\t2\t615\t20_02_25_P3/\n",
      "2\t20-02-26\t6\t727\t20_02_26_Q3/\n",
      "3\t20-03-16\t4\t658\t20_03_16_K5/\n",
      "4\t20-02-26\t5\t741\t20_02_26_L3/\n",
      "5\t20-02-25\t1\t598\t20_02_25_M5/\n",
      "6\t20-03-16\t3\t647\t20_03_16_K4/\n",
      "7\t20-04-15\t5\t740\t20_04_15_L3/\n"
     ]
    }
   ],
   "source": [
    "print(mas.columns)\n",
    "print(exp.columns)\n",
    "print(meas.columns)\n",
    "print('-'*80)\n",
    "mas.show_all()\n",
    "exp.show_all()"
   ]
  },
  {
   "cell_type": "code",
   "execution_count": 147,
   "metadata": {},
   "outputs": [
    {
     "name": "stdout",
     "output_type": "stream",
     "text": [
      "MASTER\t AVG(DI\tAVG(INP\tAVG(INP\tAVG(CON\tAVG(INP\tAVG(IBG\n",
      "Q4\t727.00\t27.87\t62.55\t3.87\t1.77\t0.4825\n",
      "K5\t658.00\t14.79\t48.99\t5.44\t1.64\t0.3078\n",
      "P3\t615.00\t5.25\t20.50\t7.27\t1.81\t0.2621\n"
     ]
    }
   ],
   "source": [
    "# \n",
    "columns = 'MASTER,  AVG(DIP), AVG(INP), AVG(INP/IBGPX), AVG(CON), AVG(INPPX), AVG(IBGPX)'\n",
    "data = con.execute(\"\"\"\n",
    "SELECT {}\n",
    "FROM 'masters' as MAS \n",
    "INNER JOIN 'experiments' as EXP \n",
    "ON MAS.ID = EXP.MASTER_ID\n",
    "INNER JOIN 'measurements' as MEAS\n",
    "ON EXP.ID = MEAS.EXPERIMENT_ID\n",
    "WHERE MASTER !='K4'\n",
    "GROUP BY MASTER\n",
    "ORDER BY DIP DESC\n",
    ";\n",
    "   \"\"\".format(columns))\n",
    "\n",
    "head(columns)\n",
    "\n",
    "for row in data:\n",
    "    print(str(to_show(row)).replace(', ', '\\t').replace(\"'\", \"\")[1:-1])\n"
   ]
  },
  {
   "cell_type": "code",
   "execution_count": 224,
   "metadata": {},
   "outputs": [
    {
     "name": "stdout",
     "output_type": "stream",
     "text": [
      " MASTER\tFILE\tWAVELEN\tNP\tDIP\tCOUNT\tRATE\tCON\tCOUNT\tINP\tIBGPX\tSTD\tEXP_TYP\t NOTES\n",
      "Q4\traw_05_\t734\t80\t727\t169\t70.29\t5.38\t169\t36.50\t0.5129\t0.6644\t-\t-\n",
      "Q4\traw_04_\t732\t80\t727\t206\t85.33\t4.42\t206\t46.00\t0.5202\t0.6898\t-\t-\n",
      "L3\traw_31_\t743\t100\t740\t54\t14.52\t4.37\t54\t13.20\t0.3453\t0.4741\t-\t-\n",
      "Q4\traw_18_\t732\t60\t727\t166\t97.04\t3.97\t166\t31.03\t0.5038\t0.6527\t-\t-\n",
      "L3\traw_11_\t741\t80\t740\t80\t31.72\t3.92\t80\t7.49\t0.2188\t0.2834\t-\tFPs\n",
      "L3\traw_09_\t748\t80\t740\t67\t24.06\t3.91\t67\t22.18\t0.4542\t0.5750\t-\t-\n",
      "Q4\traw_21_\t732\t60\t727\t234\t96.97\t3.82\t234\t30.71\t0.4713\t0.6189\tsh\t-\n",
      "Q4\traw_07_\t740\t80\t727\t128\t59.20\t3.75\t128\t15.91\t0.5354\t0.6807\t-\t-\n",
      "L3\traw_30_\t745\t100\t740\t74\t23.77\t3.75\t74\t14.86\t0.4289\t0.5891\t-\tFPs\tbe\n",
      "L3\traw_12_\t740\t80\t740\t83\t36.96\t3.70\t83\t19.31\t0.1997\t0.2547\t-\tnice\n",
      "L3\traw_07_\t745\t80\t740\t94\t29.50\t3.66\t94\t33.34\t0.4178\t0.5305\t-\tnice\n",
      "Q4\traw_08_\t726\t80\t727\t113\t70.91\t3.64\t113\t20.36\t0.2148\t0.2813\t-\t-\n",
      "L3\traw_15_\t737\t80\t740\t67\t24.29\t3.43\t67\t12.51\t0.3739\t0.4733\t-\tbg nois\n",
      "L3\traw_08_\t746\t80\t740\t86\t24.14\t3.36\t86\t31.20\t0.4340\t0.5498\t-\tnice\n",
      "L3\traw_05_\t743\t80\t740\t64\t19.23\t3.29\t64\t27.79\t0.3563\t0.4479\t-\t-\n",
      "L3\traw_19_\t743\t60\t740\t47\t21.31\t3.18\t47\t21.01\t0.3228\t0.4105\t-\t-\n",
      "L3\traw_13_\t739\t80\t740\t121\t45.50\t3.17\t121\t21.61\t0.2600\t0.3333\t-\tnice\n",
      "L3\traw_10_\t750\t80\t740\t29\t29.17\t3.09\t29\t11.39\t0.4712\t0.6019\t-\tbad\n",
      "L3\traw_20_\t739\t60\t740\t76\t34.13\t3.08\t76\t15.79\t0.2494\t0.3158\t-\t-\n",
      "Q4\traw_09_\t724\t80\t727\t137\t89.81\t3.05\t137\t20.65\t0.3386\t0.4411\t-\t-\n",
      "L3\traw_14_\t738\t80\t740\t88\t46.43\t3.04\t88\t17.67\t0.3266\t0.4151\t-\t-\n",
      "L3\traw_18_\t745\t60\t740\t61\t42.86\t2.98\t61\t20.13\t0.3968\t0.5021\t-\t-\n",
      "L3\traw_29_\t739\t100\t740\t102\t36.17\t2.96\t102\t12.10\t0.2671\t0.3481\t-\tFPs\n",
      "Q4\traw_06_\t736\t80\t727\t163\t57.34\t2.91\t163\t21.79\t0.7632\t0.9722\t-\t-\n",
      "L3\traw_06_\t744\t80\t740\t39\t24.50\t2.89\t39\t27.43\t0.3970\t0.5096\t-\tbubles\n",
      "L3\traw_36_\t745\t100\t740\t85\t21.16\t2.61\t85\t6.70\t0.4622\t0.6162\trecog\tnice\n",
      "L3\traw_04_\t742\t80\t740\t56\t21.43\t2.47\t56\t16.30\t0.2772\t0.3531\t-\t-\n",
      "---\n",
      "27\n"
     ]
    }
   ],
   "source": [
    "# \n",
    "columns = ' MASTER, FILE, WAVELENGTH, NP, DIP, COUNT, RATE, CON, COUNT, INP, IBGPX, STD, EXP_TYPE,  NOTES'\n",
    "data = con.execute(\"\"\"\n",
    "SELECT {}\n",
    "FROM 'masters' as MAS \n",
    "INNER JOIN 'experiments' as EXP \n",
    "ON MAS.ID = EXP.MASTER_ID\n",
    "INNER JOIN 'measurements' as MEAS\n",
    "ON EXP.ID = MEAS.EXPERIMENT_ID\n",
    "WHERE CATEGORY = 750\n",
    "ORDER BY CON DESC\n",
    ";\n",
    "   \"\"\".format(columns))\n",
    "\n",
    "head(columns)\n",
    "\n",
    "i=0\n",
    "for row in data:\n",
    "    print(str(to_show(row)).replace(', ', '\\t').replace(\"'\", \"\")[1:-1])\n",
    "    i+=1\n",
    "    \n",
    "    \n",
    "print('---\\n{}'.format(i))"
   ]
  },
  {
   "cell_type": "code",
   "execution_count": 220,
   "metadata": {},
   "outputs": [
    {
     "name": "stdout",
     "output_type": "stream",
     "text": [
      "NP\tWAVELENGTH\tAR_TH\tAR_NOISE\tEXC_THS\n",
      "80\t622\t3.0\t0.0014\t[4\t0\t1.1]\n",
      "80\t622\t2.5\t0.001\t[2]\n"
     ]
    }
   ],
   "source": [
    "columns = 'NP, WAVELENGTH, AR_TH, AR_NOISE, EXC_THS'\n",
    "data = con.execute(\"\"\"\n",
    "SELECT {} FROM 'measurements'\n",
    "WHERE WAVELENGTH=622\n",
    "ORDER BY WAVELENGTH ASC;\n",
    "   \"\"\".format(columns))\n",
    "\n",
    "print(columns.replace(', ','\\t'))\n",
    "for row in data:\n",
    "    print(str(row).replace(', ', '\\t').replace(\"'\", \"\")[1:-1])"
   ]
  },
  {
   "cell_type": "code",
   "execution_count": 213,
   "metadata": {},
   "outputs": [
    {
     "data": {
      "text/plain": [
       "<sqlite3.Cursor at 0x3bdcc85030>"
      ]
     },
     "execution_count": 213,
     "metadata": {},
     "output_type": "execute_result"
    }
   ],
   "source": [
    "con.execute(\"\"\"\n",
    "UPDATE 'measurements' SET NOTES = 'weak' WHERE COUNT = 165\n",
    "\"\"\")"
   ]
  },
  {
   "cell_type": "raw",
   "metadata": {},
   "source": [
    "meas.del_row(5)"
   ]
  },
  {
   "cell_type": "code",
   "execution_count": 215,
   "metadata": {},
   "outputs": [],
   "source": [
    "meas.commit()"
   ]
  },
  {
   "cell_type": "code",
   "execution_count": 9,
   "metadata": {},
   "outputs": [],
   "source": [
    "con.close()"
   ]
  },
  {
   "cell_type": "code",
   "execution_count": null,
   "metadata": {},
   "outputs": [],
   "source": []
  }
 ],
 "metadata": {
  "kernelspec": {
   "display_name": "Python 3",
   "language": "python",
   "name": "python3"
  },
  "language_info": {
   "codemirror_mode": {
    "name": "ipython",
    "version": 3
   },
   "file_extension": ".py",
   "mimetype": "text/x-python",
   "name": "python",
   "nbconvert_exporter": "python",
   "pygments_lexer": "ipython3",
   "version": "3.7.4"
  }
 },
 "nbformat": 4,
 "nbformat_minor": 4
}
