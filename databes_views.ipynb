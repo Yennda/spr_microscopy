{
 "cells": [
  {
   "cell_type": "code",
   "execution_count": 5,
   "metadata": {},
   "outputs": [],
   "source": [
    "import numpy as np\n",
    "import matplotlib.pyplot as plt\n",
    "from database_methods import Table, to_show, head, process_data\n",
    "import sqlite3\n",
    "con = sqlite3.connect('database_results.db')\n",
    "cursor = con.cursor()"
   ]
  },
  {
   "cell_type": "code",
   "execution_count": 6,
   "metadata": {},
   "outputs": [],
   "source": [
    "mas = Table(connection=con, name='masters')\n",
    "exp = Table(con, name = 'experiments')\n",
    "meas = Table(con, name = 'measurements')"
   ]
  },
  {
   "cell_type": "code",
   "execution_count": 39,
   "metadata": {},
   "outputs": [
    {
     "name": "stdout",
     "output_type": "stream",
     "text": [
      "CATEGORY, PERIOD, AMPLITUDE, MASTER, FWHM, R, S\n",
      "DATE, MASTER_ID, DIP, FOLDER\n",
      "EXPERIMENT_ID, NP, WAVELENGTH, FILE, AR_TH, AR_DIP, AR_NOISE, EXC_THS, RATE, INFO, COUNT, X, Y, CON, INP, INPPX, IBGPX, STD, stdX, stdY, stdCON, stdINP, stdINPPX, stdIBGPX, stdSTD, NOTES, AR_MIN, AR_COND, EXP_TYPE\n",
      "--------------------------------------------------------------------------------\n",
      "ID\tCATEGORY\tPERIOD\tAMPLITUDE\tMASTER\tFWHM\tR\tS\n",
      "1\t600\t405\t45\tM5\t23.0\t8.0\t15.9\n",
      "2\t600\t405\t53\tP3\t25.0\t19.7\t3.8\n",
      "3\t650\t452\t32\tK4\t12.5\t11.9\t17.8\n",
      "4\t650\t452\t40\tK5\t15.0\t18.0\t8.8\n",
      "5\t750\t528\t24\tL3\t7.0\t13.8\t78.5\n",
      "6\t750\t526\t30\tQ4\t9.5\t22.0\t30.7\n",
      "ID\tDATE\tMASTER_ID\tDIP\tFOLDER\n",
      "1\t20-02-25\t2\t615\t20_02_25_P3/\n",
      "2\t20-02-26\t6\t727\t20_02_26_Q3/\n",
      "3\t20-03-16\t4\t658\t20_03_16_K5/\n",
      "5\t20-02-25\t1\t598\t20_02_25_M5/\n",
      "6\t20-03-16\t3\t647\t20_03_16_K4/\n",
      "7\t20-04-15\t5\t740\t20_04_15_L3/\n",
      "8\t20-04-14\t1\t606\t20_04_14_M5/\n",
      "9\t20-04-20\t6\t729\t20_04_20_Q4/\n"
     ]
    }
   ],
   "source": [
    "print(mas.columns)\n",
    "print(exp.columns)\n",
    "print(meas.columns)\n",
    "print('-'*80)\n",
    "mas.show_all()\n",
    "exp.show_all()"
   ]
  },
  {
   "cell_type": "raw",
   "metadata": {},
   "source": [
    "con.execute(\"\"\"\n",
    "UPDATE 'masters' SET S = '78.5' WHERE MASTER='L3'\n",
    "\"\"\")"
   ]
  },
  {
   "cell_type": "code",
   "execution_count": 17,
   "metadata": {},
   "outputs": [],
   "source": [
    "con.commit()"
   ]
  },
  {
   "cell_type": "code",
   "execution_count": 18,
   "metadata": {},
   "outputs": [
    {
     "name": "stdout",
     "output_type": "stream",
     "text": [
      "MASTER\t AVG(DI\tAVG(INP\tAVG(INP\tAVG(CON\tAVG(INP\tAVG(IBG\n",
      "L3\t740.00\t18.53\t54.94\t3.31\t1.15\t0.3505\n",
      "Q4\t727.80\t24.76\t68.44\t4.60\t1.67\t0.3943\n",
      "K5\t658.00\t14.79\t48.99\t5.44\t1.64\t0.3078\n",
      "K4\t647.00\t6.18\t24.67\t3.32\t0.9056\t0.2691\n",
      "P3\t615.00\t5.25\t20.50\t7.27\t1.81\t0.2621\n",
      "M5\t606.00\t2.54\t11.68\t6.60\t1.42\t0.2196\n"
     ]
    }
   ],
   "source": [
    "# \n",
    "columns = 'MASTER,  AVG(DIP), AVG(INP), AVG(INP/IBGPX), AVG(CON), AVG(INPPX), AVG(IBGPX)'\n",
    "data = con.execute(\"\"\"\n",
    "SELECT {}\n",
    "FROM 'masters' as MAS \n",
    "INNER JOIN 'experiments' as EXP \n",
    "ON MAS.ID = EXP.MASTER_ID\n",
    "INNER JOIN 'measurements' as MEAS\n",
    "ON EXP.ID = MEAS.EXPERIMENT_ID\n",
    "GROUP BY MASTER\n",
    "ORDER BY DIP DESC\n",
    ";\n",
    "   \"\"\".format(columns))\n",
    "\n",
    "head(columns)\n",
    "\n",
    "for row in data:\n",
    "    print(str(to_show(row)).replace(', ', '\\t').replace(\"'\", \"\")[1:-1])\n"
   ]
  },
  {
   "cell_type": "code",
   "execution_count": 52,
   "metadata": {},
   "outputs": [
    {
     "name": "stdout",
     "output_type": "stream",
     "text": [
      "MASTER\t FILE\t NP\t X\tY\tCON\tX*Y\tINP\tstdINP \tIBGPX\tEXP_TYP\n",
      "Q4\traw_02_\t80\t24.29\t9.28\t11.33\t225.36\t25.61\t19.26\t0.2904\t-\n",
      "Q4\traw_15_\t80\t27.30\t9.62\t11.00\t262.61\t29.68\t22.92\t0.2798\tsh\n",
      "Q4\traw_17_\t80\t25.15\t10.14\t8.20\t254.92\t23.66\t22.90\t0.2759\tstrep\n",
      "---\n",
      "3\n"
     ]
    }
   ],
   "source": [
    "# \n",
    "columns = 'MASTER,  FILE,  NP,  X, Y, CON, X*Y, INP, stdINP INPPX, IBGPX, EXP_TYPE'\n",
    "data = con.execute(\"\"\"\n",
    "SELECT {}\n",
    "FROM 'masters' as MAS \n",
    "INNER JOIN 'experiments' as EXP \n",
    "ON MAS.ID = EXP.MASTER_ID\n",
    "INNER JOIN 'measurements' as MEAS\n",
    "ON EXP.ID = MEAS.EXPERIMENT_ID\n",
    "WHERE MASTER = 'Q4' AND DATE='20-04-20' AND WAVELENGTH = 732 AND Np=80\n",
    "ORDER BY CON DESC\n",
    ";\n",
    "   \"\"\".format(columns))\n",
    "\n",
    "head(columns)\n",
    "\n",
    "i=0\n",
    "for row in data:\n",
    "    print(str(to_show(row)).replace(', ', '\\t').replace(\"'\", \"\")[1:-1])\n",
    "    i+=1\n",
    "    \n",
    "    \n",
    "print('---\\n{}'.format(i))"
   ]
  },
  {
   "cell_type": "code",
   "execution_count": 33,
   "metadata": {},
   "outputs": [],
   "source": [
    "meas.commit()"
   ]
  },
  {
   "cell_type": "code",
   "execution_count": 25,
   "metadata": {},
   "outputs": [],
   "source": [
    "folder = '20_04_20_Q4/'\n",
    "file = 'raw_17_1'\n",
    "\n",
    "columns = 'COUNT(MEAS.ID), MEAS.ID'\n",
    "data = con.execute(\"\"\"\n",
    "SELECT {}\n",
    "FROM 'masters' as MAS \n",
    "INNER JOIN 'experiments' as EXP \n",
    "ON MAS.ID = EXP.MASTER_ID\n",
    "INNER JOIN 'measurements' as MEAS\n",
    "ON EXP.ID = MEAS.EXPERIMENT_ID \n",
    "WHERE FOLDER = '{}' AND FILE = '{}'\n",
    ";\n",
    "   \"\"\".format(columns, folder, file)\n",
    "                  )"
   ]
  },
  {
   "cell_type": "code",
   "execution_count": 26,
   "metadata": {},
   "outputs": [
    {
     "data": {
      "text/plain": [
       "(3, 79)"
      ]
     },
     "execution_count": 26,
     "metadata": {},
     "output_type": "execute_result"
    }
   ],
   "source": [
    "[d for d in data][0]"
   ]
  },
  {
   "cell_type": "code",
   "execution_count": 20,
   "metadata": {},
   "outputs": [],
   "source": [
    "b"
   ]
  },
  {
   "cell_type": "code",
   "execution_count": 28,
   "metadata": {},
   "outputs": [
    {
     "name": "stdout",
     "output_type": "stream",
     "text": [
      "NP\tWAVELENGTH\tAR_TH\tAR_NOISE\tEXC_THS\tAR_MIN\tAR_COND\texp_type\n",
      "80\t732\t60.0\t0.001\t[2]\t10\t2\t-\n",
      "60\t732\t59.0\t0.001\t[2]\t10\t2\t-\n",
      "60\t732\t46.0\t0.001\t[2]\t10\t2\tsh\n",
      "40\t732\t12.0\t0.001\t[1.1]\t2\t2\t-\n",
      "80\t732\t100.0\t0.001\t[2]\t2\t2\t-\n",
      "60\t732\t20.0\t0.001\t[2]\t2\t2\t-\n",
      "80\t732\t40.0\t0.001\t[2]\t2\t2\tstrep\n",
      "147\t732\t8.0\t0.001\t[2]\t2\t2\tps\n",
      "40\t732\t9.0\t0.001\t[2]\t6\t2\t-\n",
      "80\t732\t31.0\t0.001\t[2]\t6\t2\tsh\n"
     ]
    }
   ],
   "source": [
    "columns = 'NP, WAVELENGTH, AR_TH, AR_NOISE, EXC_THS, AR_MIN, AR_COND, exp_type'\n",
    "data = con.execute(\"\"\"\n",
    "SELECT {} FROM 'measurements'\n",
    "WHERE WAVELENGTH=732\n",
    "ORDER BY WAVELENGTH ASC;\n",
    "   \"\"\".format(columns))\n",
    "\n",
    "print(columns.replace(', ','\\t'))\n",
    "for row in data:\n",
    "    print(str(row).replace(', ', '\\t').replace(\"'\", \"\")[1:-1])"
   ]
  },
  {
   "cell_type": "code",
   "execution_count": 8,
   "metadata": {},
   "outputs": [
    {
     "data": {
      "text/plain": [
       "<sqlite3.Cursor at 0xb09bb7aea0>"
      ]
     },
     "execution_count": 8,
     "metadata": {},
     "output_type": "execute_result"
    }
   ],
   "source": [
    "con.execute(\"\"\"\n",
    "UPDATE 'measurements' SET NOTES = 'weak' WHERE COUNT = 165\n",
    "\"\"\")"
   ]
  },
  {
   "cell_type": "raw",
   "metadata": {},
   "source": [
    "meas.del_row(5)"
   ]
  },
  {
   "cell_type": "code",
   "execution_count": 215,
   "metadata": {},
   "outputs": [],
   "source": [
    "meas.commit()"
   ]
  },
  {
   "cell_type": "code",
   "execution_count": 51,
   "metadata": {},
   "outputs": [],
   "source": [
    "con.close()"
   ]
  },
  {
   "cell_type": "code",
   "execution_count": null,
   "metadata": {},
   "outputs": [],
   "source": []
  }
 ],
 "metadata": {
  "kernelspec": {
   "display_name": "Python 3",
   "language": "python",
   "name": "python3"
  },
  "language_info": {
   "codemirror_mode": {
    "name": "ipython",
    "version": 3
   },
   "file_extension": ".py",
   "mimetype": "text/x-python",
   "name": "python",
   "nbconvert_exporter": "python",
   "pygments_lexer": "ipython3",
   "version": "3.7.4"
  }
 },
 "nbformat": 4,
 "nbformat_minor": 4
}
