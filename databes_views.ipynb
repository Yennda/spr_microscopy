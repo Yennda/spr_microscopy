{
 "cells": [
  {
   "cell_type": "code",
   "execution_count": 1,
   "metadata": {},
   "outputs": [],
   "source": [
    "import numpy as np\n",
    "import matplotlib.pyplot as plt\n",
    "from database_methods import Table, to_show, head, process_data\n",
    "import sqlite3\n",
    "con = sqlite3.connect('database_results.db')\n",
    "cursor = con.cursor()"
   ]
  },
  {
   "cell_type": "code",
   "execution_count": 2,
   "metadata": {},
   "outputs": [],
   "source": [
    "mas = Table(connection=con, name='masters')\n",
    "exp = Table(con, name = 'experiments')\n",
    "meas = Table(con, name = 'measurements')"
   ]
  },
  {
   "cell_type": "code",
   "execution_count": 3,
   "metadata": {},
   "outputs": [
    {
     "name": "stdout",
     "output_type": "stream",
     "text": [
      "CATEGORY, PERIOD, AMPLITUDE, MASTER, FWHM, R, S\n",
      "DATE, MASTER_ID, DIP, FOLDER\n",
      "EXPERIMENT_ID, NP, WAVELENGTH, FILE, AR_TH, AR_DIP, AR_NOISE, EXC_THS, RATE, INFO, COUNT, X, Y, CON, INP, INPPX, IBGPX, STD, stdX, stdY, stdCON, stdINP, stdINPPX, stdIBGPX, stdSTD, NOTES, AR_MIN, AR_COND, EXP_TYPE, OPT\n",
      "--------------------------------------------------------------------------------\n",
      "ID\tCATEGORY\tPERIOD\tAMPLITUDE\tMASTER\tFWHM\tR\tS\n",
      "1\t600\t405\t45\tM5\t23.0\t8.0\t15.9\n",
      "2\t600\t405\t53\tP3\t25.0\t19.7\t3.8\n",
      "3\t650\t452\t32\tK4\t12.5\t11.9\t17.8\n",
      "4\t650\t452\t40\tK5\t15.0\t18.0\t8.8\n",
      "5\t750\t528\t24\tL3\t7.0\t13.8\t78.5\n",
      "6\t750\t526\t30\tQ4\t9.5\t22.0\t30.7\n",
      "ID\tDATE\tMASTER_ID\tDIP\tFOLDER\n",
      "1\t20-02-25\t2\t615\t20_02_25_P3/\n",
      "2\t20-02-26\t6\t727\t20_02_26_Q3/\n",
      "3\t20-03-16\t4\t658\t20_03_16_K5/\n",
      "5\t20-02-25\t1\t598\t20_02_25_M5/\n",
      "6\t20-03-16\t3\t647\t20_03_16_K4/\n",
      "7\t20-04-15\t5\t740\t20_04_15_L3/\n",
      "8\t20-04-14\t1\t606\t20_04_14_M5/\n",
      "9\t20-04-20\t6\t729\t20_04_20_Q4/\n"
     ]
    }
   ],
   "source": [
    "print(mas.columns)\n",
    "print(exp.columns)\n",
    "print(meas.columns)\n",
    "print('-'*80)\n",
    "mas.show_all()\n",
    "exp.show_all()"
   ]
  },
  {
   "cell_type": "raw",
   "metadata": {},
   "source": [
    "con.execute(\"\"\"\n",
    "UPDATE 'masters' SET S = '78.5' WHERE MASTER='L3'\n",
    "\"\"\")"
   ]
  },
  {
   "cell_type": "code",
   "execution_count": 4,
   "metadata": {},
   "outputs": [],
   "source": [
    "con.commit()"
   ]
  },
  {
   "cell_type": "code",
   "execution_count": 22,
   "metadata": {},
   "outputs": [
    {
     "name": "stdout",
     "output_type": "stream",
     "text": [
      "MASTER\tDATE\tS\tAVG(DIP\tAVG(X)\tAVG(Y)\tAVG(CON\tAVG(std\tAVG(std\tAVG(std\tAVG(INP\tAVG(INP\tAVG(INP\tAVG(IBG\n",
      "L3\t20-04-1\t78.50\t740.00\t57.11\t9.82\t3.11\t22.00\t1.35\t0.8999\t19.64\t0.9066\t0.9066\t0.2933\n",
      "Q4\t20-04-2\t30.70\t729.00\t25.58\t9.68\t10.18\t8.12\t1.51\t4.65\t26.32\t2.85\t2.85\t0.2820\n",
      "K5\t20-03-1\t8.80\t658.00\t20.66\t12.63\t5.17\t3.84\t1.57\t2.31\t15.64\t1.44\t1.44\t0.2827\n",
      "K4\t20-03-1\t17.80\t647.00\t18.97\t12.46\t4.27\t2.46\t1.40\t1.36\t9.48\t1.15\t1.15\t0.2686\n",
      "P3\t20-02-2\t3.80\t615.00\t5.38\t6.25\t7.52\t1.42\t1.64\t2.18\t4.90\t1.53\t1.53\t0.2082\n",
      "M5\t20-04-1\t15.90\t606.00\t4.25\t3.72\t5.97\t2.19\t1.58\t1.51\t2.51\t1.41\t1.41\t0.2375\n"
     ]
    }
   ],
   "source": [
    "# \n",
    "columns = 'MASTER, DATE, S, AVG(DIP), AVG(X), AVG(Y), AVG(CON), AVG(stdX), AVG(stdY), AVG(stdCON), AVG(INP), AVG(INPPX), AVG(INPPX), AVG(IBGPX)'\n",
    "data = con.execute(\"\"\"\n",
    "SELECT {}\n",
    "FROM 'masters' as MAS \n",
    "INNER JOIN 'experiments' as EXP \n",
    "ON MAS.ID = EXP.MASTER_ID\n",
    "INNER JOIN 'measurements' as MEAS\n",
    "ON EXP.ID = MEAS.EXPERIMENT_ID\n",
    "WHERE NP = 80 AND OPT = 1\n",
    "GROUP BY MASTER\n",
    "ORDER BY DIP DESC\n",
    ";\n",
    "   \"\"\".format(columns))\n",
    "\n",
    "head(columns)\n",
    "\n",
    "for row in data:\n",
    "    print(str(to_show(row)).replace(', ', '\\t').replace(\"'\", \"\")[1:-1])\n"
   ]
  },
  {
   "cell_type": "code",
   "execution_count": 24,
   "metadata": {},
   "outputs": [
    {
     "name": "stdout",
     "output_type": "stream",
     "text": [
      "NP\tMASTER\tDATE\tX\tY\tCON\tX*Y\tINP\tstdINP \tIBGPX\tEXP_TYP\tOPT\n",
      "60\tQ4\t20-02-2\t27.16\t12.88\t3.97\t350.01\t31.03\t19.98\t0.5038\t-\t0\n",
      "60\tQ4\t20-02-2\t28.07\t13.13\t3.82\t368.74\t30.71\t22.48\t0.4713\tsh\t0\n",
      "40\tQ4\t20-02-2\t16.01\t10.42\t3.31\t166.75\t9.30\t12.81\t0.4263\t-\t0\n",
      "60\tQ4\t20-04-2\t37.79\t12.75\t5.39\t481.71\t27.55\t20.75\t0.2537\t-\t1\n",
      "40\tQ4\t20-04-2\t33.70\t12.84\t5.93\t432.52\t33.27\t27.78\t0.2710\t-\t1\n",
      "60\tP3\t20-02-2\t4.96\t5.39\t8.28\t26.76\t4.66\t2.03\t0.2225\t-\t1\n",
      "60\tL3\t20-04-1\t35.59\t11.53\t2.98\t410.30\t20.13\t10.84\t0.3968\t-\t0\n",
      "60\tL3\t20-04-1\t43.08\t11.60\t3.18\t499.49\t21.01\t14.20\t0.3228\t-\t0\n",
      "60\tL3\t20-04-1\t53.05\t10.22\t3.08\t541.97\t15.79\t9.24\t0.2494\t-\t1\n",
      "60\tK5\t20-03-1\t16.75\t12.42\t5.82\t208.07\t12.01\t7.96\t0.3303\t-\t1\n",
      "60\tK5\t20-03-1\t18.03\t13.11\t5.26\t236.34\t11.28\t7.93\t0.2613\t-\t0\n",
      "60\tK5\t20-03-1\t15.82\t13.54\t5.60\t214.28\t10.76\t6.41\t0.2447\t-\t1\n",
      "60\tK5\t20-03-1\t18.35\t13.11\t5.89\t240.54\t15.70\t10.47\t0.3067\t-\t1\n",
      "60\tK5\t20-03-1\t16.16\t13.58\t5.37\t219.52\t9.60\t6.25\t0.2106\t-\t0\n",
      "60\tK4\t20-03-1\t20.51\t11.91\t3.11\t244.28\t7.49\t5.49\t0.2748\t-\t1\n",
      "60\tK4\t20-03-1\t21.92\t11.36\t2.77\t248.98\t3.96\t2.60\t0.1585\t-\t0\n",
      "60\tK4\t20-03-1\t15.32\t11.47\t3.33\t175.70\t5.11\t2.48\t0.2929\t-\t1\n",
      "---\n",
      "17\n"
     ]
    }
   ],
   "source": [
    "# \n",
    "columns = 'NP, MASTER, DATE, X, Y, CON, X*Y, INP, stdINP INPPX, IBGPX, EXP_TYPE, OPT'\n",
    "data = con.execute(\"\"\"\n",
    "SELECT {}\n",
    "FROM 'masters' as MAS \n",
    "INNER JOIN 'experiments' as EXP \n",
    "ON MAS.ID = EXP.MASTER_ID\n",
    "INNER JOIN 'measurements' as MEAS\n",
    "ON EXP.ID = MEAS.EXPERIMENT_ID\n",
    "WHERE NP < 61\n",
    "ORDER BY MASTER DESC\n",
    ";\n",
    "   \"\"\".format(columns))\n",
    "\n",
    "head(columns)\n",
    "\n",
    "i=0\n",
    "for row in data:\n",
    "    print(str(to_show(row)).replace(', ', '\\t').replace(\"'\", \"\")[1:-1])\n",
    "    i+=1\n",
    "    \n",
    "    \n",
    "print('---\\n{}'.format(i))"
   ]
  },
  {
   "cell_type": "code",
   "execution_count": 54,
   "metadata": {},
   "outputs": [
    {
     "name": "stdout",
     "output_type": "stream",
     "text": [
      "NP\tFILE\tX\tY\tCON\tX*Y\tINP\tstdINP \tIBGPX\tEXP_TYP\n",
      "80\traw_10_\t5.06\t5.98\t7.86\t30.26\t4.53\t2.27\t0.1912\t-\n",
      "80\traw_29_\t5.11\t6.36\t8.16\t32.51\t4.91\t2.18\t0.2032\tsh\n",
      "80\traw_32_\t5.11\t6.11\t7.43\t31.24\t4.54\t2.02\t0.2021\tstrep\n",
      "---\n",
      "3\n"
     ]
    }
   ],
   "source": [
    "# \n",
    "columns = 'NP, FILE, X, Y, CON, X*Y, INP, stdINP INPPX, IBGPX, EXP_TYPE'\n",
    "data = con.execute(\"\"\"\n",
    "SELECT {}\n",
    "FROM 'masters' as MAS \n",
    "INNER JOIN 'experiments' as EXP \n",
    "ON MAS.ID = EXP.MASTER_ID\n",
    "INNER JOIN 'measurements' as MEAS\n",
    "ON EXP.ID = MEAS.EXPERIMENT_ID\n",
    "WHERE MASTER = 'P3' AND WAVELENGTH = 612 AND NP = 80\n",
    "\n",
    "ORDER BY NP DESC\n",
    ";\n",
    "   \"\"\".format(columns))\n",
    "\n",
    "head(columns)\n",
    "\n",
    "i=0\n",
    "for row in data:\n",
    "    print(str(to_show(row)).replace(', ', '\\t').replace(\"'\", \"\")[1:-1])\n",
    "    i+=1\n",
    "    \n",
    "    \n",
    "print('---\\n{}'.format(i))"
   ]
  },
  {
   "cell_type": "code",
   "execution_count": 30,
   "metadata": {},
   "outputs": [
    {
     "name": "stdout",
     "output_type": "stream",
     "text": [
      "MEAS.ID\tMASTER\tNP\tWAVELEN\tFOLDER\tFILE\tRATE\tX\tY\tCON\tX*Y\tINP\tstdINP \tIBGPX\tEXP_TYP\tOPT\n",
      "50\tP3\t80\t612\t20_02_2\traw_32_\t168.45\t5.11\t6.11\t7.43\t31.24\t4.54\t2.02\t0.2021\tstrep\t1\n",
      "36\tP3\t80\t612\t20_02_2\traw_10_\t46.43\t5.06\t5.98\t7.86\t30.26\t4.53\t2.27\t0.1912\t-\t1\n",
      "44\tP3\t80\t610\t20_02_2\traw_11_\t42.78\t6.25\t6.53\t6.63\t40.83\t5.63\t2.33\t0.2363\t-\t1\n",
      "49\tP3\t80\t612\t20_02_2\traw_29_\t30.00\t5.11\t6.36\t8.16\t32.51\t4.91\t2.18\t0.2032\tsh\t1\n",
      "---\n",
      "4\n"
     ]
    }
   ],
   "source": [
    "# \n",
    "columns = 'MEAS.ID, MASTER, NP, WAVELENGTH, FOLDER, FILE, RATE, X, Y, CON, X*Y, INP, stdINP INPPX, IBGPX, EXP_TYPE, OPT'\n",
    "data = con.execute(\"\"\"\n",
    "SELECT {}\n",
    "FROM 'masters' as MAS \n",
    "INNER JOIN 'experiments' as EXP \n",
    "ON MAS.ID = EXP.MASTER_ID\n",
    "INNER JOIN 'measurements' as MEAS\n",
    "ON EXP.ID = MEAS.EXPERIMENT_ID\n",
    "WHERE MASTER = 'P3' AND NP=80 AND OPT=1\n",
    "ORDER BY RATE DESC\n",
    ";\n",
    "   \"\"\".format(columns))\n",
    "\n",
    "head(columns)\n",
    "\n",
    "i=0\n",
    "for row in data:\n",
    "    print(str(to_show(row)).replace(', ', '\\t').replace(\"'\", \"\")[1:-1])\n",
    "    i+=1\n",
    "    \n",
    "    \n",
    "print('---\\n{}'.format(i))"
   ]
  },
  {
   "cell_type": "raw",
   "metadata": {},
   "source": [
    "con.execute(\"\"\"\n",
    "UPDATE 'measurements' SET OPT = 1 WHERE (WAVELENGTH = 628 OR WAVELENGTH = 624 OR WAVELENGTH = 622) AND EXPERIMENT_ID = 8\n",
    "\"\"\")"
   ]
  },
  {
   "cell_type": "code",
   "execution_count": 66,
   "metadata": {},
   "outputs": [
    {
     "name": "stdout",
     "output_type": "stream",
     "text": [
      "ID\tDATE\tMASTER_ID\tDIP\tFOLDER\n",
      "1\t20-02-25\t2\t615\t20_02_25_P3/\n",
      "2\t20-02-26\t6\t727\t20_02_26_Q3/\n",
      "3\t20-03-16\t4\t658\t20_03_16_K5/\n",
      "5\t20-02-25\t1\t598\t20_02_25_M5/\n",
      "6\t20-03-16\t3\t647\t20_03_16_K4/\n",
      "7\t20-04-15\t5\t740\t20_04_15_L3/\n",
      "8\t20-04-14\t1\t606\t20_04_14_M5/\n",
      "9\t20-04-20\t6\t729\t20_04_20_Q4/\n"
     ]
    }
   ],
   "source": [
    "exp.show_all()"
   ]
  },
  {
   "cell_type": "code",
   "execution_count": 96,
   "metadata": {},
   "outputs": [],
   "source": [
    "con.commit()"
   ]
  },
  {
   "cell_type": "code",
   "execution_count": 12,
   "metadata": {},
   "outputs": [],
   "source": [
    "folder = '20_04_20_Q4/'\n",
    "file = 'raw_17_1'\n",
    "\n",
    "columns = 'COUNT(MEAS.ID), MEAS.ID'\n",
    "data = con.execute(\"\"\"\n",
    "SELECT {}\n",
    "FROM 'masters' as MAS \n",
    "INNER JOIN 'experiments' as EXP \n",
    "ON MAS.ID = EXP.MASTER_ID\n",
    "INNER JOIN 'measurements' as MEAS\n",
    "ON EXP.ID = MEAS.EXPERIMENT_ID \n",
    "WHERE FOLDER = '{}' AND FILE = '{}'\n",
    ";\n",
    "   \"\"\".format(columns, folder, file)\n",
    "                  )"
   ]
  },
  {
   "cell_type": "code",
   "execution_count": 26,
   "metadata": {},
   "outputs": [
    {
     "data": {
      "text/plain": [
       "(3, 79)"
      ]
     },
     "execution_count": 26,
     "metadata": {},
     "output_type": "execute_result"
    }
   ],
   "source": [
    "[d for d in data][0]"
   ]
  },
  {
   "cell_type": "code",
   "execution_count": 20,
   "metadata": {},
   "outputs": [],
   "source": [
    "b"
   ]
  },
  {
   "cell_type": "code",
   "execution_count": 28,
   "metadata": {},
   "outputs": [
    {
     "name": "stdout",
     "output_type": "stream",
     "text": [
      "NP\tWAVELENGTH\tAR_TH\tAR_NOISE\tEXC_THS\tAR_MIN\tAR_COND\texp_type\n",
      "80\t732\t60.0\t0.001\t[2]\t10\t2\t-\n",
      "60\t732\t59.0\t0.001\t[2]\t10\t2\t-\n",
      "60\t732\t46.0\t0.001\t[2]\t10\t2\tsh\n",
      "40\t732\t12.0\t0.001\t[1.1]\t2\t2\t-\n",
      "80\t732\t100.0\t0.001\t[2]\t2\t2\t-\n",
      "60\t732\t20.0\t0.001\t[2]\t2\t2\t-\n",
      "80\t732\t40.0\t0.001\t[2]\t2\t2\tstrep\n",
      "147\t732\t8.0\t0.001\t[2]\t2\t2\tps\n",
      "40\t732\t9.0\t0.001\t[2]\t6\t2\t-\n",
      "80\t732\t31.0\t0.001\t[2]\t6\t2\tsh\n"
     ]
    }
   ],
   "source": [
    "columns = 'NP, WAVELENGTH, AR_TH, AR_NOISE, EXC_THS, AR_MIN, AR_COND, exp_type'\n",
    "data = con.execute(\"\"\"\n",
    "SELECT {} FROM 'measurements'\n",
    "WHERE WAVELENGTH=732\n",
    "ORDER BY WAVELENGTH ASC;\n",
    "   \"\"\".format(columns))\n",
    "\n",
    "print(columns.replace(', ','\\t'))\n",
    "for row in data:\n",
    "    print(str(row).replace(', ', '\\t').replace(\"'\", \"\")[1:-1])"
   ]
  },
  {
   "cell_type": "raw",
   "metadata": {},
   "source": [
    "meas.del_row(5)"
   ]
  },
  {
   "cell_type": "code",
   "execution_count": 59,
   "metadata": {},
   "outputs": [],
   "source": [
    "con.commit()"
   ]
  },
  {
   "cell_type": "code",
   "execution_count": 51,
   "metadata": {},
   "outputs": [],
   "source": [
    "con.close()"
   ]
  },
  {
   "cell_type": "code",
   "execution_count": null,
   "metadata": {},
   "outputs": [],
   "source": []
  }
 ],
 "metadata": {
  "kernelspec": {
   "display_name": "Python 3",
   "language": "python",
   "name": "python3"
  },
  "language_info": {
   "codemirror_mode": {
    "name": "ipython",
    "version": 3
   },
   "file_extension": ".py",
   "mimetype": "text/x-python",
   "name": "python",
   "nbconvert_exporter": "python",
   "pygments_lexer": "ipython3",
   "version": "3.7.4"
  }
 },
 "nbformat": 4,
 "nbformat_minor": 4
}
