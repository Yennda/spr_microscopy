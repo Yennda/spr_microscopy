{
 "cells": [
  {
   "cell_type": "code",
   "execution_count": 3,
   "metadata": {},
   "outputs": [],
   "source": [
    "import numpy as np\n",
    "import matplotlib.pyplot as plt\n",
    "from database_methods import Table\n",
    "import sqlite3"
   ]
  },
  {
   "cell_type": "code",
   "execution_count": 32,
   "metadata": {},
   "outputs": [],
   "source": [
    "con = sqlite3.connect('database_results.db')\n",
    "cursor = con.cursor()"
   ]
  },
  {
   "cell_type": "code",
   "execution_count": 35,
   "metadata": {},
   "outputs": [
    {
     "name": "stdout",
     "output_type": "stream",
     "text": [
      "[('masters',), ('sqlite_sequence',), ('experiments',)]\n"
     ]
    }
   ],
   "source": [
    "cursor.execute(\"SELECT name FROM sqlite_master WHERE type='table';\")\n",
    "print(cursor.fetchall())"
   ]
  },
  {
   "cell_type": "code",
   "execution_count": 8,
   "metadata": {},
   "outputs": [],
   "source": [
    "dg = Table(connection=con, name='masters')"
   ]
  },
  {
   "cell_type": "code",
   "execution_count": 19,
   "metadata": {},
   "outputs": [
    {
     "name": "stdout",
     "output_type": "stream",
     "text": [
      "ID\tCATEGORY\tPERIOD\tAMPLITUDE\tMASTER\n",
      "1\t600\t405\t45\tM5\n",
      "2\t600\t405\t53\tP3\n",
      "3\t650\t452\t32\tK4\n",
      "4\t650\t452\t40\tK5\n",
      "5\t750\t528\t24\tL3\n",
      "6\t750\t526\t30\tQ4\n"
     ]
    }
   ],
   "source": [
    "dg.show_all()"
   ]
  },
  {
   "cell_type": "code",
   "execution_count": 18,
   "metadata": {},
   "outputs": [
    {
     "name": "stdout",
     "output_type": "stream",
     "text": [
      "CATEGORY, PERIOD, AMPLITUDE, MASTER\n"
     ]
    }
   ],
   "source": [
    "print(dg.columns)\n",
    "dg.insert(750, 526, 30, 'Q4')"
   ]
  },
  {
   "cell_type": "code",
   "execution_count": 36,
   "metadata": {},
   "outputs": [
    {
     "ename": "ProgrammingError",
     "evalue": "Cannot operate on a closed database.",
     "output_type": "error",
     "traceback": [
      "\u001b[1;31m---------------------------------------------------------------------------\u001b[0m",
      "\u001b[1;31mProgrammingError\u001b[0m                          Traceback (most recent call last)",
      "\u001b[1;32m<ipython-input-36-d31dc8c48462>\u001b[0m in \u001b[0;36m<module>\u001b[1;34m\u001b[0m\n\u001b[1;32m----> 1\u001b[1;33m \u001b[0mdg\u001b[0m\u001b[1;33m.\u001b[0m\u001b[0mcommit\u001b[0m\u001b[1;33m(\u001b[0m\u001b[1;33m)\u001b[0m\u001b[1;33m\u001b[0m\u001b[1;33m\u001b[0m\u001b[0m\n\u001b[0m",
      "\u001b[1;32m~\\Python Scripts\\spr_microscopy\\database_methods.py\u001b[0m in \u001b[0;36mcommit\u001b[1;34m(self)\u001b[0m\n\u001b[0;32m     48\u001b[0m \u001b[1;33m\u001b[0m\u001b[0m\n\u001b[0;32m     49\u001b[0m     \u001b[1;32mdef\u001b[0m \u001b[0mcommit\u001b[0m\u001b[1;33m(\u001b[0m\u001b[0mself\u001b[0m\u001b[1;33m)\u001b[0m\u001b[1;33m:\u001b[0m\u001b[1;33m\u001b[0m\u001b[1;33m\u001b[0m\u001b[0m\n\u001b[1;32m---> 50\u001b[1;33m         \u001b[0mself\u001b[0m\u001b[1;33m.\u001b[0m\u001b[0mcon\u001b[0m\u001b[1;33m.\u001b[0m\u001b[0mcommit\u001b[0m\u001b[1;33m(\u001b[0m\u001b[1;33m)\u001b[0m\u001b[1;33m\u001b[0m\u001b[1;33m\u001b[0m\u001b[0m\n\u001b[0m\u001b[0;32m     51\u001b[0m \u001b[1;33m\u001b[0m\u001b[0m\n\u001b[0;32m     52\u001b[0m     \u001b[1;32mdef\u001b[0m \u001b[0mclear_all\u001b[0m\u001b[1;33m(\u001b[0m\u001b[0mself\u001b[0m\u001b[1;33m)\u001b[0m\u001b[1;33m:\u001b[0m\u001b[1;33m\u001b[0m\u001b[1;33m\u001b[0m\u001b[0m\n",
      "\u001b[1;31mProgrammingError\u001b[0m: Cannot operate on a closed database."
     ]
    }
   ],
   "source": [
    "dg.commit()"
   ]
  },
  {
   "cell_type": "code",
   "execution_count": 37,
   "metadata": {},
   "outputs": [],
   "source": [
    "con.close()"
   ]
  },
  {
   "cell_type": "raw",
   "metadata": {},
   "source": [
    "cursor.execute(\"\"\"\n",
    "CREATE TABLE 'masters'(\n",
    "ID   INTEGER   PRIMARY KEY   AUTOINCREMENT,\n",
    "CATEGORY INT NOT NULL,\n",
    "PERIOD INT NOT NULL,\n",
    "AMPLITUDE INT NOT NULL,\n",
    "MASTER CHARACTER(8))\n",
    "\"\"\")"
   ]
  },
  {
   "cell_type": "code",
   "execution_count": 34,
   "metadata": {},
   "outputs": [
    {
     "data": {
      "text/plain": [
       "<sqlite3.Cursor at 0x46ca2ad0a0>"
      ]
     },
     "execution_count": 34,
     "metadata": {},
     "output_type": "execute_result"
    }
   ],
   "source": [
    "cursor.execute(\"\"\"\n",
    "CREATE TABLE 'experiments'(\n",
    "ID   INTEGER   PRIMARY KEY   AUTOINCREMENT,\n",
    "DATE   DATE NOT NULL,\n",
    "MASTER_ID INTEGER NOT NULL,\n",
    "DIP INTEGER NOT NULL,\n",
    "FOLDER TEXT NOT NULL, \n",
    "COUNT TEXT NOT NULL,\n",
    "AR TEXT NOT NULL,\n",
    "X REAL NOT NULL, \n",
    "Y REAL NOT NULL,\n",
    "CON REAL NOT NULL,\n",
    "INP  REAL NOT NULL,\n",
    "INPPX REAL NOT NULL,\n",
    "IBGPX REAL NOT NULL,\n",
    "STD REAL NOT NULL,\n",
    "stdX REAL NOT NULL,\n",
    "stdY REAL NOT NULL,\n",
    "stdCON REAL NOT NULL,\n",
    "stdINP REAL NOT NULL,\n",
    "stdINPPX REAL NOT NULL,\n",
    "stdIBGPX REAL NOT NULL,\n",
    "stdSTD REAL NOT NULL\n",
    ")\n",
    "\"\"\")"
   ]
  },
  {
   "cell_type": "code",
   "execution_count": 6,
   "metadata": {},
   "outputs": [],
   "source": [
    "exp = Table(con, name = 'experiments')"
   ]
  },
  {
   "cell_type": "code",
   "execution_count": 7,
   "metadata": {},
   "outputs": [
    {
     "data": {
      "text/plain": [
       "'DATE, MASTER_ID, DIP, FOLDER, COUNT, X, Y, CON, INP, INPPX, IBGPX, STD, stdX, stdY, stdCON, stdINP, stdINPPX, stdIBGPX, stdSTD'"
      ]
     },
     "execution_count": 7,
     "metadata": {},
     "output_type": "execute_result"
    }
   ],
   "source": [
    "exp.columns"
   ]
  },
  {
   "cell_type": "raw",
   "metadata": {},
   "source": [
    "cursor.execute(\"\"\"\n",
    "CREATE TABLE 'measurements'(\n",
    "ID   INTEGER   PRIMARY KEY   AUTOINCREMENT,\n",
    "EXPERIMENT_ID  INTEGER NOT NULL,\n",
    "NP INTEGER NOT NULL,\n",
    "WAVELENGTH INTEGER NOT NULL,\n",
    "FILE TEXT NOT NULL\n",
    ")\n",
    "\"\"\")"
   ]
  },
  {
   "cell_type": "raw",
   "metadata": {},
   "source": [
    "cursor.execute(\"\"\"\n",
    "INSERT INTO  'diffraction_gratings' (CATEGORY, PERIOD, AMPLITUDE, MASTER)\n",
    "VALUES (600, 406, 45, 'M5')\n",
    "\"\"\")\n",
    "cursor.execute(\"\"\"\n",
    "INSERT INTO  'diffraction_gratings' (CATEGORY, PERIOD, AMPLITUDE, MASTER)\n",
    "VALUES (600, 406, 5345, 'P3')\n",
    "\"\"\")"
   ]
  },
  {
   "cell_type": "raw",
   "metadata": {},
   "source": [
    "cursor.execute(\"\"\"\n",
    "INSERT INTO  'experiments' (DATE, MASTER_ID, DIP, FOLDER)\n",
    "VALUES ('2020-02-25', 0, 598, '20_02_25_M5')\n",
    "\"\"\")\n",
    "cursor.execute(\"\"\"\n",
    "INSERT INTO  'experiments' (DATE, MASTER_ID, DIP, FOLDER)\n",
    "VALUES ('2020-02-25', 1, 615, '20_02_25_P3')\n",
    "\"\"\")"
   ]
  },
  {
   "cell_type": "raw",
   "metadata": {},
   "source": [
    "cursor.execute(\"\"\"\n",
    "INSERT INTO  'measurements' (EXPERIMENT_ID, NP, WAVELENGTH, FILE)\n",
    "VALUES (1, 80, 618, '01')\n",
    "\"\"\")\n",
    "cursor.execute(\"\"\"\n",
    "INSERT INTO  'measurements' (EXPERIMENT_ID, NP, WAVELENGTH, FILE)\n",
    "VALUES (1, 80, 620, '02')\n",
    "\"\"\")\n",
    "cursor.execute(\"\"\"\n",
    "INSERT INTO  'measurements' (EXPERIMENT_ID, NP, WAVELENGTH, FILE)\n",
    "VALUES (2, 80, 609, '01')\n",
    "\"\"\")\n",
    "cursor.execute(\"\"\"\n",
    "INSERT INTO  'measurements' (EXPERIMENT_ID, NP, WAVELENGTH, FILE)\n",
    "VALUES (2, 80, 630, '02')\n",
    "\"\"\")"
   ]
  },
  {
   "cell_type": "code",
   "execution_count": 10,
   "metadata": {},
   "outputs": [
    {
     "name": "stdin",
     "output_type": "stream",
     "text": [
      "Really? y/n y\n"
     ]
    }
   ],
   "source": [
    "dg.clear_all()"
   ]
  },
  {
   "cell_type": "code",
   "execution_count": 10,
   "metadata": {},
   "outputs": [
    {
     "name": "stdout",
     "output_type": "stream",
     "text": [
      "7,\n"
     ]
    }
   ],
   "source": [
    "cursor = con.execute(\"\"\"\n",
    "SELECT ID from 'diffraction_gratings'\n",
    "WHERE MASTER == 'P3';\n",
    "\"\"\")\n",
    "\n",
    "for row in cursor:\n",
    "    print(str(row).replace(', ', '\\t').replace(\"'\", \"\")[1:-1])\n"
   ]
  },
  {
   "cell_type": "code",
   "execution_count": 13,
   "metadata": {},
   "outputs": [
    {
     "data": {
      "text/plain": [
       "<sqlite3.Cursor at 0x9e62b5810>"
      ]
     },
     "execution_count": 13,
     "metadata": {},
     "output_type": "execute_result"
    }
   ],
   "source": []
  },
  {
   "cell_type": "code",
   "execution_count": null,
   "metadata": {},
   "outputs": [],
   "source": []
  }
 ],
 "metadata": {
  "kernelspec": {
   "display_name": "Python 3",
   "language": "python",
   "name": "python3"
  },
  "language_info": {
   "codemirror_mode": {
    "name": "ipython",
    "version": 3
   },
   "file_extension": ".py",
   "mimetype": "text/x-python",
   "name": "python",
   "nbconvert_exporter": "python",
   "pygments_lexer": "ipython3",
   "version": "3.7.4"
  }
 },
 "nbformat": 4,
 "nbformat_minor": 4
}
