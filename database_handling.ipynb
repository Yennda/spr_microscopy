{
 "cells": [
  {
   "cell_type": "code",
   "execution_count": 26,
   "metadata": {},
   "outputs": [],
   "source": [
    "import numpy as np\n",
    "import matplotlib.pyplot as plt\n",
    "from database_methods import Table\n",
    "import sqlite3\n",
    "con = sqlite3.connect('database_results.db')\n",
    "# con = sqlite3.connect('database_nanoparticles.db')\n",
    "\n",
    "cursor = con.cursor()"
   ]
  },
  {
   "cell_type": "raw",
   "metadata": {},
   "source": [
    "cursor.execute(\"DROP TABLE 'measurements';\")"
   ]
  },
  {
   "cell_type": "code",
   "execution_count": 10,
   "metadata": {},
   "outputs": [
    {
     "name": "stdout",
     "output_type": "stream",
     "text": [
      "[('masters',), ('sqlite_sequence',), ('experiments',)]\n"
     ]
    }
   ],
   "source": [
    "cursor.execute(\"SELECT name FROM sqlite_master WHERE type='table';\")\n",
    "print(cursor.fetchall())"
   ]
  },
  {
   "cell_type": "code",
   "execution_count": 22,
   "metadata": {},
   "outputs": [],
   "source": [
    "dg = Table(connection=con, name='masters')\n",
    "exp = Table(con, name = 'experiments')\n",
    "meas = Table(con, name = 'measurements')"
   ]
  },
  {
   "cell_type": "code",
   "execution_count": 14,
   "metadata": {},
   "outputs": [
    {
     "name": "stdout",
     "output_type": "stream",
     "text": [
      "ID\tCATEGORY\tPERIOD\tAMPLITUDE\tMASTER\n",
      "1\t600\t405\t45\tM5\n",
      "2\t600\t405\t53\tP3\n",
      "3\t650\t452\t32\tK4\n",
      "4\t650\t452\t40\tK5\n",
      "5\t750\t528\t24\tL3\n",
      "6\t750\t526\t30\tQ4\n"
     ]
    }
   ],
   "source": [
    "dg.show_all()"
   ]
  },
  {
   "cell_type": "code",
   "execution_count": 15,
   "metadata": {},
   "outputs": [
    {
     "name": "stdout",
     "output_type": "stream",
     "text": [
      "CATEGORY, PERIOD, AMPLITUDE, MASTER\n"
     ]
    }
   ],
   "source": [
    "print(dg.columns)\n",
    "# dg.insert(750, 526, 30, 'Q4')"
   ]
  },
  {
   "cell_type": "code",
   "execution_count": 16,
   "metadata": {},
   "outputs": [],
   "source": [
    "dg.commit()"
   ]
  },
  {
   "cell_type": "code",
   "execution_count": 17,
   "metadata": {},
   "outputs": [
    {
     "name": "stdout",
     "output_type": "stream",
     "text": [
      "ID\tDATE\tMASTER_ID\tDIP\tFOLDER\n",
      "1\t20-02-25\t2\t615\t20_02_25_P3/\n",
      "2\t20-02-26\t6\t727\t20_02_26_Q3/\n",
      "3\t20-03-16\t3\t647\t20_03_16_K5/\n",
      "4\t20-02-26\t5\t741\t20_02_26_L3/\n",
      "5\t20-02-25\t1\t598\t20_02_25_M5/\n"
     ]
    }
   ],
   "source": [
    "exp.show_all()"
   ]
  },
  {
   "cell_type": "code",
   "execution_count": 23,
   "metadata": {},
   "outputs": [
    {
     "data": {
      "text/plain": [
       "'EXPERIMENT_ID, NP, WAVELENGTH, FILE, AR_TH, AR_DIP, AR_NOISE, EXC_THS, RATE, INFO, COUNT, X, Y, CON, INP, INPPX, IBGPX, STD, stdX, stdY, stdCON, stdINP, stdINPPX, stdIBGPX, stdSTD, NOTES'"
      ]
     },
     "execution_count": 23,
     "metadata": {},
     "output_type": "execute_result"
    }
   ],
   "source": [
    "meas.columns"
   ]
  },
  {
   "cell_type": "code",
   "execution_count": 19,
   "metadata": {},
   "outputs": [
    {
     "name": "stdout",
     "output_type": "stream",
     "text": [
      "ID\tEXPERIMENT_ID\tNP\tWAVELENGTH\tFILE\tAR_TH\tAR_DIP\tAR_NOISE\tEXC_THS\tRATE\tINFO\tCOUNT\tX\tY\tCON\tINP\tINPPX\tIBGPX\tSTD\tstdX\tstdY\tstdCON\tstdINP\tstdINPPX\tstdIBGPX\tstdSTD\n",
      "1\t2\t80\t740\traw_07_1\t30.0\t-0.003\t0.001\t[2.4]\t59.2\t============================================================\\nINFO:\\n\\n--gamma--\\nDots number: 5253\\nFit fails: 0\\n\\n--exclusion--\\nNumber of excluded nps: 189\\n\\n--statistics--\\nNP count: 108\\nRate per 100 frames: 59.2\\nCompared to reference: 123.6 %\\n\\n--statistics--\\nNP count: 108\\nRate per 100 frames: 59.2\\nCompared to reference: 123.6 %\\n\\n--histogram--\\n5 x sigma = 158387761.65\\n6 x sigma = 190065313.97\\nthreshold = 30\\n\\n--elapsed time--\\n8.25 s\\n\t128\t16.71015625\t13.04765625\t3.7494866284721313\t15.905610611503004\t1.9026508421300912\t0.5353820874777333\t0.6807231959396716\t2.2977444729747334\t1.5905278626405566\t1.7503476747999844\t10.991322896911994\t0.8934848150226142\t0.09829869776741498\t0.12393209707225228\n"
     ]
    }
   ],
   "source": [
    "meas.show_all()"
   ]
  },
  {
   "cell_type": "code",
   "execution_count": 24,
   "metadata": {},
   "outputs": [],
   "source": [
    "con.close()"
   ]
  },
  {
   "cell_type": "raw",
   "metadata": {},
   "source": [
    "cursor.execute(\"\"\"\n",
    "CREATE TABLE 'masters'(\n",
    "ID   INTEGER   PRIMARY KEY   AUTOINCREMENT,\n",
    "CATEGORY INT NOT NULL,\n",
    "PERIOD INT NOT NULL,\n",
    "AMPLITUDE INT NOT NULL,\n",
    "MASTER CHARACTER(8))\n",
    "\"\"\")"
   ]
  },
  {
   "cell_type": "raw",
   "metadata": {},
   "source": [
    "cursor.execute(\"\"\"\n",
    "CREATE TABLE 'experiments'(\n",
    "ID   INTEGER   PRIMARY KEY   AUTOINCREMENT,\n",
    "DATE   DATE NOT NULL,\n",
    "MASTER_ID INTEGER NOT NULL,\n",
    "DIP INTEGER NOT NULL,\n",
    "FOLDER TEXT NOT NULL\n",
    ")\n",
    "\"\"\")"
   ]
  },
  {
   "cell_type": "raw",
   "metadata": {},
   "source": [
    "cursor.execute(\"\"\"\n",
    "CREATE TABLE 'nanoparticles'(\n",
    "ID   INTEGER   PRIMARY KEY   AUTOINCREMENT,\n",
    "EXPERIMENT_ID  INTEGER NOT NULL,\n",
    "NP INTEGER NOT NULL,\n",
    "WAVELENGTH INTEGER NOT NULL,\n",
    "FILE TEXT NOT NULL,\n",
    "AR TEXT NOT NULL,\n",
    "COUNT TEXT NOT NULL,\n",
    "X REAL NOT NULL, \n",
    "Y REAL NOT NULL,\n",
    "CON REAL NOT NULL,\n",
    "INP  REAL NOT NULL,\n",
    "INPPX REAL NOT NULL,\n",
    "IBGPX REAL NOT NULL,\n",
    "STD REAL NOT NULL,\n",
    "stdX REAL NOT NULL,\n",
    "stdY REAL NOT NULL,\n",
    "stdCON REAL NOT NULL,\n",
    "stdINP REAL NOT NULL,\n",
    "stdINPPX REAL NOT NULL,\n",
    "stdIBGPX REAL NOT NULL,\n",
    "stdSTD REAL NOT NULL\n",
    ")\n",
    "\"\"\")"
   ]
  },
  {
   "cell_type": "raw",
   "metadata": {},
   "source": [
    "cursor.execute(\"\"\"\n",
    "CREATE TABLE 'measurements'(\n",
    "ID   INTEGER   PRIMARY KEY   AUTOINCREMENT,\n",
    "EXPERIMENT_ID  INTEGER NOT NULL,\n",
    "NP INTEGER NOT NULL,\n",
    "WAVELENGTH INTEGER NOT NULL,\n",
    "FILE TEXT NOT NULL,\n",
    "AR_TH REAL NOT NULL,\n",
    "AR_DIP REAL,\n",
    "AR_NOISE REAL,\n",
    "EXC_THS TEXT,\n",
    "RATE REAL,\n",
    "INFO TEXT,\n",
    "COUNT INT NOT NULL,\n",
    "X REAL NOT NULL, \n",
    "Y REAL NOT NULL,\n",
    "CON REAL NOT NULL,\n",
    "INP  REAL NOT NULL,\n",
    "INPPX REAL NOT NULL,\n",
    "IBGPX REAL NOT NULL,\n",
    "STD REAL NOT NULL,\n",
    "stdX REAL NOT NULL,\n",
    "stdY REAL NOT NULL,\n",
    "stdCON REAL NOT NULL,\n",
    "stdINP REAL NOT NULL,\n",
    "stdINPPX REAL NOT NULL,\n",
    "stdIBGPX REAL NOT NULL,\n",
    "stdSTD REAL NOT NULL)\n",
    "\"\"\")"
   ]
  },
  {
   "cell_type": "code",
   "execution_count": 27,
   "metadata": {},
   "outputs": [
    {
     "data": {
      "text/plain": [
       "<sqlite3.Cursor at 0x3e1a82d8f0>"
      ]
     },
     "execution_count": 27,
     "metadata": {},
     "output_type": "execute_result"
    }
   ],
   "source": [
    "cursor.execute(\"\"\"ALTER TABLE 'measurements' ADD COLUMN AR_MIN INT;\"\"\")\n",
    "cursor.execute(\"\"\"ALTER TABLE 'measurements' ADD COLUMN AR_COND INT;\"\"\")\n",
    "cursor.execute(\"\"\"ALTER TABLE 'measurements' ADD COLUMN EXP_TYPE TEXT;\"\"\")"
   ]
  },
  {
   "cell_type": "raw",
   "metadata": {},
   "source": [
    "cursor.execute(\"\"\"\n",
    "INSERT INTO  'diffraction_gratings' (CATEGORY, PERIOD, AMPLITUDE, MASTER)\n",
    "VALUES (600, 406, 45, 'M5')\n",
    "\"\"\")\n",
    "cursor.execute(\"\"\"\n",
    "INSERT INTO  'diffraction_gratings' (CATEGORY, PERIOD, AMPLITUDE, MASTER)\n",
    "VALUES (600, 406, 5345, 'P3')\n",
    "\"\"\")"
   ]
  },
  {
   "cell_type": "raw",
   "metadata": {},
   "source": [
    "cursor.execute(\"\"\"\n",
    "INSERT INTO  'experiments' (DATE, MASTER_ID, DIP, FOLDER)\n",
    "VALUES ('2020-02-25', 0, 598, '20_02_25_M5')\n",
    "\"\"\")\n",
    "cursor.execute(\"\"\"\n",
    "INSERT INTO  'experiments' (DATE, MASTER_ID, DIP, FOLDER)\n",
    "VALUES ('2020-02-25', 1, 615, '20_02_25_P3')\n",
    "\"\"\")"
   ]
  },
  {
   "cell_type": "raw",
   "metadata": {},
   "source": [
    "cursor.execute(\"\"\"\n",
    "INSERT INTO  'measurements' (EXPERIMENT_ID, NP, WAVELENGTH, FILE)\n",
    "VALUES (1, 80, 618, '01')\n",
    "\"\"\")\n",
    "cursor.execute(\"\"\"\n",
    "INSERT INTO  'measurements' (EXPERIMENT_ID, NP, WAVELENGTH, FILE)\n",
    "VALUES (1, 80, 620, '02')\n",
    "\"\"\")\n",
    "cursor.execute(\"\"\"\n",
    "INSERT INTO  'measurements' (EXPERIMENT_ID, NP, WAVELENGTH, FILE)\n",
    "VALUES (2, 80, 609, '01')\n",
    "\"\"\")\n",
    "cursor.execute(\"\"\"\n",
    "INSERT INTO  'measurements' (EXPERIMENT_ID, NP, WAVELENGTH, FILE)\n",
    "VALUES (2, 80, 630, '02')\n",
    "\"\"\")"
   ]
  },
  {
   "cell_type": "code",
   "execution_count": 10,
   "metadata": {},
   "outputs": [
    {
     "name": "stdin",
     "output_type": "stream",
     "text": [
      "Really? y/n y\n"
     ]
    }
   ],
   "source": [
    "dg.clear_all()"
   ]
  },
  {
   "cell_type": "code",
   "execution_count": 8,
   "metadata": {},
   "outputs": [
    {
     "name": "stdout",
     "output_type": "stream",
     "text": [
      "2\n",
      "2,\n"
     ]
    }
   ],
   "source": [
    "cursor = con.execute(\"\"\"\n",
    "SELECT ID from 'masters'\n",
    "WHERE MASTER == 'P3';\n",
    "\"\"\")\n",
    "\n",
    "for row in cursor:\n",
    "    print(row[0])\n",
    "    print(str(row).replace(', ', '\\t').replace(\"'\", \"\")[1:-1])\n"
   ]
  },
  {
   "cell_type": "code",
   "execution_count": 13,
   "metadata": {},
   "outputs": [
    {
     "name": "stdout",
     "output_type": "stream",
     "text": [
      "None\n"
     ]
    }
   ],
   "source": [
    "print(cursor.fetchone())"
   ]
  },
  {
   "cell_type": "code",
   "execution_count": null,
   "metadata": {},
   "outputs": [],
   "source": []
  }
 ],
 "metadata": {
  "kernelspec": {
   "display_name": "Python 3",
   "language": "python",
   "name": "python3"
  },
  "language_info": {
   "codemirror_mode": {
    "name": "ipython",
    "version": 3
   },
   "file_extension": ".py",
   "mimetype": "text/x-python",
   "name": "python",
   "nbconvert_exporter": "python",
   "pygments_lexer": "ipython3",
   "version": "3.7.4"
  }
 },
 "nbformat": 4,
 "nbformat_minor": 4
}
