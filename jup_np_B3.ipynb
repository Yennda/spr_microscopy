{
 "cells": [
  {
   "cell_type": "code",
   "execution_count": 1,
   "metadata": {},
   "outputs": [],
   "source": [
    "import numpy as np\n",
    "import matplotlib.pyplot as plt\n",
    "import np_info_analysis as na"
   ]
  },
  {
   "cell_type": "code",
   "execution_count": 10,
   "metadata": {},
   "outputs": [],
   "source": [
    "#600nm\n",
    "'''\n",
    "matlab colors\n",
    "#DD6734\n",
    "\n",
    "#0284C0\n",
    "'''\n",
    "red='#DD5544'\n",
    "blue='#0284C0'\n",
    "name='600'"
   ]
  },
  {
   "cell_type": "code",
   "execution_count": 11,
   "metadata": {},
   "outputs": [],
   "source": [
    "main_folder='C:/SPRUP_data_Jenda/2019_03_13_Jenda_microscopy/'\n",
    "folder=main_folder+'19_05_15_B3/export_np/'"
   ]
  },
  {
   "cell_type": "code",
   "execution_count": 12,
   "metadata": {},
   "outputs": [
    {
     "name": "stdout",
     "output_type": "stream",
     "text": [
      "position in dip\n",
      "no\tx\ty\tcx\tcy\tC\tstd\tint\trelBg\n",
      "02\t7.0\t7.7\t7.37\t6.97\t5.40\t0.00097\t0.02296\t0.00077\n",
      "n= 13\t2.4\t2.2\t3.43\t3.40\t2.27\t0.00013\t0.00957\t0.00011\n",
      "--------------------------------------------------------------------------------\n",
      "03\t7.2\t7.8\t5.37\t5.38\t4.12\t0.00091\t0.01891\t0.00071\n",
      "n= 9\t2.0\t2.0\t1.07\t1.68\t0.89\t0.00008\t0.00669\t0.00006\n",
      "--------------------------------------------------------------------------------\n",
      "04\t5.9\t5.6\t7.86\t7.69\t6.52\t0.00087\t0.01865\t0.00069\n",
      "n= 12\t2.1\t2.5\t1.72\t1.85\t1.65\t0.00017\t0.01192\t0.00015\n",
      "--------------------------------------------------------------------------------\n",
      "05\t6.3\t7.0\t5.62\t6.06\t5.06\t0.00101\t0.02069\t0.00079\n",
      "n= 13\t1.6\t2.4\t2.36\t2.47\t1.56\t0.00016\t0.00915\t0.00011\n",
      "--------------------------------------------------------------------------------\n",
      "01\t7.3\t7.3\t6.71\t7.56\t5.51\t0.00073\t0.01897\t0.00059\n",
      "n= 12\t1.9\t2.2\t2.41\t3.73\t2.21\t0.00009\t0.00592\t0.00007\n",
      "--------------------------------------------------------------------------------\n"
     ]
    }
   ],
   "source": [
    "nm=[2, 3, 4, 5, 1]\n",
    "files=[folder+'meas_diff_{:02.0f}_1'.format(f) for f in nm]\n",
    "# files+=[folder+'meas_diff_02_1',\n",
    "#         folder+'meas_diff_03_1',]\n",
    "print('position in dip')\n",
    "data=[]\n",
    "data_std=[]\n",
    "\n",
    "\n",
    "print('no\\tx\\ty\\tcx\\tcy\\tC\\tstd\\tint\\trelBg')\n",
    "for file in files: \n",
    "    info=na.readinfo(file)\n",
    "    info_stat=na.statistics(info)\n",
    "    data.append(info_stat[0])\n",
    "    data_std.append(info_stat[1])\n",
    "\n",
    "    print('{}\\t{:.01f}\\t{:.01f}\\t{:.02f}\\t{:.02f}\\t{:.02f}\\t{:.05f}\\t{:.05f}\\t{:.05f}'.format(file[-4:-2], *info_stat[0]))\n",
    "    print('n= {}\\t{:.01f}\\t{:.01f}\\t{:.02f}\\t{:.02f}\\t{:.02f}\\t{:.05f}\\t{:.05f}\\t{:.05f}'.format(info_stat[2], *info_stat[1]))\n",
    "    print(80*'-')"
   ]
  },
  {
   "cell_type": "code",
   "execution_count": 13,
   "metadata": {},
   "outputs": [
    {
     "data": {
      "image/png": "[encoded data removed]",
      "text/plain": [
       "<Figure size 432x288 with 2 Axes>"
      ]
     },
     "metadata": {
      "needs_background": "light"
     },
     "output_type": "display_data"
    }
   ],
   "source": [
    "wls=[608, 612, 614, 616, 617]\n",
    "con=[d[4] for d in data]\n",
    "con_std=[d[4] for d in data_std]\n",
    "inten=[d[6] for d in data]\n",
    "inten_std=[d[6] for d in data_std]\n",
    "area=[d[0]*d[1] for d in data]\n",
    "\n",
    "w=0.5\n",
    "\n",
    "fig = plt.figure()\n",
    "axes = fig.add_axes([0.1, 0.1, 0.8, 0.9])\n",
    "axes.grid('True')\n",
    "axes.set_title('Position in dip @'+name)\n",
    "axes.set_xlabel('wavelength [nm]')\n",
    "axes.set_ylabel('contrast', color=red)\n",
    "\n",
    "axesI = axes.twinx()\n",
    "axesI.set_ylabel('intensity', color=blue)\n",
    "\n",
    "axes.bar([s-w/2 for s in wls], con, w, yerr=con_std, color=red, label='x')\n",
    "\n",
    "axesI.bar([s+w/2 for s in wls], inten, w, yerr=inten_std, color=blue,label='y')\n",
    "fig.savefig('C:/Users/bukacek/Desktop/np_images/position_in_dip_'+name+'.png' , dpi=300,  bbox_inches='tight')"
   ]
  },
  {
   "cell_type": "code",
   "execution_count": 15,
   "metadata": {},
   "outputs": [
    {
     "data": {
      "image/png": "[encoded data removed]",
      "text/plain": [
       "<Figure size 432x288 with 2 Axes>"
      ]
     },
     "metadata": {
      "needs_background": "light"
     },
     "output_type": "display_data"
    }
   ],
   "source": [
    "con=[d[4] for d in data]\n",
    "inten=[d[6] for d in data]\n",
    "fig = plt.figure()\n",
    "axes = fig.add_axes([0.1, 0.1, 0.8, 0.9])\n",
    "axes.grid('True')\n",
    "axes.set_title('Position in the dip @'+name)\n",
    "axes.set_xlabel('wavelength [nm]')\n",
    "axes.set_ylabel('area [$\\mu m^2$]', color=red)\n",
    "\n",
    "w=0.5\n",
    "axesI = axes.twinx()\n",
    "axesI.set_ylabel('std', color=blue)\n",
    "\n",
    "# axes.plot(wls, area, color='red', label='x')\n",
    "# axesI.plot(wls, [d[5] for d in data], color='blue', label='y')\n",
    "axes.bar([s-w/2 for s in wls], area, w, color=red, label='x')\n",
    "\n",
    "axesI.bar([s+w/2 for s in wls], [d[5] for d in data], w, color=blue,label='y')\n",
    "fig.savefig('C:/Users/bukacek/Desktop/np_images/position_in_dip_area_std_'+name+'.png' , dpi=300,  bbox_inches='tight')"
   ]
  },
  {
   "cell_type": "code",
   "execution_count": 7,
   "metadata": {},
   "outputs": [
    {
     "name": "stdout",
     "output_type": "stream",
     "text": [
      "NP sizes, @756\n",
      "no\tx\ty\tcx\tcy\tC\tstd\tint\trelBg\n",
      "01\t7.3\t7.3\t6.71\t7.56\t5.51\t0.00073\t0.01897\t0.00059\n",
      "n= 12\t1.9\t2.2\t2.41\t3.73\t2.21\t0.00009\t0.00592\t0.00007\n",
      "--------------------------------------------------------------------------------\n",
      "06\t6.7\t7.5\t6.05\t6.40\t5.08\t0.00075\t0.01775\t0.00059\n",
      "n= 14\t2.3\t2.6\t1.65\t2.03\t1.29\t0.00009\t0.00944\t0.00007\n",
      "--------------------------------------------------------------------------------\n",
      "07\t5.7\t5.2\t7.53\t7.48\t6.41\t0.00083\t0.01311\t0.00067\n",
      "n= 18\t2.3\t2.1\t2.71\t2.76\t3.09\t0.00010\t0.00616\t0.00009\n",
      "--------------------------------------------------------------------------------\n",
      "08\t3.7\t3.2\t6.98\t7.15\t6.94\t0.00072\t0.00640\t0.00059\n",
      "n= 12\t1.7\t0.8\t2.69\t2.66\t2.72\t0.00009\t0.00523\t0.00008\n",
      "--------------------------------------------------------------------------------\n",
      "09\t4.3\t4.5\t5.07\t4.96\t4.73\t0.00077\t0.00622\t0.00062\n",
      "n= 11\t1.9\t1.9\t1.30\t1.44\t1.50\t0.00012\t0.00394\t0.00010\n",
      "--------------------------------------------------------------------------------\n",
      "10\t4.3\t4.1\t4.95\t5.26\t4.67\t0.00072\t0.00506\t0.00057\n",
      "n= 13\t1.5\t1.4\t1.45\t1.36\t1.29\t0.00009\t0.00204\t0.00008\n",
      "--------------------------------------------------------------------------------\n"
     ]
    }
   ],
   "source": [
    "nm=[1, 6, 7, 8, 9, 10]\n",
    "files=[folder+'meas_diff_{:02.0f}_1'.format(f) for f in nm]\n",
    "# files+=[folder+'meas_diff_02_1',\n",
    "#         folder+'meas_diff_03_1',]\n",
    "print('NP sizes, @756')\n",
    "data=[]\n",
    "data_std=[]\n",
    "\n",
    "print('no\\tx\\ty\\tcx\\tcy\\tC\\tstd\\tint\\trelBg')\n",
    "for file in files: \n",
    "    info=na.readinfo(file)\n",
    "    info_stat=na.statistics(info)\n",
    "    \n",
    "    data.append(info_stat[0])\n",
    "    data_std.append(info_stat[1])\n",
    "    info=na.readinfo(file)\n",
    "    info_stat=na.statistics(info)\n",
    "\n",
    "    print('{}\\t{:.01f}\\t{:.01f}\\t{:.02f}\\t{:.02f}\\t{:.02f}\\t{:.05f}\\t{:.05f}\\t{:.05f}'.format(file[-4:-2], *info_stat[0]))\n",
    "    print('n= {}\\t{:.01f}\\t{:.01f}\\t{:.02f}\\t{:.02f}\\t{:.02f}\\t{:.05f}\\t{:.05f}\\t{:.05f}'.format(info_stat[2], *info_stat[1]))\n",
    "    print(80*'-')"
   ]
  },
  {
   "cell_type": "code",
   "execution_count": 8,
   "metadata": {},
   "outputs": [
    {
     "data": {
      "image/png": "[encoded data removed]",
      "text/plain": [
       "<Figure size 432x288 with 2 Axes>"
      ]
     },
     "metadata": {
      "needs_background": "light"
     },
     "output_type": "display_data"
    }
   ],
   "source": [
    "sizes=[100, 80, 60, 40, 30, 20]\n",
    "con=[d[4] for d in data]\n",
    "con_std=[d[4] for d in data_std]\n",
    "inten=[d[6] for d in data]\n",
    "inten_std=[d[6] for d in data_std]\n",
    "area=[d[0]*d[1] for d in data]\n",
    "\n",
    "w=3\n",
    "\n",
    "fig = plt.figure()\n",
    "axes = fig.add_axes([0.1, 0.1, 0.8, 0.9])\n",
    "axes.grid('True')\n",
    "axes.set_title('NP sizes @600')\n",
    "axes.set_xlabel('NP size [nm]')\n",
    "axes.set_ylabel('contrast', color=red)\n",
    "\n",
    "axesI = axes.twinx()\n",
    "axesI.set_ylabel('intensity', color=blue)\n",
    "\n",
    "axes.bar([s-w/2 for s in sizes], con, w, yerr=con_std, color=red, label='x')\n",
    "\n",
    "axesI.bar([s+w/2 for s in sizes], inten, w, yerr=inten_std, color=blue,label='y')\n",
    "fig.savefig('C:/Users/bukacek/Desktop/np_images/NP_size_contrast_'+name+'.png' , dpi=300,  bbox_inches='tight')"
   ]
  },
  {
   "cell_type": "code",
   "execution_count": 9,
   "metadata": {},
   "outputs": [
    {
     "data": {
      "image/png": "[encoded data removed]",
      "text/plain": [
       "<Figure size 432x288 with 2 Axes>"
      ]
     },
     "metadata": {
      "needs_background": "light"
     },
     "output_type": "display_data"
    }
   ],
   "source": [
    "sizes=[100, 80, 60, 40, 30, 20]\n",
    "x=[d[0] for d in data]\n",
    "x_std=[d[0] for d in data_std]\n",
    "\n",
    "area=[d[0]*d[1] for d in data]\n",
    "area_std=[d[0]*d[1] for d in data_std]\n",
    "w=3\n",
    "\n",
    "fig = plt.figure()\n",
    "axes = fig.add_axes([0.1, 0.1, 0.8, 0.9])\n",
    "axes.grid('True')\n",
    "axes.set_title('NP sizes @600')\n",
    "axes.set_xlabel('NP size [nm]')\n",
    "axes.set_ylabel('x size', color=red)\n",
    "\n",
    "axesI = axes.twinx()\n",
    "axesI.set_ylabel('area [$\\mu m^2$]', color=blue)\n",
    "\n",
    "axes.bar([s-w/2 for s in sizes], x, w, yerr=x_std, color=red, label='x')\n",
    "\n",
    "axesI.bar([s+w/2 for s in sizes], area, w, color=blue,label='y')\n",
    "fig.savefig('C:/Users/bukacek/Desktop/np_images/NP_size_size_'+name+'.png' , dpi=300,  bbox_inches='tight')"
   ]
  },
  {
   "cell_type": "code",
   "execution_count": 10,
   "metadata": {},
   "outputs": [
    {
     "name": "stdout",
     "output_type": "stream",
     "text": [
      "focus x closer to sample NP100, NP80, @617\n",
      "no\tx\ty\tcx\tcy\tC\tstd\tint\trelBg\n",
      "01\t7.3\t7.3\t6.71\t7.56\t5.51\t0.00073\t0.01897\t0.00059\n",
      "n= 12\t1.9\t2.2\t2.41\t3.73\t2.21\t0.00009\t0.00592\t0.00007\n",
      "--------------------------------------------------------------------------------\n",
      "06\t6.7\t7.5\t6.05\t6.40\t5.08\t0.00075\t0.01775\t0.00059\n",
      "n= 14\t2.3\t2.6\t1.65\t2.03\t1.29\t0.00009\t0.00944\t0.00007\n",
      "--------------------------------------------------------------------------------\n",
      "07\t5.7\t5.2\t7.53\t7.48\t6.41\t0.00083\t0.01311\t0.00067\n",
      "n= 18\t2.3\t2.1\t2.71\t2.76\t3.09\t0.00010\t0.00616\t0.00009\n",
      "--------------------------------------------------------------------------------\n",
      "08\t3.7\t3.2\t6.98\t7.15\t6.94\t0.00072\t0.00640\t0.00059\n",
      "n= 12\t1.7\t0.8\t2.69\t2.66\t2.72\t0.00009\t0.00523\t0.00008\n",
      "--------------------------------------------------------------------------------\n",
      "11\t22.0\t22.3\t2.53\t2.40\t1.78\t0.00076\t0.04126\t0.00062\n",
      "n= 18\t4.6\t5.1\t0.65\t0.60\t0.27\t0.00008\t0.01463\t0.00007\n",
      "--------------------------------------------------------------------------------\n",
      "12\t18.5\t19.2\t3.20\t3.15\t2.24\t0.00072\t0.04018\t0.00058\n",
      "n= 13\t3.5\t4.7\t0.75\t0.95\t0.40\t0.00009\t0.01234\t0.00009\n",
      "--------------------------------------------------------------------------------\n",
      "13\t17.9\t18.2\t2.24\t2.19\t1.75\t0.00089\t0.02651\t0.00074\n",
      "n= 10\t4.6\t7.0\t0.81\t0.78\t0.46\t0.00015\t0.01166\t0.00011\n",
      "--------------------------------------------------------------------------------\n",
      "14\t18.9\t14.9\t2.09\t1.93\t1.53\t0.00067\t0.01433\t0.00054\n",
      "n= 11\t4.6\t3.4\t0.93\t1.13\t0.50\t0.00008\t0.00933\t0.00006\n",
      "--------------------------------------------------------------------------------\n"
     ]
    }
   ],
   "source": [
    "nm=[1,6, 7, 8]\n",
    "nm+=[11, 12, 13, 14]\n",
    "files=[folder+'meas_diff_{:02.0f}_1'.format(f) for f in nm]\n",
    "# files+=[folder+'meas_diff_02_1',\n",
    "#         folder+'meas_diff_03_1',]\n",
    "print('focus x closer to sample NP100, NP80, @617')\n",
    "data=[]\n",
    "data_std=[]\n",
    "\n",
    "print('no\\tx\\ty\\tcx\\tcy\\tC\\tstd\\tint\\trelBg')\n",
    "for file in files: \n",
    "    info=na.readinfo(file)\n",
    "    info_stat=na.statistics(info)\n",
    "    data.append(info_stat[0])\n",
    "    data_std.append(info_stat[1])\n",
    "\n",
    "    print('{}\\t{:.01f}\\t{:.01f}\\t{:.02f}\\t{:.02f}\\t{:.02f}\\t{:.05f}\\t{:.05f}\\t{:.05f}'.format(file[-4:-2], *info_stat[0]))\n",
    "    print('n= {}\\t{:.01f}\\t{:.01f}\\t{:.02f}\\t{:.02f}\\t{:.02f}\\t{:.05f}\\t{:.05f}\\t{:.05f}'.format(info_stat[2], *info_stat[1]))\n",
    "    print(80*'-')"
   ]
  },
  {
   "cell_type": "code",
   "execution_count": 11,
   "metadata": {},
   "outputs": [
    {
     "data": {
      "image/png": "[encoded data removed]",
      "text/plain": [
       "<Figure size 432x288 with 1 Axes>"
      ]
     },
     "metadata": {
      "needs_background": "light"
     },
     "output_type": "display_data"
    }
   ],
   "source": [
    "sizes=[100, 80, 60, 40]\n",
    "con=[d[4] for d in data]\n",
    "con_std=[d[4] for d in data_std]\n",
    "inten=[d[6] for d in data]\n",
    "inten_std=[d[6] for d in data_std]\n",
    "area=[d[0]*d[1] for d in data]\n",
    "\n",
    "w=3\n",
    "\n",
    "fig = plt.figure()\n",
    "axes = fig.add_axes([0.1, 0.1, 0.8, 0.9])\n",
    "axes.grid('True')\n",
    "axes.set_title('Position in dip')\n",
    "axes.set_xlabel('NP size [nm]')\n",
    "axes.set_ylabel('contrast', color=red)\n",
    "\n",
    "# axesI = axes.twinx()\n",
    "# axesI.set_ylabel('intensity', color=blue)\n",
    "\n",
    "axes.bar([s-w/2 for s in sizes], con[:len(sizes)], w, yerr=con_std[:len(sizes)], color=red, label='in focus')\n",
    "axes.bar([s+w/2 for s in sizes], con[len(sizes):], w, yerr=con_std[len(sizes):], color=blue, label='out of')\n",
    "axes.legend(loc=2)\n",
    "# axesI.bar([s+w/2 for s in sizes], inten[:3], w, yerr=inten_std[:3], color=blue,label='y')\n",
    "fig.savefig('C:/Users/bukacek/Desktop/np_images/NP_size_contrast_'+name+'.png' , dpi=300,  bbox_inches='tight')"
   ]
  },
  {
   "cell_type": "code",
   "execution_count": 12,
   "metadata": {},
   "outputs": [
    {
     "data": {
      "image/png": "[encoded data removed]",
      "text/plain": [
       "<Figure size 432x288 with 1 Axes>"
      ]
     },
     "metadata": {
      "needs_background": "light"
     },
     "output_type": "display_data"
    }
   ],
   "source": [
    "sizes=[100, 80, 60, 40]\n",
    "std=[d[5] for d in data]\n",
    "std_std=[d[5] for d in data_std]\n",
    "inten=[d[6] for d in data]\n",
    "inten_std=[d[6] for d in data_std]\n",
    "area=[d[0]*d[1] for d in data]\n",
    "\n",
    "w=3\n",
    "\n",
    "fig = plt.figure()\n",
    "axes = fig.add_axes([0.1, 0.1, 0.8, 0.9])\n",
    "axes.grid('True')\n",
    "axes.set_title('Position in dip')\n",
    "axes.set_xlabel('NP size [nm]')\n",
    "axes.set_ylabel('contrast', color=red)\n",
    "\n",
    "# axesI = axes.twinx()\n",
    "# axesI.set_ylabel('intensity', color=blue)\n",
    "\n",
    "axes.bar([s-w/2 for s in sizes], std[:len(sizes)], w, yerr=std_std[:len(sizes)], color=red, label='in focus')\n",
    "axes.bar([s+w/2 for s in sizes], std[len(sizes):], w, yerr=std_std[len(sizes):], color=blue, label='out of')\n",
    "axes.legend(loc=2)\n",
    "# axesI.bar([s+w/2 for s in sizes], inten[:3], w, yerr=inten_std[:3], color=blue,label='y')\n",
    "fig.savefig('C:/Users/bukacek/Desktop/np_images/NP_size_contrast_'+name+'.png' , dpi=300,  bbox_inches='tight')"
   ]
  },
  {
   "cell_type": "code",
   "execution_count": null,
   "metadata": {},
   "outputs": [],
   "source": []
  }
 ],
 "metadata": {
  "kernelspec": {
   "display_name": "Python 3",
   "language": "python",
   "name": "python3"
  },
  "language_info": {
   "codemirror_mode": {
    "name": "ipython",
    "version": 3
   },
   "file_extension": ".py",
   "mimetype": "text/x-python",
   "name": "python",
   "nbconvert_exporter": "python",
   "pygments_lexer": "ipython3",
   "version": "3.7.1"
  }
 },
 "nbformat": 4,
 "nbformat_minor": 2
}
